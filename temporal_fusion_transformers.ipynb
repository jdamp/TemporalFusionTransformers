{
 "cells": [
  {
   "cell_type": "raw",
   "metadata": {
    "tags": [
     "remove_cell"
    ]
   },
   "source": [
    "---\n",
    "title: \"Experimenting with TFT\"\n",
    "author: Douglas Araujo\n",
    "format: \n",
    "    html:\n",
    "        toc: true\n",
    "        toc-location: right\n",
    "        toc-depth: 4\n",
    "        number-sections: true\n",
    "        code-fold: true\n",
    "        code-tools: true\n",
    "        embed-resources: true\n",
    "bibliography: ref.bib\n",
    "---"
   ]
  },
  {
   "cell_type": "markdown",
   "metadata": {},
   "source": [
    "This notebook describes the temporal fusion transformers [@lim2021temporal] architecture, and ports it over to keras 3 while making some punctual improvements, including bringing the notation closer to the one in the paper.\n",
    "\n",
    "The original repository is [here](https://github.com/google-research/google-research/tree/master/tft)."
   ]
  },
  {
   "cell_type": "code",
   "execution_count": 2,
   "metadata": {},
   "outputs": [],
   "source": [
    "# | output: false\n",
    "\n",
    "from __future__ import annotations\n",
    "\n",
    "import os\n",
    "import torch\n",
    "\n",
    "os.environ[\"KERAS_BACKEND\"] = \"torch\"\n",
    "# os.environ[\"CUDA_VISIBLE_DEVICES\"] = \"1\"\n",
    "import keras\n",
    "from keras import layers\n",
    "\n",
    "import matplotlib.pyplot as plt\n",
    "import numpy as np\n",
    "import pandas as pd\n",
    "import random\n",
    "\n",
    "from datetime import timedelta\n",
    "from dateutil.relativedelta import relativedelta\n",
    "from fastcore import docments\n",
    "from nbdev.showdoc import show_doc\n",
    "from sklearn.preprocessing import StandardScaler\n",
    "from torch.utils.data import Dataset, DataLoader\n",
    "from tqdm import tqdm"
   ]
  },
  {
   "cell_type": "markdown",
   "metadata": {},
   "source": [
    "# Introduction"
   ]
  },
  {
   "cell_type": "markdown",
   "metadata": {},
   "source": [
    "The main characteristics of TFT that make it interesting for nowcasting or forecasting purposes are:\n",
    "\n",
    "- **multi-horizon forecasting**: the ability to output, at each point in time $t$, a sequence of forecasts for $t+h, h > 1$\n",
    "- **quantile prediction**: each forecast is accompanied by a quantile band that communicates the amount of uncertainty around a prediction\n",
    "- **flexible use of different types of inputs**: static inputs (akin to fixed effects), historical input and known future input (eg, important holidays, years that are known to have major sports events such as Olympic games, etc)\n",
    "- **interpretability**: the model learns to select variables from the space of all input variables to retain only those that are globally meaningful, to assign attention to different parts of the time series, and to identify events of significance\n",
    "\n",
    "## Main innovations\n",
    "\n",
    "The present model includes the following innovations:\n",
    "\n",
    "- **Multi-frequency input**\n",
    "\n",
    "- **Context enhancement from lagged target**: the last known values of the target variable are embedded (bag of observations), and this embedding is used similar to the static context enhancement as a starting point for the cell value in the *decoder* LSTM."
   ]
  },
  {
   "cell_type": "markdown",
   "metadata": {},
   "source": [
    "# Preparing the data\n",
    "\n",
    "The functions below will be tested with simulated and real data. The former helps to illustrate issues like dimensions and overall behaviour of a layer, whereas the latter will demonstrate on a real setting in economics how the input and output data relate to one another.\n",
    "\n",
    "More specifically, the real data used will be a daily nowcasting exercise of monthly inflation. Note that the models will not necessarily perform well, since their use here is for illustration purposes and thus they are not optimised. Also, the dataset is not an ideal one for nowcasting: other variables could also be considered."
   ]
  },
  {
   "cell_type": "markdown",
   "metadata": {},
   "source": [
    "## Download economic data\n",
    "\n",
    "This is a panel dataset. In addition to the time dimension, it can contain any number of categorical dimensions - for example, combine country and sector."
   ]
  },
  {
   "cell_type": "markdown",
   "metadata": {},
   "source": [
    "## Prepare data"
   ]
  },
  {
   "cell_type": "code",
   "execution_count": 3,
   "metadata": {},
   "outputs": [],
   "source": [
    "data_path = r\"L:\\MED\\TRAN\\2021_Nowcasting\\data\\dataset_new\\nowcast_dataset_complete_May-28-2024.csv\"\n",
    "\n",
    "countries = [\"CA\", \"CH\", \"DE\", \"FR\", \"GB\", \"IN\", \"JP\", \"US\"]\n",
    "\n",
    "\n",
    "columns = [\n",
    "    \"equity\",\n",
    "    \"fx\",\n",
    "    \"Cab\",\n",
    "    \"ShortGovYield\",\n",
    "    \"LongGovYield\",\n",
    "    \"UnempRate\",\n",
    "    \"neer\",\n",
    "    \"policyRate\",\n",
    "    \"energy\",\n",
    "    \"food\",\n",
    "    \"metal\",\n",
    "]\n",
    "\n",
    "\n",
    "start_date = \"1980-01-01\"\n",
    "\n",
    "variables = {\n",
    "    \"d\": [\n",
    "        \"banksPriceIdx\",\n",
    "        \"policyRate\",\n",
    "        \"LongGovYield\",  # no values for AU and IN\n",
    "        \"ShortGovYield\",  # no values for AU and IN\n",
    "        \"equity\",\n",
    "        \"equityPE\",\n",
    "        \"equityVol\",\n",
    "        \"fx\",\n",
    "        \"neer\",\n",
    "        \"brent\",\n",
    "        \"lmex\",\n",
    "        \"crbFood\",\n",
    "        \"OAScorpSpreadIG\",\n",
    "        \"OAScorpSpreadHY\",\n",
    "        \"gsFci\",\n",
    "        \"gvtBondYld10y\",\n",
    "        \"gvtBondYld3m\",\n",
    "        \"gvtBondYld1y\",\n",
    "        \"gvtBondYld2y\",  # only values for AU and IN\n",
    "    ],\n",
    "    \"m\": [\n",
    "        \"energy\",\n",
    "        \"nonFuel\",\n",
    "        \"food\",\n",
    "        \"metal\",\n",
    "        \"retailSales\",\n",
    "        \"CPIh\",\n",
    "        \"CPIhLong\",\n",
    "        \"ip\",\n",
    "        \"UnempRate\",\n",
    "        \"m3sa\",\n",
    "        \"m1\",\n",
    "        \"OecdLeadingInd\",\n",
    "        \"FXres\",\n",
    "        \"pmiMan\",\n",
    "        \"pmiSer\",\n",
    "        # \"pmiWhe\",\n",
    "        \"pmiCom\",\n",
    "        \"EPFRbond\",\n",
    "        \"EPFRequity\",\n",
    "        \"banking_crisis\",\n",
    "    ],\n",
    "    \"q\": [\n",
    "        \"GDP\",\n",
    "        \"Consumption\",\n",
    "        \"Gfcf\",\n",
    "        # \"EmpRate\",\n",
    "        \"creditTOT2GDP\",\n",
    "        \"creditHH2GDP\",\n",
    "        \"creditNFC2GDP\",\n",
    "        \"creditGVT2GDP\",\n",
    "        \"creditTOT\",\n",
    "        \"creditHH\",\n",
    "        \"creditNFC\",\n",
    "        \"creditGVT\",\n",
    "        \"credit2GDPgap\",\n",
    "        \"credit2GDPtrend\",\n",
    "        \"dsrHHlong\",\n",
    "        \"dsrTOTlong\",\n",
    "        \"dsrNFClong\",\n",
    "        \"LBSbankLiab\",\n",
    "        \"PortInvFlow\",\n",
    "        \"PortInvLiab\",\n",
    "        \"PortInvAsset\",\n",
    "        \"PortInvLiabNet\",\n",
    "        \"resPrice\",\n",
    "        \"resPriceReal\",\n",
    "        \"Cab\",\n",
    "    ],\n",
    "}"
   ]
  },
  {
   "cell_type": "code",
   "execution_count": 4,
   "metadata": {},
   "outputs": [],
   "source": [
    "from nowcastml.data.load import load_multi_freq_data, build_target_frames"
   ]
  },
  {
   "cell_type": "code",
   "execution_count": 5,
   "metadata": {},
   "outputs": [
    {
     "name": "stdout",
     "output_type": "stream",
     "text": [
      "Frequency: d\n"
     ]
    },
    {
     "data": {
      "text/html": [
       "<div>\n",
       "<style scoped>\n",
       "    .dataframe tbody tr th:only-of-type {\n",
       "        vertical-align: middle;\n",
       "    }\n",
       "\n",
       "    .dataframe tbody tr th {\n",
       "        vertical-align: top;\n",
       "    }\n",
       "\n",
       "    .dataframe thead th {\n",
       "        text-align: right;\n",
       "    }\n",
       "</style>\n",
       "<table border=\"1\" class=\"dataframe\">\n",
       "  <thead>\n",
       "    <tr style=\"text-align: right;\">\n",
       "      <th></th>\n",
       "      <th>banksPriceIdx__CA</th>\n",
       "      <th>banksPriceIdx__CH</th>\n",
       "      <th>banksPriceIdx__DE</th>\n",
       "      <th>banksPriceIdx__FR</th>\n",
       "      <th>banksPriceIdx__GB</th>\n",
       "      <th>banksPriceIdx__IN</th>\n",
       "      <th>banksPriceIdx__JP</th>\n",
       "      <th>banksPriceIdx__US</th>\n",
       "      <th>policyRate__CA</th>\n",
       "      <th>policyRate__CH</th>\n",
       "      <th>...</th>\n",
       "      <th>gvtBondYld1y__JP</th>\n",
       "      <th>gvtBondYld1y__US</th>\n",
       "      <th>gvtBondYld2y__CA</th>\n",
       "      <th>gvtBondYld2y__CH</th>\n",
       "      <th>gvtBondYld2y__DE</th>\n",
       "      <th>gvtBondYld2y__FR</th>\n",
       "      <th>gvtBondYld2y__GB</th>\n",
       "      <th>gvtBondYld2y__IN</th>\n",
       "      <th>gvtBondYld2y__JP</th>\n",
       "      <th>gvtBondYld2y__US</th>\n",
       "    </tr>\n",
       "    <tr>\n",
       "      <th>index</th>\n",
       "      <th></th>\n",
       "      <th></th>\n",
       "      <th></th>\n",
       "      <th></th>\n",
       "      <th></th>\n",
       "      <th></th>\n",
       "      <th></th>\n",
       "      <th></th>\n",
       "      <th></th>\n",
       "      <th></th>\n",
       "      <th></th>\n",
       "      <th></th>\n",
       "      <th></th>\n",
       "      <th></th>\n",
       "      <th></th>\n",
       "      <th></th>\n",
       "      <th></th>\n",
       "      <th></th>\n",
       "      <th></th>\n",
       "      <th></th>\n",
       "      <th></th>\n",
       "    </tr>\n",
       "  </thead>\n",
       "  <tbody>\n",
       "    <tr>\n",
       "      <th>1980-01-01</th>\n",
       "      <td>137.95</td>\n",
       "      <td>198.41</td>\n",
       "      <td>95.88</td>\n",
       "      <td>NaN</td>\n",
       "      <td>356.13</td>\n",
       "      <td>NaN</td>\n",
       "      <td>81.24</td>\n",
       "      <td>75.19</td>\n",
       "      <td>14.0</td>\n",
       "      <td>2.0</td>\n",
       "      <td>...</td>\n",
       "      <td>NaN</td>\n",
       "      <td>NaN</td>\n",
       "      <td>NaN</td>\n",
       "      <td>NaN</td>\n",
       "      <td>NaN</td>\n",
       "      <td>NaN</td>\n",
       "      <td>NaN</td>\n",
       "      <td>NaN</td>\n",
       "      <td>NaN</td>\n",
       "      <td>NaN</td>\n",
       "    </tr>\n",
       "    <tr>\n",
       "      <th>1980-01-02</th>\n",
       "      <td>137.33</td>\n",
       "      <td>198.41</td>\n",
       "      <td>94.25</td>\n",
       "      <td>NaN</td>\n",
       "      <td>350.96</td>\n",
       "      <td>NaN</td>\n",
       "      <td>81.24</td>\n",
       "      <td>75.01</td>\n",
       "      <td>14.0</td>\n",
       "      <td>2.0</td>\n",
       "      <td>...</td>\n",
       "      <td>NaN</td>\n",
       "      <td>NaN</td>\n",
       "      <td>NaN</td>\n",
       "      <td>NaN</td>\n",
       "      <td>NaN</td>\n",
       "      <td>NaN</td>\n",
       "      <td>NaN</td>\n",
       "      <td>NaN</td>\n",
       "      <td>NaN</td>\n",
       "      <td>NaN</td>\n",
       "    </tr>\n",
       "    <tr>\n",
       "      <th>1980-01-03</th>\n",
       "      <td>134.61</td>\n",
       "      <td>198.63</td>\n",
       "      <td>93.21</td>\n",
       "      <td>NaN</td>\n",
       "      <td>350.20</td>\n",
       "      <td>NaN</td>\n",
       "      <td>81.24</td>\n",
       "      <td>74.51</td>\n",
       "      <td>14.0</td>\n",
       "      <td>2.0</td>\n",
       "      <td>...</td>\n",
       "      <td>NaN</td>\n",
       "      <td>NaN</td>\n",
       "      <td>NaN</td>\n",
       "      <td>NaN</td>\n",
       "      <td>NaN</td>\n",
       "      <td>NaN</td>\n",
       "      <td>NaN</td>\n",
       "      <td>NaN</td>\n",
       "      <td>NaN</td>\n",
       "      <td>NaN</td>\n",
       "    </tr>\n",
       "    <tr>\n",
       "      <th>1980-01-04</th>\n",
       "      <td>134.82</td>\n",
       "      <td>197.23</td>\n",
       "      <td>94.55</td>\n",
       "      <td>NaN</td>\n",
       "      <td>352.89</td>\n",
       "      <td>NaN</td>\n",
       "      <td>81.44</td>\n",
       "      <td>74.95</td>\n",
       "      <td>14.0</td>\n",
       "      <td>2.0</td>\n",
       "      <td>...</td>\n",
       "      <td>NaN</td>\n",
       "      <td>NaN</td>\n",
       "      <td>NaN</td>\n",
       "      <td>NaN</td>\n",
       "      <td>NaN</td>\n",
       "      <td>NaN</td>\n",
       "      <td>NaN</td>\n",
       "      <td>NaN</td>\n",
       "      <td>NaN</td>\n",
       "      <td>NaN</td>\n",
       "    </tr>\n",
       "    <tr>\n",
       "      <th>1980-01-07</th>\n",
       "      <td>133.28</td>\n",
       "      <td>195.98</td>\n",
       "      <td>94.68</td>\n",
       "      <td>NaN</td>\n",
       "      <td>351.10</td>\n",
       "      <td>NaN</td>\n",
       "      <td>81.73</td>\n",
       "      <td>75.29</td>\n",
       "      <td>14.0</td>\n",
       "      <td>2.0</td>\n",
       "      <td>...</td>\n",
       "      <td>NaN</td>\n",
       "      <td>NaN</td>\n",
       "      <td>NaN</td>\n",
       "      <td>NaN</td>\n",
       "      <td>NaN</td>\n",
       "      <td>NaN</td>\n",
       "      <td>NaN</td>\n",
       "      <td>NaN</td>\n",
       "      <td>NaN</td>\n",
       "      <td>NaN</td>\n",
       "    </tr>\n",
       "    <tr>\n",
       "      <th>...</th>\n",
       "      <td>...</td>\n",
       "      <td>...</td>\n",
       "      <td>...</td>\n",
       "      <td>...</td>\n",
       "      <td>...</td>\n",
       "      <td>...</td>\n",
       "      <td>...</td>\n",
       "      <td>...</td>\n",
       "      <td>...</td>\n",
       "      <td>...</td>\n",
       "      <td>...</td>\n",
       "      <td>...</td>\n",
       "      <td>...</td>\n",
       "      <td>...</td>\n",
       "      <td>...</td>\n",
       "      <td>...</td>\n",
       "      <td>...</td>\n",
       "      <td>...</td>\n",
       "      <td>...</td>\n",
       "      <td>...</td>\n",
       "      <td>...</td>\n",
       "    </tr>\n",
       "    <tr>\n",
       "      <th>2024-05-22</th>\n",
       "      <td>4995.78</td>\n",
       "      <td>474.19</td>\n",
       "      <td>99.82</td>\n",
       "      <td>570.25</td>\n",
       "      <td>3486.68</td>\n",
       "      <td>51240.06</td>\n",
       "      <td>286.49</td>\n",
       "      <td>1719.08</td>\n",
       "      <td>5.0</td>\n",
       "      <td>1.5</td>\n",
       "      <td>...</td>\n",
       "      <td>NaN</td>\n",
       "      <td>NaN</td>\n",
       "      <td>NaN</td>\n",
       "      <td>NaN</td>\n",
       "      <td>NaN</td>\n",
       "      <td>NaN</td>\n",
       "      <td>NaN</td>\n",
       "      <td>7.007</td>\n",
       "      <td>NaN</td>\n",
       "      <td>NaN</td>\n",
       "    </tr>\n",
       "    <tr>\n",
       "      <th>2024-05-23</th>\n",
       "      <td>4963.76</td>\n",
       "      <td>472.41</td>\n",
       "      <td>99.48</td>\n",
       "      <td>569.13</td>\n",
       "      <td>3475.54</td>\n",
       "      <td>52225.39</td>\n",
       "      <td>287.18</td>\n",
       "      <td>1693.97</td>\n",
       "      <td>5.0</td>\n",
       "      <td>1.5</td>\n",
       "      <td>...</td>\n",
       "      <td>NaN</td>\n",
       "      <td>NaN</td>\n",
       "      <td>NaN</td>\n",
       "      <td>NaN</td>\n",
       "      <td>NaN</td>\n",
       "      <td>NaN</td>\n",
       "      <td>NaN</td>\n",
       "      <td>NaN</td>\n",
       "      <td>NaN</td>\n",
       "      <td>NaN</td>\n",
       "    </tr>\n",
       "    <tr>\n",
       "      <th>2024-05-24</th>\n",
       "      <td>5001.01</td>\n",
       "      <td>469.62</td>\n",
       "      <td>100.88</td>\n",
       "      <td>569.81</td>\n",
       "      <td>3476.96</td>\n",
       "      <td>52370.55</td>\n",
       "      <td>287.28</td>\n",
       "      <td>1716.42</td>\n",
       "      <td>5.0</td>\n",
       "      <td>1.5</td>\n",
       "      <td>...</td>\n",
       "      <td>NaN</td>\n",
       "      <td>NaN</td>\n",
       "      <td>NaN</td>\n",
       "      <td>NaN</td>\n",
       "      <td>NaN</td>\n",
       "      <td>NaN</td>\n",
       "      <td>NaN</td>\n",
       "      <td>6.984</td>\n",
       "      <td>NaN</td>\n",
       "      <td>NaN</td>\n",
       "    </tr>\n",
       "    <tr>\n",
       "      <th>2024-05-27</th>\n",
       "      <td>5002.64</td>\n",
       "      <td>471.40</td>\n",
       "      <td>100.58</td>\n",
       "      <td>569.14</td>\n",
       "      <td>3476.96</td>\n",
       "      <td>52983.55</td>\n",
       "      <td>290.31</td>\n",
       "      <td>1716.42</td>\n",
       "      <td>NaN</td>\n",
       "      <td>1.5</td>\n",
       "      <td>...</td>\n",
       "      <td>NaN</td>\n",
       "      <td>NaN</td>\n",
       "      <td>NaN</td>\n",
       "      <td>NaN</td>\n",
       "      <td>NaN</td>\n",
       "      <td>NaN</td>\n",
       "      <td>NaN</td>\n",
       "      <td>7.009</td>\n",
       "      <td>NaN</td>\n",
       "      <td>NaN</td>\n",
       "    </tr>\n",
       "    <tr>\n",
       "      <th>2024-05-28</th>\n",
       "      <td>NaN</td>\n",
       "      <td>NaN</td>\n",
       "      <td>NaN</td>\n",
       "      <td>NaN</td>\n",
       "      <td>NaN</td>\n",
       "      <td>NaN</td>\n",
       "      <td>NaN</td>\n",
       "      <td>NaN</td>\n",
       "      <td>NaN</td>\n",
       "      <td>NaN</td>\n",
       "      <td>...</td>\n",
       "      <td>NaN</td>\n",
       "      <td>NaN</td>\n",
       "      <td>NaN</td>\n",
       "      <td>NaN</td>\n",
       "      <td>NaN</td>\n",
       "      <td>NaN</td>\n",
       "      <td>NaN</td>\n",
       "      <td>NaN</td>\n",
       "      <td>NaN</td>\n",
       "      <td>NaN</td>\n",
       "    </tr>\n",
       "  </tbody>\n",
       "</table>\n",
       "<p>11586 rows × 152 columns</p>\n",
       "</div>"
      ],
      "text/plain": [
       "            banksPriceIdx__CA  banksPriceIdx__CH  banksPriceIdx__DE  \\\n",
       "index                                                                 \n",
       "1980-01-01             137.95             198.41              95.88   \n",
       "1980-01-02             137.33             198.41              94.25   \n",
       "1980-01-03             134.61             198.63              93.21   \n",
       "1980-01-04             134.82             197.23              94.55   \n",
       "1980-01-07             133.28             195.98              94.68   \n",
       "...                       ...                ...                ...   \n",
       "2024-05-22            4995.78             474.19              99.82   \n",
       "2024-05-23            4963.76             472.41              99.48   \n",
       "2024-05-24            5001.01             469.62             100.88   \n",
       "2024-05-27            5002.64             471.40             100.58   \n",
       "2024-05-28                NaN                NaN                NaN   \n",
       "\n",
       "            banksPriceIdx__FR  banksPriceIdx__GB  banksPriceIdx__IN  \\\n",
       "index                                                                 \n",
       "1980-01-01                NaN             356.13                NaN   \n",
       "1980-01-02                NaN             350.96                NaN   \n",
       "1980-01-03                NaN             350.20                NaN   \n",
       "1980-01-04                NaN             352.89                NaN   \n",
       "1980-01-07                NaN             351.10                NaN   \n",
       "...                       ...                ...                ...   \n",
       "2024-05-22             570.25            3486.68           51240.06   \n",
       "2024-05-23             569.13            3475.54           52225.39   \n",
       "2024-05-24             569.81            3476.96           52370.55   \n",
       "2024-05-27             569.14            3476.96           52983.55   \n",
       "2024-05-28                NaN                NaN                NaN   \n",
       "\n",
       "            banksPriceIdx__JP  banksPriceIdx__US  policyRate__CA  \\\n",
       "index                                                              \n",
       "1980-01-01              81.24              75.19            14.0   \n",
       "1980-01-02              81.24              75.01            14.0   \n",
       "1980-01-03              81.24              74.51            14.0   \n",
       "1980-01-04              81.44              74.95            14.0   \n",
       "1980-01-07              81.73              75.29            14.0   \n",
       "...                       ...                ...             ...   \n",
       "2024-05-22             286.49            1719.08             5.0   \n",
       "2024-05-23             287.18            1693.97             5.0   \n",
       "2024-05-24             287.28            1716.42             5.0   \n",
       "2024-05-27             290.31            1716.42             NaN   \n",
       "2024-05-28                NaN                NaN             NaN   \n",
       "\n",
       "            policyRate__CH  ...  gvtBondYld1y__JP  gvtBondYld1y__US  \\\n",
       "index                       ...                                       \n",
       "1980-01-01             2.0  ...               NaN               NaN   \n",
       "1980-01-02             2.0  ...               NaN               NaN   \n",
       "1980-01-03             2.0  ...               NaN               NaN   \n",
       "1980-01-04             2.0  ...               NaN               NaN   \n",
       "1980-01-07             2.0  ...               NaN               NaN   \n",
       "...                    ...  ...               ...               ...   \n",
       "2024-05-22             1.5  ...               NaN               NaN   \n",
       "2024-05-23             1.5  ...               NaN               NaN   \n",
       "2024-05-24             1.5  ...               NaN               NaN   \n",
       "2024-05-27             1.5  ...               NaN               NaN   \n",
       "2024-05-28             NaN  ...               NaN               NaN   \n",
       "\n",
       "            gvtBondYld2y__CA  gvtBondYld2y__CH  gvtBondYld2y__DE  \\\n",
       "index                                                              \n",
       "1980-01-01               NaN               NaN               NaN   \n",
       "1980-01-02               NaN               NaN               NaN   \n",
       "1980-01-03               NaN               NaN               NaN   \n",
       "1980-01-04               NaN               NaN               NaN   \n",
       "1980-01-07               NaN               NaN               NaN   \n",
       "...                      ...               ...               ...   \n",
       "2024-05-22               NaN               NaN               NaN   \n",
       "2024-05-23               NaN               NaN               NaN   \n",
       "2024-05-24               NaN               NaN               NaN   \n",
       "2024-05-27               NaN               NaN               NaN   \n",
       "2024-05-28               NaN               NaN               NaN   \n",
       "\n",
       "            gvtBondYld2y__FR  gvtBondYld2y__GB  gvtBondYld2y__IN  \\\n",
       "index                                                              \n",
       "1980-01-01               NaN               NaN               NaN   \n",
       "1980-01-02               NaN               NaN               NaN   \n",
       "1980-01-03               NaN               NaN               NaN   \n",
       "1980-01-04               NaN               NaN               NaN   \n",
       "1980-01-07               NaN               NaN               NaN   \n",
       "...                      ...               ...               ...   \n",
       "2024-05-22               NaN               NaN             7.007   \n",
       "2024-05-23               NaN               NaN               NaN   \n",
       "2024-05-24               NaN               NaN             6.984   \n",
       "2024-05-27               NaN               NaN             7.009   \n",
       "2024-05-28               NaN               NaN               NaN   \n",
       "\n",
       "            gvtBondYld2y__JP  gvtBondYld2y__US  \n",
       "index                                           \n",
       "1980-01-01               NaN               NaN  \n",
       "1980-01-02               NaN               NaN  \n",
       "1980-01-03               NaN               NaN  \n",
       "1980-01-04               NaN               NaN  \n",
       "1980-01-07               NaN               NaN  \n",
       "...                      ...               ...  \n",
       "2024-05-22               NaN               NaN  \n",
       "2024-05-23               NaN               NaN  \n",
       "2024-05-24               NaN               NaN  \n",
       "2024-05-27               NaN               NaN  \n",
       "2024-05-28               NaN               NaN  \n",
       "\n",
       "[11586 rows x 152 columns]"
      ]
     },
     "metadata": {},
     "output_type": "display_data"
    },
    {
     "name": "stdout",
     "output_type": "stream",
     "text": [
      "Frequency: m\n"
     ]
    },
    {
     "data": {
      "text/html": [
       "<div>\n",
       "<style scoped>\n",
       "    .dataframe tbody tr th:only-of-type {\n",
       "        vertical-align: middle;\n",
       "    }\n",
       "\n",
       "    .dataframe tbody tr th {\n",
       "        vertical-align: top;\n",
       "    }\n",
       "\n",
       "    .dataframe thead th {\n",
       "        text-align: right;\n",
       "    }\n",
       "</style>\n",
       "<table border=\"1\" class=\"dataframe\">\n",
       "  <thead>\n",
       "    <tr style=\"text-align: right;\">\n",
       "      <th></th>\n",
       "      <th>energy__CA</th>\n",
       "      <th>energy__CH</th>\n",
       "      <th>energy__DE</th>\n",
       "      <th>energy__FR</th>\n",
       "      <th>energy__GB</th>\n",
       "      <th>energy__IN</th>\n",
       "      <th>energy__JP</th>\n",
       "      <th>energy__US</th>\n",
       "      <th>nonFuel__CA</th>\n",
       "      <th>nonFuel__CH</th>\n",
       "      <th>...</th>\n",
       "      <th>EPFRequity__JP</th>\n",
       "      <th>EPFRequity__US</th>\n",
       "      <th>banking_crisis__CA</th>\n",
       "      <th>banking_crisis__CH</th>\n",
       "      <th>banking_crisis__DE</th>\n",
       "      <th>banking_crisis__FR</th>\n",
       "      <th>banking_crisis__GB</th>\n",
       "      <th>banking_crisis__IN</th>\n",
       "      <th>banking_crisis__JP</th>\n",
       "      <th>banking_crisis__US</th>\n",
       "    </tr>\n",
       "    <tr>\n",
       "      <th>index</th>\n",
       "      <th></th>\n",
       "      <th></th>\n",
       "      <th></th>\n",
       "      <th></th>\n",
       "      <th></th>\n",
       "      <th></th>\n",
       "      <th></th>\n",
       "      <th></th>\n",
       "      <th></th>\n",
       "      <th></th>\n",
       "      <th></th>\n",
       "      <th></th>\n",
       "      <th></th>\n",
       "      <th></th>\n",
       "      <th></th>\n",
       "      <th></th>\n",
       "      <th></th>\n",
       "      <th></th>\n",
       "      <th></th>\n",
       "      <th></th>\n",
       "      <th></th>\n",
       "    </tr>\n",
       "  </thead>\n",
       "  <tbody>\n",
       "    <tr>\n",
       "      <th>1980-01-01</th>\n",
       "      <td>NaN</td>\n",
       "      <td>NaN</td>\n",
       "      <td>NaN</td>\n",
       "      <td>NaN</td>\n",
       "      <td>NaN</td>\n",
       "      <td>NaN</td>\n",
       "      <td>NaN</td>\n",
       "      <td>NaN</td>\n",
       "      <td>NaN</td>\n",
       "      <td>NaN</td>\n",
       "      <td>...</td>\n",
       "      <td>NaN</td>\n",
       "      <td>NaN</td>\n",
       "      <td>NaN</td>\n",
       "      <td>NaN</td>\n",
       "      <td>NaN</td>\n",
       "      <td>NaN</td>\n",
       "      <td>NaN</td>\n",
       "      <td>NaN</td>\n",
       "      <td>NaN</td>\n",
       "      <td>NaN</td>\n",
       "    </tr>\n",
       "    <tr>\n",
       "      <th>1980-02-01</th>\n",
       "      <td>NaN</td>\n",
       "      <td>NaN</td>\n",
       "      <td>NaN</td>\n",
       "      <td>NaN</td>\n",
       "      <td>NaN</td>\n",
       "      <td>NaN</td>\n",
       "      <td>NaN</td>\n",
       "      <td>NaN</td>\n",
       "      <td>NaN</td>\n",
       "      <td>NaN</td>\n",
       "      <td>...</td>\n",
       "      <td>NaN</td>\n",
       "      <td>NaN</td>\n",
       "      <td>NaN</td>\n",
       "      <td>NaN</td>\n",
       "      <td>NaN</td>\n",
       "      <td>NaN</td>\n",
       "      <td>NaN</td>\n",
       "      <td>NaN</td>\n",
       "      <td>NaN</td>\n",
       "      <td>NaN</td>\n",
       "    </tr>\n",
       "    <tr>\n",
       "      <th>1980-03-01</th>\n",
       "      <td>NaN</td>\n",
       "      <td>NaN</td>\n",
       "      <td>NaN</td>\n",
       "      <td>NaN</td>\n",
       "      <td>NaN</td>\n",
       "      <td>NaN</td>\n",
       "      <td>NaN</td>\n",
       "      <td>NaN</td>\n",
       "      <td>NaN</td>\n",
       "      <td>NaN</td>\n",
       "      <td>...</td>\n",
       "      <td>NaN</td>\n",
       "      <td>NaN</td>\n",
       "      <td>NaN</td>\n",
       "      <td>NaN</td>\n",
       "      <td>NaN</td>\n",
       "      <td>NaN</td>\n",
       "      <td>NaN</td>\n",
       "      <td>NaN</td>\n",
       "      <td>NaN</td>\n",
       "      <td>NaN</td>\n",
       "    </tr>\n",
       "    <tr>\n",
       "      <th>1980-04-01</th>\n",
       "      <td>NaN</td>\n",
       "      <td>NaN</td>\n",
       "      <td>NaN</td>\n",
       "      <td>NaN</td>\n",
       "      <td>NaN</td>\n",
       "      <td>NaN</td>\n",
       "      <td>NaN</td>\n",
       "      <td>NaN</td>\n",
       "      <td>NaN</td>\n",
       "      <td>NaN</td>\n",
       "      <td>...</td>\n",
       "      <td>NaN</td>\n",
       "      <td>NaN</td>\n",
       "      <td>NaN</td>\n",
       "      <td>NaN</td>\n",
       "      <td>NaN</td>\n",
       "      <td>NaN</td>\n",
       "      <td>NaN</td>\n",
       "      <td>NaN</td>\n",
       "      <td>NaN</td>\n",
       "      <td>NaN</td>\n",
       "    </tr>\n",
       "    <tr>\n",
       "      <th>1980-05-01</th>\n",
       "      <td>NaN</td>\n",
       "      <td>NaN</td>\n",
       "      <td>NaN</td>\n",
       "      <td>NaN</td>\n",
       "      <td>NaN</td>\n",
       "      <td>NaN</td>\n",
       "      <td>NaN</td>\n",
       "      <td>NaN</td>\n",
       "      <td>NaN</td>\n",
       "      <td>NaN</td>\n",
       "      <td>...</td>\n",
       "      <td>NaN</td>\n",
       "      <td>NaN</td>\n",
       "      <td>NaN</td>\n",
       "      <td>NaN</td>\n",
       "      <td>NaN</td>\n",
       "      <td>NaN</td>\n",
       "      <td>NaN</td>\n",
       "      <td>NaN</td>\n",
       "      <td>NaN</td>\n",
       "      <td>NaN</td>\n",
       "    </tr>\n",
       "    <tr>\n",
       "      <th>...</th>\n",
       "      <td>...</td>\n",
       "      <td>...</td>\n",
       "      <td>...</td>\n",
       "      <td>...</td>\n",
       "      <td>...</td>\n",
       "      <td>...</td>\n",
       "      <td>...</td>\n",
       "      <td>...</td>\n",
       "      <td>...</td>\n",
       "      <td>...</td>\n",
       "      <td>...</td>\n",
       "      <td>...</td>\n",
       "      <td>...</td>\n",
       "      <td>...</td>\n",
       "      <td>...</td>\n",
       "      <td>...</td>\n",
       "      <td>...</td>\n",
       "      <td>...</td>\n",
       "      <td>...</td>\n",
       "      <td>...</td>\n",
       "      <td>...</td>\n",
       "    </tr>\n",
       "    <tr>\n",
       "      <th>2023-12-01</th>\n",
       "      <td>175.18</td>\n",
       "      <td>175.18</td>\n",
       "      <td>175.18</td>\n",
       "      <td>175.18</td>\n",
       "      <td>175.18</td>\n",
       "      <td>175.18</td>\n",
       "      <td>175.18</td>\n",
       "      <td>175.18</td>\n",
       "      <td>148.72</td>\n",
       "      <td>148.72</td>\n",
       "      <td>...</td>\n",
       "      <td>NaN</td>\n",
       "      <td>NaN</td>\n",
       "      <td>NaN</td>\n",
       "      <td>NaN</td>\n",
       "      <td>NaN</td>\n",
       "      <td>NaN</td>\n",
       "      <td>NaN</td>\n",
       "      <td>NaN</td>\n",
       "      <td>NaN</td>\n",
       "      <td>NaN</td>\n",
       "    </tr>\n",
       "    <tr>\n",
       "      <th>2024-01-01</th>\n",
       "      <td>173.66</td>\n",
       "      <td>173.66</td>\n",
       "      <td>173.66</td>\n",
       "      <td>173.66</td>\n",
       "      <td>173.66</td>\n",
       "      <td>173.66</td>\n",
       "      <td>173.66</td>\n",
       "      <td>173.66</td>\n",
       "      <td>149.39</td>\n",
       "      <td>149.39</td>\n",
       "      <td>...</td>\n",
       "      <td>NaN</td>\n",
       "      <td>NaN</td>\n",
       "      <td>NaN</td>\n",
       "      <td>NaN</td>\n",
       "      <td>NaN</td>\n",
       "      <td>NaN</td>\n",
       "      <td>NaN</td>\n",
       "      <td>NaN</td>\n",
       "      <td>NaN</td>\n",
       "      <td>NaN</td>\n",
       "    </tr>\n",
       "    <tr>\n",
       "      <th>2024-02-01</th>\n",
       "      <td>173.23</td>\n",
       "      <td>173.23</td>\n",
       "      <td>173.23</td>\n",
       "      <td>173.23</td>\n",
       "      <td>173.23</td>\n",
       "      <td>173.23</td>\n",
       "      <td>173.23</td>\n",
       "      <td>173.23</td>\n",
       "      <td>148.66</td>\n",
       "      <td>148.66</td>\n",
       "      <td>...</td>\n",
       "      <td>NaN</td>\n",
       "      <td>NaN</td>\n",
       "      <td>NaN</td>\n",
       "      <td>NaN</td>\n",
       "      <td>NaN</td>\n",
       "      <td>NaN</td>\n",
       "      <td>NaN</td>\n",
       "      <td>NaN</td>\n",
       "      <td>NaN</td>\n",
       "      <td>NaN</td>\n",
       "    </tr>\n",
       "    <tr>\n",
       "      <th>2024-03-01</th>\n",
       "      <td>179.82</td>\n",
       "      <td>179.82</td>\n",
       "      <td>179.82</td>\n",
       "      <td>179.82</td>\n",
       "      <td>179.82</td>\n",
       "      <td>179.82</td>\n",
       "      <td>179.82</td>\n",
       "      <td>179.82</td>\n",
       "      <td>151.68</td>\n",
       "      <td>151.68</td>\n",
       "      <td>...</td>\n",
       "      <td>NaN</td>\n",
       "      <td>NaN</td>\n",
       "      <td>NaN</td>\n",
       "      <td>NaN</td>\n",
       "      <td>NaN</td>\n",
       "      <td>NaN</td>\n",
       "      <td>NaN</td>\n",
       "      <td>NaN</td>\n",
       "      <td>NaN</td>\n",
       "      <td>NaN</td>\n",
       "    </tr>\n",
       "    <tr>\n",
       "      <th>2024-04-01</th>\n",
       "      <td>188.53</td>\n",
       "      <td>188.53</td>\n",
       "      <td>188.53</td>\n",
       "      <td>188.53</td>\n",
       "      <td>188.53</td>\n",
       "      <td>188.53</td>\n",
       "      <td>188.53</td>\n",
       "      <td>188.53</td>\n",
       "      <td>158.02</td>\n",
       "      <td>158.02</td>\n",
       "      <td>...</td>\n",
       "      <td>NaN</td>\n",
       "      <td>NaN</td>\n",
       "      <td>NaN</td>\n",
       "      <td>NaN</td>\n",
       "      <td>NaN</td>\n",
       "      <td>NaN</td>\n",
       "      <td>NaN</td>\n",
       "      <td>NaN</td>\n",
       "      <td>NaN</td>\n",
       "      <td>NaN</td>\n",
       "    </tr>\n",
       "  </tbody>\n",
       "</table>\n",
       "<p>532 rows × 152 columns</p>\n",
       "</div>"
      ],
      "text/plain": [
       "            energy__CA  energy__CH  energy__DE  energy__FR  energy__GB  \\\n",
       "index                                                                    \n",
       "1980-01-01         NaN         NaN         NaN         NaN         NaN   \n",
       "1980-02-01         NaN         NaN         NaN         NaN         NaN   \n",
       "1980-03-01         NaN         NaN         NaN         NaN         NaN   \n",
       "1980-04-01         NaN         NaN         NaN         NaN         NaN   \n",
       "1980-05-01         NaN         NaN         NaN         NaN         NaN   \n",
       "...                ...         ...         ...         ...         ...   \n",
       "2023-12-01      175.18      175.18      175.18      175.18      175.18   \n",
       "2024-01-01      173.66      173.66      173.66      173.66      173.66   \n",
       "2024-02-01      173.23      173.23      173.23      173.23      173.23   \n",
       "2024-03-01      179.82      179.82      179.82      179.82      179.82   \n",
       "2024-04-01      188.53      188.53      188.53      188.53      188.53   \n",
       "\n",
       "            energy__IN  energy__JP  energy__US  nonFuel__CA  nonFuel__CH  ...  \\\n",
       "index                                                                     ...   \n",
       "1980-01-01         NaN         NaN         NaN          NaN          NaN  ...   \n",
       "1980-02-01         NaN         NaN         NaN          NaN          NaN  ...   \n",
       "1980-03-01         NaN         NaN         NaN          NaN          NaN  ...   \n",
       "1980-04-01         NaN         NaN         NaN          NaN          NaN  ...   \n",
       "1980-05-01         NaN         NaN         NaN          NaN          NaN  ...   \n",
       "...                ...         ...         ...          ...          ...  ...   \n",
       "2023-12-01      175.18      175.18      175.18       148.72       148.72  ...   \n",
       "2024-01-01      173.66      173.66      173.66       149.39       149.39  ...   \n",
       "2024-02-01      173.23      173.23      173.23       148.66       148.66  ...   \n",
       "2024-03-01      179.82      179.82      179.82       151.68       151.68  ...   \n",
       "2024-04-01      188.53      188.53      188.53       158.02       158.02  ...   \n",
       "\n",
       "            EPFRequity__JP  EPFRequity__US  banking_crisis__CA  \\\n",
       "index                                                            \n",
       "1980-01-01             NaN             NaN                 NaN   \n",
       "1980-02-01             NaN             NaN                 NaN   \n",
       "1980-03-01             NaN             NaN                 NaN   \n",
       "1980-04-01             NaN             NaN                 NaN   \n",
       "1980-05-01             NaN             NaN                 NaN   \n",
       "...                    ...             ...                 ...   \n",
       "2023-12-01             NaN             NaN                 NaN   \n",
       "2024-01-01             NaN             NaN                 NaN   \n",
       "2024-02-01             NaN             NaN                 NaN   \n",
       "2024-03-01             NaN             NaN                 NaN   \n",
       "2024-04-01             NaN             NaN                 NaN   \n",
       "\n",
       "            banking_crisis__CH  banking_crisis__DE  banking_crisis__FR  \\\n",
       "index                                                                    \n",
       "1980-01-01                 NaN                 NaN                 NaN   \n",
       "1980-02-01                 NaN                 NaN                 NaN   \n",
       "1980-03-01                 NaN                 NaN                 NaN   \n",
       "1980-04-01                 NaN                 NaN                 NaN   \n",
       "1980-05-01                 NaN                 NaN                 NaN   \n",
       "...                        ...                 ...                 ...   \n",
       "2023-12-01                 NaN                 NaN                 NaN   \n",
       "2024-01-01                 NaN                 NaN                 NaN   \n",
       "2024-02-01                 NaN                 NaN                 NaN   \n",
       "2024-03-01                 NaN                 NaN                 NaN   \n",
       "2024-04-01                 NaN                 NaN                 NaN   \n",
       "\n",
       "            banking_crisis__GB  banking_crisis__IN  banking_crisis__JP  \\\n",
       "index                                                                    \n",
       "1980-01-01                 NaN                 NaN                 NaN   \n",
       "1980-02-01                 NaN                 NaN                 NaN   \n",
       "1980-03-01                 NaN                 NaN                 NaN   \n",
       "1980-04-01                 NaN                 NaN                 NaN   \n",
       "1980-05-01                 NaN                 NaN                 NaN   \n",
       "...                        ...                 ...                 ...   \n",
       "2023-12-01                 NaN                 NaN                 NaN   \n",
       "2024-01-01                 NaN                 NaN                 NaN   \n",
       "2024-02-01                 NaN                 NaN                 NaN   \n",
       "2024-03-01                 NaN                 NaN                 NaN   \n",
       "2024-04-01                 NaN                 NaN                 NaN   \n",
       "\n",
       "            banking_crisis__US  \n",
       "index                           \n",
       "1980-01-01                 NaN  \n",
       "1980-02-01                 NaN  \n",
       "1980-03-01                 NaN  \n",
       "1980-04-01                 NaN  \n",
       "1980-05-01                 NaN  \n",
       "...                        ...  \n",
       "2023-12-01                 NaN  \n",
       "2024-01-01                 NaN  \n",
       "2024-02-01                 NaN  \n",
       "2024-03-01                 NaN  \n",
       "2024-04-01                 NaN  \n",
       "\n",
       "[532 rows x 152 columns]"
      ]
     },
     "metadata": {},
     "output_type": "display_data"
    },
    {
     "name": "stdout",
     "output_type": "stream",
     "text": [
      "Frequency: q\n"
     ]
    },
    {
     "data": {
      "text/html": [
       "<div>\n",
       "<style scoped>\n",
       "    .dataframe tbody tr th:only-of-type {\n",
       "        vertical-align: middle;\n",
       "    }\n",
       "\n",
       "    .dataframe tbody tr th {\n",
       "        vertical-align: top;\n",
       "    }\n",
       "\n",
       "    .dataframe thead th {\n",
       "        text-align: right;\n",
       "    }\n",
       "</style>\n",
       "<table border=\"1\" class=\"dataframe\">\n",
       "  <thead>\n",
       "    <tr style=\"text-align: right;\">\n",
       "      <th></th>\n",
       "      <th>GDP__CA</th>\n",
       "      <th>GDP__CH</th>\n",
       "      <th>GDP__DE</th>\n",
       "      <th>GDP__FR</th>\n",
       "      <th>GDP__GB</th>\n",
       "      <th>GDP__IN</th>\n",
       "      <th>GDP__JP</th>\n",
       "      <th>GDP__US</th>\n",
       "      <th>Consumption__CA</th>\n",
       "      <th>Consumption__CH</th>\n",
       "      <th>...</th>\n",
       "      <th>resPriceReal__JP</th>\n",
       "      <th>resPriceReal__US</th>\n",
       "      <th>Cab__CA</th>\n",
       "      <th>Cab__CH</th>\n",
       "      <th>Cab__DE</th>\n",
       "      <th>Cab__FR</th>\n",
       "      <th>Cab__GB</th>\n",
       "      <th>Cab__IN</th>\n",
       "      <th>Cab__JP</th>\n",
       "      <th>Cab__US</th>\n",
       "    </tr>\n",
       "    <tr>\n",
       "      <th>index</th>\n",
       "      <th></th>\n",
       "      <th></th>\n",
       "      <th></th>\n",
       "      <th></th>\n",
       "      <th></th>\n",
       "      <th></th>\n",
       "      <th></th>\n",
       "      <th></th>\n",
       "      <th></th>\n",
       "      <th></th>\n",
       "      <th></th>\n",
       "      <th></th>\n",
       "      <th></th>\n",
       "      <th></th>\n",
       "      <th></th>\n",
       "      <th></th>\n",
       "      <th></th>\n",
       "      <th></th>\n",
       "      <th></th>\n",
       "      <th></th>\n",
       "      <th></th>\n",
       "    </tr>\n",
       "  </thead>\n",
       "  <tbody>\n",
       "    <tr>\n",
       "      <th>1980-01-01</th>\n",
       "      <td>223.0458</td>\n",
       "      <td>90.3561</td>\n",
       "      <td>422.219852</td>\n",
       "      <td>291.285</td>\n",
       "      <td>243.513</td>\n",
       "      <td>NaN</td>\n",
       "      <td>67436.875</td>\n",
       "      <td>1835.3893</td>\n",
       "      <td>NaN</td>\n",
       "      <td>50.174554</td>\n",
       "      <td>...</td>\n",
       "      <td>117.641360</td>\n",
       "      <td>81.064928</td>\n",
       "      <td>NaN</td>\n",
       "      <td>NaN</td>\n",
       "      <td>NaN</td>\n",
       "      <td>NaN</td>\n",
       "      <td>-0.569984</td>\n",
       "      <td>NaN</td>\n",
       "      <td>NaN</td>\n",
       "      <td>-0.495942</td>\n",
       "    </tr>\n",
       "    <tr>\n",
       "      <th>1980-04-01</th>\n",
       "      <td>222.9483</td>\n",
       "      <td>90.4965</td>\n",
       "      <td>419.518729</td>\n",
       "      <td>289.022</td>\n",
       "      <td>238.722</td>\n",
       "      <td>NaN</td>\n",
       "      <td>67130.450</td>\n",
       "      <td>1797.5723</td>\n",
       "      <td>NaN</td>\n",
       "      <td>50.203003</td>\n",
       "      <td>...</td>\n",
       "      <td>117.735149</td>\n",
       "      <td>79.213469</td>\n",
       "      <td>NaN</td>\n",
       "      <td>NaN</td>\n",
       "      <td>NaN</td>\n",
       "      <td>NaN</td>\n",
       "      <td>-0.791159</td>\n",
       "      <td>NaN</td>\n",
       "      <td>NaN</td>\n",
       "      <td>-0.134556</td>\n",
       "    </tr>\n",
       "    <tr>\n",
       "      <th>1980-07-01</th>\n",
       "      <td>222.7630</td>\n",
       "      <td>90.9576</td>\n",
       "      <td>417.871755</td>\n",
       "      <td>289.339</td>\n",
       "      <td>238.432</td>\n",
       "      <td>NaN</td>\n",
       "      <td>68545.775</td>\n",
       "      <td>1795.4358</td>\n",
       "      <td>NaN</td>\n",
       "      <td>50.332773</td>\n",
       "      <td>...</td>\n",
       "      <td>120.215918</td>\n",
       "      <td>80.256954</td>\n",
       "      <td>NaN</td>\n",
       "      <td>NaN</td>\n",
       "      <td>NaN</td>\n",
       "      <td>NaN</td>\n",
       "      <td>1.161752</td>\n",
       "      <td>NaN</td>\n",
       "      <td>NaN</td>\n",
       "      <td>0.606760</td>\n",
       "    </tr>\n",
       "    <tr>\n",
       "      <th>1980-10-01</th>\n",
       "      <td>225.8453</td>\n",
       "      <td>91.4835</td>\n",
       "      <td>417.344799</td>\n",
       "      <td>288.843</td>\n",
       "      <td>235.866</td>\n",
       "      <td>NaN</td>\n",
       "      <td>69900.450</td>\n",
       "      <td>1828.9193</td>\n",
       "      <td>NaN</td>\n",
       "      <td>50.576117</td>\n",
       "      <td>...</td>\n",
       "      <td>121.884905</td>\n",
       "      <td>79.824920</td>\n",
       "      <td>NaN</td>\n",
       "      <td>NaN</td>\n",
       "      <td>NaN</td>\n",
       "      <td>NaN</td>\n",
       "      <td>2.194077</td>\n",
       "      <td>NaN</td>\n",
       "      <td>NaN</td>\n",
       "      <td>0.319270</td>\n",
       "    </tr>\n",
       "    <tr>\n",
       "      <th>1981-01-01</th>\n",
       "      <td>230.7108</td>\n",
       "      <td>91.4475</td>\n",
       "      <td>422.219852</td>\n",
       "      <td>289.825</td>\n",
       "      <td>235.712</td>\n",
       "      <td>NaN</td>\n",
       "      <td>70498.925</td>\n",
       "      <td>1864.7555</td>\n",
       "      <td>116.81325</td>\n",
       "      <td>50.526634</td>\n",
       "      <td>...</td>\n",
       "      <td>123.894472</td>\n",
       "      <td>79.235266</td>\n",
       "      <td>-4.140542</td>\n",
       "      <td>NaN</td>\n",
       "      <td>NaN</td>\n",
       "      <td>NaN</td>\n",
       "      <td>3.799025</td>\n",
       "      <td>NaN</td>\n",
       "      <td>NaN</td>\n",
       "      <td>0.123295</td>\n",
       "    </tr>\n",
       "    <tr>\n",
       "      <th>...</th>\n",
       "      <td>...</td>\n",
       "      <td>...</td>\n",
       "      <td>...</td>\n",
       "      <td>...</td>\n",
       "      <td>...</td>\n",
       "      <td>...</td>\n",
       "      <td>...</td>\n",
       "      <td>...</td>\n",
       "      <td>...</td>\n",
       "      <td>...</td>\n",
       "      <td>...</td>\n",
       "      <td>...</td>\n",
       "      <td>...</td>\n",
       "      <td>...</td>\n",
       "      <td>...</td>\n",
       "      <td>...</td>\n",
       "      <td>...</td>\n",
       "      <td>...</td>\n",
       "      <td>...</td>\n",
       "      <td>...</td>\n",
       "      <td>...</td>\n",
       "    </tr>\n",
       "    <tr>\n",
       "      <th>2023-01-01</th>\n",
       "      <td>587.1440</td>\n",
       "      <td>191.5362</td>\n",
       "      <td>818.222000</td>\n",
       "      <td>589.375</td>\n",
       "      <td>569.027</td>\n",
       "      <td>NaN</td>\n",
       "      <td>139357.025</td>\n",
       "      <td>5528.0823</td>\n",
       "      <td>341.84875</td>\n",
       "      <td>96.388193</td>\n",
       "      <td>...</td>\n",
       "      <td>122.959996</td>\n",
       "      <td>157.597126</td>\n",
       "      <td>-0.954517</td>\n",
       "      <td>8.382241</td>\n",
       "      <td>5.317964</td>\n",
       "      <td>-1.123465</td>\n",
       "      <td>-2.379062</td>\n",
       "      <td>-0.792408</td>\n",
       "      <td>1.665666</td>\n",
       "      <td>-3.199451</td>\n",
       "    </tr>\n",
       "    <tr>\n",
       "      <th>2023-04-01</th>\n",
       "      <td>588.0740</td>\n",
       "      <td>191.1890</td>\n",
       "      <td>817.617000</td>\n",
       "      <td>593.156</td>\n",
       "      <td>569.076</td>\n",
       "      <td>NaN</td>\n",
       "      <td>140780.650</td>\n",
       "      <td>5556.3375</td>\n",
       "      <td>341.97575</td>\n",
       "      <td>96.734600</td>\n",
       "      <td>...</td>\n",
       "      <td>121.582294</td>\n",
       "      <td>157.489082</td>\n",
       "      <td>-1.023738</td>\n",
       "      <td>7.919468</td>\n",
       "      <td>6.906945</td>\n",
       "      <td>-0.080223</td>\n",
       "      <td>-3.546464</td>\n",
       "      <td>-1.176351</td>\n",
       "      <td>3.943665</td>\n",
       "      <td>-3.204447</td>\n",
       "    </tr>\n",
       "    <tr>\n",
       "      <th>2023-07-01</th>\n",
       "      <td>587.3320</td>\n",
       "      <td>191.6721</td>\n",
       "      <td>818.752000</td>\n",
       "      <td>593.602</td>\n",
       "      <td>568.397</td>\n",
       "      <td>NaN</td>\n",
       "      <td>139505.075</td>\n",
       "      <td>5622.6730</td>\n",
       "      <td>342.15750</td>\n",
       "      <td>96.893932</td>\n",
       "      <td>...</td>\n",
       "      <td>120.902817</td>\n",
       "      <td>159.320804</td>\n",
       "      <td>-0.443942</td>\n",
       "      <td>10.865852</td>\n",
       "      <td>8.445304</td>\n",
       "      <td>-1.769199</td>\n",
       "      <td>-2.506553</td>\n",
       "      <td>-0.702076</td>\n",
       "      <td>4.138314</td>\n",
       "      <td>-2.901892</td>\n",
       "    </tr>\n",
       "    <tr>\n",
       "      <th>2023-10-01</th>\n",
       "      <td>588.7873</td>\n",
       "      <td>192.2222</td>\n",
       "      <td>814.667000</td>\n",
       "      <td>594.336</td>\n",
       "      <td>566.626</td>\n",
       "      <td>NaN</td>\n",
       "      <td>139510.125</td>\n",
       "      <td>5669.8138</td>\n",
       "      <td>NaN</td>\n",
       "      <td>NaN</td>\n",
       "      <td>...</td>\n",
       "      <td>119.092328</td>\n",
       "      <td>160.995790</td>\n",
       "      <td>NaN</td>\n",
       "      <td>NaN</td>\n",
       "      <td>NaN</td>\n",
       "      <td>NaN</td>\n",
       "      <td>NaN</td>\n",
       "      <td>NaN</td>\n",
       "      <td>NaN</td>\n",
       "      <td>NaN</td>\n",
       "    </tr>\n",
       "    <tr>\n",
       "      <th>2024-01-01</th>\n",
       "      <td>NaN</td>\n",
       "      <td>NaN</td>\n",
       "      <td>816.407000</td>\n",
       "      <td>595.694</td>\n",
       "      <td>570.196</td>\n",
       "      <td>NaN</td>\n",
       "      <td>138815.900</td>\n",
       "      <td>5692.2165</td>\n",
       "      <td>NaN</td>\n",
       "      <td>NaN</td>\n",
       "      <td>...</td>\n",
       "      <td>NaN</td>\n",
       "      <td>NaN</td>\n",
       "      <td>NaN</td>\n",
       "      <td>NaN</td>\n",
       "      <td>NaN</td>\n",
       "      <td>NaN</td>\n",
       "      <td>NaN</td>\n",
       "      <td>NaN</td>\n",
       "      <td>NaN</td>\n",
       "      <td>NaN</td>\n",
       "    </tr>\n",
       "  </tbody>\n",
       "</table>\n",
       "<p>177 rows × 192 columns</p>\n",
       "</div>"
      ],
      "text/plain": [
       "             GDP__CA   GDP__CH     GDP__DE  GDP__FR  GDP__GB  GDP__IN  \\\n",
       "index                                                                   \n",
       "1980-01-01  223.0458   90.3561  422.219852  291.285  243.513      NaN   \n",
       "1980-04-01  222.9483   90.4965  419.518729  289.022  238.722      NaN   \n",
       "1980-07-01  222.7630   90.9576  417.871755  289.339  238.432      NaN   \n",
       "1980-10-01  225.8453   91.4835  417.344799  288.843  235.866      NaN   \n",
       "1981-01-01  230.7108   91.4475  422.219852  289.825  235.712      NaN   \n",
       "...              ...       ...         ...      ...      ...      ...   \n",
       "2023-01-01  587.1440  191.5362  818.222000  589.375  569.027      NaN   \n",
       "2023-04-01  588.0740  191.1890  817.617000  593.156  569.076      NaN   \n",
       "2023-07-01  587.3320  191.6721  818.752000  593.602  568.397      NaN   \n",
       "2023-10-01  588.7873  192.2222  814.667000  594.336  566.626      NaN   \n",
       "2024-01-01       NaN       NaN  816.407000  595.694  570.196      NaN   \n",
       "\n",
       "               GDP__JP    GDP__US  Consumption__CA  Consumption__CH  ...  \\\n",
       "index                                                                ...   \n",
       "1980-01-01   67436.875  1835.3893              NaN        50.174554  ...   \n",
       "1980-04-01   67130.450  1797.5723              NaN        50.203003  ...   \n",
       "1980-07-01   68545.775  1795.4358              NaN        50.332773  ...   \n",
       "1980-10-01   69900.450  1828.9193              NaN        50.576117  ...   \n",
       "1981-01-01   70498.925  1864.7555        116.81325        50.526634  ...   \n",
       "...                ...        ...              ...              ...  ...   \n",
       "2023-01-01  139357.025  5528.0823        341.84875        96.388193  ...   \n",
       "2023-04-01  140780.650  5556.3375        341.97575        96.734600  ...   \n",
       "2023-07-01  139505.075  5622.6730        342.15750        96.893932  ...   \n",
       "2023-10-01  139510.125  5669.8138              NaN              NaN  ...   \n",
       "2024-01-01  138815.900  5692.2165              NaN              NaN  ...   \n",
       "\n",
       "            resPriceReal__JP  resPriceReal__US   Cab__CA    Cab__CH   Cab__DE  \\\n",
       "index                                                                           \n",
       "1980-01-01        117.641360         81.064928       NaN        NaN       NaN   \n",
       "1980-04-01        117.735149         79.213469       NaN        NaN       NaN   \n",
       "1980-07-01        120.215918         80.256954       NaN        NaN       NaN   \n",
       "1980-10-01        121.884905         79.824920       NaN        NaN       NaN   \n",
       "1981-01-01        123.894472         79.235266 -4.140542        NaN       NaN   \n",
       "...                      ...               ...       ...        ...       ...   \n",
       "2023-01-01        122.959996        157.597126 -0.954517   8.382241  5.317964   \n",
       "2023-04-01        121.582294        157.489082 -1.023738   7.919468  6.906945   \n",
       "2023-07-01        120.902817        159.320804 -0.443942  10.865852  8.445304   \n",
       "2023-10-01        119.092328        160.995790       NaN        NaN       NaN   \n",
       "2024-01-01               NaN               NaN       NaN        NaN       NaN   \n",
       "\n",
       "             Cab__FR   Cab__GB   Cab__IN   Cab__JP   Cab__US  \n",
       "index                                                         \n",
       "1980-01-01       NaN -0.569984       NaN       NaN -0.495942  \n",
       "1980-04-01       NaN -0.791159       NaN       NaN -0.134556  \n",
       "1980-07-01       NaN  1.161752       NaN       NaN  0.606760  \n",
       "1980-10-01       NaN  2.194077       NaN       NaN  0.319270  \n",
       "1981-01-01       NaN  3.799025       NaN       NaN  0.123295  \n",
       "...              ...       ...       ...       ...       ...  \n",
       "2023-01-01 -1.123465 -2.379062 -0.792408  1.665666 -3.199451  \n",
       "2023-04-01 -0.080223 -3.546464 -1.176351  3.943665 -3.204447  \n",
       "2023-07-01 -1.769199 -2.506553 -0.702076  4.138314 -2.901892  \n",
       "2023-10-01       NaN       NaN       NaN       NaN       NaN  \n",
       "2024-01-01       NaN       NaN       NaN       NaN       NaN  \n",
       "\n",
       "[177 rows x 192 columns]"
      ]
     },
     "metadata": {},
     "output_type": "display_data"
    }
   ],
   "source": [
    "dfs_input = load_multi_freq_data(\n",
    "    data_path, countries=countries, variables=variables, start_date=start_date\n",
    ")\n",
    "for freq, df in dfs_input.items():\n",
    "    print(f\"Frequency: {freq}\")\n",
    "    display(df)"
   ]
  },
  {
   "cell_type": "code",
   "execution_count": 6,
   "metadata": {},
   "outputs": [
    {
     "data": {
      "text/html": [
       "<div>\n",
       "<style scoped>\n",
       "    .dataframe tbody tr th:only-of-type {\n",
       "        vertical-align: middle;\n",
       "    }\n",
       "\n",
       "    .dataframe tbody tr th {\n",
       "        vertical-align: top;\n",
       "    }\n",
       "\n",
       "    .dataframe thead th {\n",
       "        text-align: right;\n",
       "    }\n",
       "</style>\n",
       "<table border=\"1\" class=\"dataframe\">\n",
       "  <thead>\n",
       "    <tr style=\"text-align: right;\">\n",
       "      <th></th>\n",
       "      <th>CA</th>\n",
       "      <th>CH</th>\n",
       "      <th>DE</th>\n",
       "      <th>FR</th>\n",
       "      <th>GB</th>\n",
       "      <th>IN</th>\n",
       "      <th>JP</th>\n",
       "      <th>US</th>\n",
       "    </tr>\n",
       "    <tr>\n",
       "      <th>index</th>\n",
       "      <th></th>\n",
       "      <th></th>\n",
       "      <th></th>\n",
       "      <th></th>\n",
       "      <th></th>\n",
       "      <th></th>\n",
       "      <th></th>\n",
       "      <th></th>\n",
       "    </tr>\n",
       "  </thead>\n",
       "  <tbody>\n",
       "    <tr>\n",
       "      <th>1980-01-01</th>\n",
       "      <td>NaN</td>\n",
       "      <td>NaN</td>\n",
       "      <td>NaN</td>\n",
       "      <td>NaN</td>\n",
       "      <td>NaN</td>\n",
       "      <td>NaN</td>\n",
       "      <td>NaN</td>\n",
       "      <td>NaN</td>\n",
       "    </tr>\n",
       "    <tr>\n",
       "      <th>1980-02-01</th>\n",
       "      <td>1.196172</td>\n",
       "      <td>0.140962</td>\n",
       "      <td>1.239669</td>\n",
       "      <td>1.061571</td>\n",
       "      <td>1.033592</td>\n",
       "      <td>1.580000</td>\n",
       "      <td>0.853485</td>\n",
       "      <td>1.413882</td>\n",
       "    </tr>\n",
       "    <tr>\n",
       "      <th>1980-03-01</th>\n",
       "      <td>0.709220</td>\n",
       "      <td>0.309237</td>\n",
       "      <td>0.408163</td>\n",
       "      <td>1.155462</td>\n",
       "      <td>1.278772</td>\n",
       "      <td>0.826934</td>\n",
       "      <td>0.564175</td>\n",
       "      <td>1.520913</td>\n",
       "    </tr>\n",
       "    <tr>\n",
       "      <th>1980-04-01</th>\n",
       "      <td>0.704225</td>\n",
       "      <td>0.457822</td>\n",
       "      <td>0.542005</td>\n",
       "      <td>1.246106</td>\n",
       "      <td>3.282828</td>\n",
       "      <td>0.761570</td>\n",
       "      <td>1.823282</td>\n",
       "      <td>1.123596</td>\n",
       "    </tr>\n",
       "    <tr>\n",
       "      <th>1980-05-01</th>\n",
       "      <td>1.165501</td>\n",
       "      <td>0.595242</td>\n",
       "      <td>0.539084</td>\n",
       "      <td>0.820513</td>\n",
       "      <td>0.733496</td>\n",
       "      <td>2.131783</td>\n",
       "      <td>0.826446</td>\n",
       "      <td>0.987654</td>\n",
       "    </tr>\n",
       "    <tr>\n",
       "      <th>...</th>\n",
       "      <td>...</td>\n",
       "      <td>...</td>\n",
       "      <td>...</td>\n",
       "      <td>...</td>\n",
       "      <td>...</td>\n",
       "      <td>...</td>\n",
       "      <td>...</td>\n",
       "      <td>...</td>\n",
       "    </tr>\n",
       "    <tr>\n",
       "      <th>2023-12-01</th>\n",
       "      <td>-0.314861</td>\n",
       "      <td>0.048609</td>\n",
       "      <td>0.085251</td>\n",
       "      <td>0.135329</td>\n",
       "      <td>0.379651</td>\n",
       "      <td>-0.322061</td>\n",
       "      <td>-0.093545</td>\n",
       "      <td>-0.099332</td>\n",
       "    </tr>\n",
       "    <tr>\n",
       "      <th>2024-01-01</th>\n",
       "      <td>0.000000</td>\n",
       "      <td>0.170518</td>\n",
       "      <td>0.170358</td>\n",
       "      <td>-0.168933</td>\n",
       "      <td>-0.529501</td>\n",
       "      <td>-0.107701</td>\n",
       "      <td>0.093633</td>\n",
       "      <td>0.544750</td>\n",
       "    </tr>\n",
       "    <tr>\n",
       "      <th>2024-02-01</th>\n",
       "      <td>0.315856</td>\n",
       "      <td>0.636546</td>\n",
       "      <td>0.425170</td>\n",
       "      <td>0.863017</td>\n",
       "      <td>0.608365</td>\n",
       "      <td>0.161725</td>\n",
       "      <td>0.000000</td>\n",
       "      <td>0.618967</td>\n",
       "    </tr>\n",
       "    <tr>\n",
       "      <th>2024-03-01</th>\n",
       "      <td>0.629723</td>\n",
       "      <td>0.031103</td>\n",
       "      <td>0.423370</td>\n",
       "      <td>0.218103</td>\n",
       "      <td>0.529101</td>\n",
       "      <td>0.000000</td>\n",
       "      <td>0.280636</td>\n",
       "      <td>0.646417</td>\n",
       "    </tr>\n",
       "    <tr>\n",
       "      <th>2024-04-01</th>\n",
       "      <td>0.500626</td>\n",
       "      <td>0.316162</td>\n",
       "      <td>0.505902</td>\n",
       "      <td>0.502218</td>\n",
       "      <td>0.375940</td>\n",
       "      <td>0.484392</td>\n",
       "      <td>0.466418</td>\n",
       "      <td>0.389329</td>\n",
       "    </tr>\n",
       "  </tbody>\n",
       "</table>\n",
       "<p>532 rows × 8 columns</p>\n",
       "</div>"
      ],
      "text/plain": [
       "                  CA        CH        DE        FR        GB        IN  \\\n",
       "index                                                                    \n",
       "1980-01-01       NaN       NaN       NaN       NaN       NaN       NaN   \n",
       "1980-02-01  1.196172  0.140962  1.239669  1.061571  1.033592  1.580000   \n",
       "1980-03-01  0.709220  0.309237  0.408163  1.155462  1.278772  0.826934   \n",
       "1980-04-01  0.704225  0.457822  0.542005  1.246106  3.282828  0.761570   \n",
       "1980-05-01  1.165501  0.595242  0.539084  0.820513  0.733496  2.131783   \n",
       "...              ...       ...       ...       ...       ...       ...   \n",
       "2023-12-01 -0.314861  0.048609  0.085251  0.135329  0.379651 -0.322061   \n",
       "2024-01-01  0.000000  0.170518  0.170358 -0.168933 -0.529501 -0.107701   \n",
       "2024-02-01  0.315856  0.636546  0.425170  0.863017  0.608365  0.161725   \n",
       "2024-03-01  0.629723  0.031103  0.423370  0.218103  0.529101  0.000000   \n",
       "2024-04-01  0.500626  0.316162  0.505902  0.502218  0.375940  0.484392   \n",
       "\n",
       "                  JP        US  \n",
       "index                           \n",
       "1980-01-01       NaN       NaN  \n",
       "1980-02-01  0.853485  1.413882  \n",
       "1980-03-01  0.564175  1.520913  \n",
       "1980-04-01  1.823282  1.123596  \n",
       "1980-05-01  0.826446  0.987654  \n",
       "...              ...       ...  \n",
       "2023-12-01 -0.093545 -0.099332  \n",
       "2024-01-01  0.093633  0.544750  \n",
       "2024-02-01  0.000000  0.618967  \n",
       "2024-03-01  0.280636  0.646417  \n",
       "2024-04-01  0.466418  0.389329  \n",
       "\n",
       "[532 rows x 8 columns]"
      ]
     },
     "metadata": {},
     "output_type": "display_data"
    },
    {
     "data": {
      "text/html": [
       "<div>\n",
       "<style scoped>\n",
       "    .dataframe tbody tr th:only-of-type {\n",
       "        vertical-align: middle;\n",
       "    }\n",
       "\n",
       "    .dataframe tbody tr th {\n",
       "        vertical-align: top;\n",
       "    }\n",
       "\n",
       "    .dataframe thead th {\n",
       "        text-align: right;\n",
       "    }\n",
       "</style>\n",
       "<table border=\"1\" class=\"dataframe\">\n",
       "  <thead>\n",
       "    <tr style=\"text-align: right;\">\n",
       "      <th></th>\n",
       "      <th>CA</th>\n",
       "      <th>CH</th>\n",
       "      <th>DE</th>\n",
       "      <th>FR</th>\n",
       "      <th>GB</th>\n",
       "      <th>IN</th>\n",
       "      <th>JP</th>\n",
       "      <th>US</th>\n",
       "    </tr>\n",
       "    <tr>\n",
       "      <th>index</th>\n",
       "      <th></th>\n",
       "      <th></th>\n",
       "      <th></th>\n",
       "      <th></th>\n",
       "      <th></th>\n",
       "      <th></th>\n",
       "      <th></th>\n",
       "      <th></th>\n",
       "    </tr>\n",
       "  </thead>\n",
       "  <tbody>\n",
       "    <tr>\n",
       "      <th>1980-01-01</th>\n",
       "      <td>NaN</td>\n",
       "      <td>NaN</td>\n",
       "      <td>NaN</td>\n",
       "      <td>NaN</td>\n",
       "      <td>NaN</td>\n",
       "      <td>NaN</td>\n",
       "      <td>NaN</td>\n",
       "      <td>NaN</td>\n",
       "    </tr>\n",
       "    <tr>\n",
       "      <th>1980-02-01</th>\n",
       "      <td>NaN</td>\n",
       "      <td>NaN</td>\n",
       "      <td>NaN</td>\n",
       "      <td>NaN</td>\n",
       "      <td>NaN</td>\n",
       "      <td>NaN</td>\n",
       "      <td>NaN</td>\n",
       "      <td>NaN</td>\n",
       "    </tr>\n",
       "    <tr>\n",
       "      <th>1980-03-01</th>\n",
       "      <td>NaN</td>\n",
       "      <td>NaN</td>\n",
       "      <td>NaN</td>\n",
       "      <td>NaN</td>\n",
       "      <td>NaN</td>\n",
       "      <td>NaN</td>\n",
       "      <td>NaN</td>\n",
       "      <td>NaN</td>\n",
       "    </tr>\n",
       "    <tr>\n",
       "      <th>1980-04-01</th>\n",
       "      <td>NaN</td>\n",
       "      <td>NaN</td>\n",
       "      <td>NaN</td>\n",
       "      <td>NaN</td>\n",
       "      <td>NaN</td>\n",
       "      <td>NaN</td>\n",
       "      <td>NaN</td>\n",
       "      <td>NaN</td>\n",
       "    </tr>\n",
       "    <tr>\n",
       "      <th>1980-05-01</th>\n",
       "      <td>NaN</td>\n",
       "      <td>NaN</td>\n",
       "      <td>NaN</td>\n",
       "      <td>NaN</td>\n",
       "      <td>NaN</td>\n",
       "      <td>NaN</td>\n",
       "      <td>NaN</td>\n",
       "      <td>NaN</td>\n",
       "    </tr>\n",
       "    <tr>\n",
       "      <th>...</th>\n",
       "      <td>...</td>\n",
       "      <td>...</td>\n",
       "      <td>...</td>\n",
       "      <td>...</td>\n",
       "      <td>...</td>\n",
       "      <td>...</td>\n",
       "      <td>...</td>\n",
       "      <td>...</td>\n",
       "    </tr>\n",
       "    <tr>\n",
       "      <th>2023-12-01</th>\n",
       "      <td>3.396473</td>\n",
       "      <td>1.714889</td>\n",
       "      <td>3.710247</td>\n",
       "      <td>3.705326</td>\n",
       "      <td>3.930818</td>\n",
       "      <td>5.691520</td>\n",
       "      <td>2.593660</td>\n",
       "      <td>3.352123</td>\n",
       "    </tr>\n",
       "    <tr>\n",
       "      <th>2024-01-01</th>\n",
       "      <td>2.858999</td>\n",
       "      <td>1.278613</td>\n",
       "      <td>2.887139</td>\n",
       "      <td>3.132635</td>\n",
       "      <td>4.034810</td>\n",
       "      <td>5.099150</td>\n",
       "      <td>2.101242</td>\n",
       "      <td>3.090885</td>\n",
       "    </tr>\n",
       "    <tr>\n",
       "      <th>2024-02-01</th>\n",
       "      <td>2.783172</td>\n",
       "      <td>1.168413</td>\n",
       "      <td>2.517361</td>\n",
       "      <td>2.962515</td>\n",
       "      <td>3.440188</td>\n",
       "      <td>5.090498</td>\n",
       "      <td>2.788462</td>\n",
       "      <td>3.153171</td>\n",
       "    </tr>\n",
       "    <tr>\n",
       "      <th>2024-03-01</th>\n",
       "      <td>2.897618</td>\n",
       "      <td>1.044914</td>\n",
       "      <td>2.153316</td>\n",
       "      <td>2.294717</td>\n",
       "      <td>3.180760</td>\n",
       "      <td>4.853273</td>\n",
       "      <td>2.681992</td>\n",
       "      <td>3.477385</td>\n",
       "    </tr>\n",
       "    <tr>\n",
       "      <th>2024-04-01</th>\n",
       "      <td>2.685422</td>\n",
       "      <td>1.367822</td>\n",
       "      <td>2.229846</td>\n",
       "      <td>2.187234</td>\n",
       "      <td>2.377301</td>\n",
       "      <td>4.828748</td>\n",
       "      <td>2.473834</td>\n",
       "      <td>3.357364</td>\n",
       "    </tr>\n",
       "  </tbody>\n",
       "</table>\n",
       "<p>532 rows × 8 columns</p>\n",
       "</div>"
      ],
      "text/plain": [
       "                  CA        CH        DE        FR        GB        IN  \\\n",
       "index                                                                    \n",
       "1980-01-01       NaN       NaN       NaN       NaN       NaN       NaN   \n",
       "1980-02-01       NaN       NaN       NaN       NaN       NaN       NaN   \n",
       "1980-03-01       NaN       NaN       NaN       NaN       NaN       NaN   \n",
       "1980-04-01       NaN       NaN       NaN       NaN       NaN       NaN   \n",
       "1980-05-01       NaN       NaN       NaN       NaN       NaN       NaN   \n",
       "...              ...       ...       ...       ...       ...       ...   \n",
       "2023-12-01  3.396473  1.714889  3.710247  3.705326  3.930818  5.691520   \n",
       "2024-01-01  2.858999  1.278613  2.887139  3.132635  4.034810  5.099150   \n",
       "2024-02-01  2.783172  1.168413  2.517361  2.962515  3.440188  5.090498   \n",
       "2024-03-01  2.897618  1.044914  2.153316  2.294717  3.180760  4.853273   \n",
       "2024-04-01  2.685422  1.367822  2.229846  2.187234  2.377301  4.828748   \n",
       "\n",
       "                  JP        US  \n",
       "index                           \n",
       "1980-01-01       NaN       NaN  \n",
       "1980-02-01       NaN       NaN  \n",
       "1980-03-01       NaN       NaN  \n",
       "1980-04-01       NaN       NaN  \n",
       "1980-05-01       NaN       NaN  \n",
       "...              ...       ...  \n",
       "2023-12-01  2.593660  3.352123  \n",
       "2024-01-01  2.101242  3.090885  \n",
       "2024-02-01  2.788462  3.153171  \n",
       "2024-03-01  2.681992  3.477385  \n",
       "2024-04-01  2.473834  3.357364  \n",
       "\n",
       "[532 rows x 8 columns]"
      ]
     },
     "metadata": {},
     "output_type": "display_data"
    }
   ],
   "source": [
    "df_target_1m_pct, df_target_12m_pct = build_target_frames(dfs_input[\"m\"], \"CPIh\")\n",
    "display(df_target_1m_pct)\n",
    "display(df_target_12m_pct)"
   ]
  },
  {
   "cell_type": "code",
   "execution_count": 7,
   "metadata": {
    "tags": [
     "remove_cell"
    ]
   },
   "outputs": [
    {
     "data": {
      "image/png": "[encoded data removed]",
      "text/plain": [
       "<Figure size 2000x600 with 1 Axes>"
      ]
     },
     "metadata": {},
     "output_type": "display_data"
    }
   ],
   "source": [
    "# | fig-align: center\n",
    "\n",
    "ax = df_target_12m_pct.plot(figsize=(20, 6))\n",
    "ax.axhline(y=0, color=\"black\")\n",
    "ax.set_title(\"Inflation\", fontsize=16, fontstyle=\"italic\")\n",
    "plt.show()"
   ]
  },
  {
   "cell_type": "markdown",
   "metadata": {},
   "source": [
    "## Date features\n",
    "\n",
    "In addition to data provided by the user, the model automatically loads categorical features related to each date."
   ]
  },
  {
   "cell_type": "code",
   "execution_count": 8,
   "metadata": {},
   "outputs": [],
   "source": [
    "def date_features(\n",
    "    date_range,  # Range of dates for which to create date features\n",
    "    is_monthly: bool = False,  # Is the date measured at the monthly frequency?\n",
    ") -> pd.DataFrame:  # Categorical date features\n",
    "    \"Categorical features for each day in a range of dates\"\n",
    "    if is_monthly:\n",
    "        return pd.DataFrame({\"Month of Year\": date_range.month})\n",
    "    else:\n",
    "        return pd.DataFrame(\n",
    "            {\n",
    "                \"Day of Week\": date_range.dayofweek\n",
    "                + 1,  # This is the only date feature with zeros, which are masked out\n",
    "                \"Day of Month\": date_range.day,\n",
    "                \"Day of Year\": date_range.dayofyear,\n",
    "                \"Week of Month\": (date_range.day - 1) // 7 + 1,\n",
    "                \"Week of Year\": pd.Index(date_range.isocalendar().week).astype(\"int32\"),\n",
    "                \"Month of Year\": date_range.month,\n",
    "            }\n",
    "        )"
   ]
  },
  {
   "cell_type": "code",
   "execution_count": 9,
   "metadata": {
    "tags": [
     "remove_cell"
    ]
   },
   "outputs": [
    {
     "data": {
      "text/markdown": [
       "---\n",
       "\n",
       "### date_features\n",
       "\n",
       ">      date_features (date_range, is_monthly:bool=False)\n",
       "\n",
       "*Categorical features for each day in a range of dates*\n",
       "\n",
       "|    | **Type** | **Default** | **Details** |\n",
       "| -- | -------- | ----------- | ----------- |\n",
       "| date_range |  |  | Range of dates for which to create date features |\n",
       "| is_monthly | bool | False | Is the date measured at the monthly frequency? |\n",
       "| **Returns** | **pd.DataFrame** |  | **Categorical date features** |"
      ],
      "text/plain": [
       "---\n",
       "\n",
       "### date_features\n",
       "\n",
       ">      date_features (date_range, is_monthly:bool=False)\n",
       "\n",
       "*Categorical features for each day in a range of dates*\n",
       "\n",
       "|    | **Type** | **Default** | **Details** |\n",
       "| -- | -------- | ----------- | ----------- |\n",
       "| date_range |  |  | Range of dates for which to create date features |\n",
       "| is_monthly | bool | False | Is the date measured at the monthly frequency? |\n",
       "| **Returns** | **pd.DataFrame** |  | **Categorical date features** |"
      ]
     },
     "execution_count": 9,
     "metadata": {},
     "output_type": "execute_result"
    }
   ],
   "source": [
    "# | output: asis\n",
    "# | echo: false\n",
    "\n",
    "show_doc(date_features, title_level=3)"
   ]
  },
  {
   "cell_type": "code",
   "execution_count": 10,
   "metadata": {
    "tags": [
     "remove_cell"
    ]
   },
   "outputs": [
    {
     "data": {
      "text/html": [
       "<div>\n",
       "<style scoped>\n",
       "    .dataframe tbody tr th:only-of-type {\n",
       "        vertical-align: middle;\n",
       "    }\n",
       "\n",
       "    .dataframe tbody tr th {\n",
       "        vertical-align: top;\n",
       "    }\n",
       "\n",
       "    .dataframe thead th {\n",
       "        text-align: right;\n",
       "    }\n",
       "</style>\n",
       "<table border=\"1\" class=\"dataframe\">\n",
       "  <thead>\n",
       "    <tr style=\"text-align: right;\">\n",
       "      <th></th>\n",
       "      <th>Day of Week</th>\n",
       "      <th>Day of Month</th>\n",
       "      <th>Day of Year</th>\n",
       "      <th>Week of Month</th>\n",
       "      <th>Week of Year</th>\n",
       "      <th>Month of Year</th>\n",
       "    </tr>\n",
       "  </thead>\n",
       "  <tbody>\n",
       "    <tr>\n",
       "      <th>0</th>\n",
       "      <td>2</td>\n",
       "      <td>1</td>\n",
       "      <td>1</td>\n",
       "      <td>1</td>\n",
       "      <td>1</td>\n",
       "      <td>1</td>\n",
       "    </tr>\n",
       "    <tr>\n",
       "      <th>1</th>\n",
       "      <td>3</td>\n",
       "      <td>2</td>\n",
       "      <td>2</td>\n",
       "      <td>1</td>\n",
       "      <td>1</td>\n",
       "      <td>1</td>\n",
       "    </tr>\n",
       "    <tr>\n",
       "      <th>2</th>\n",
       "      <td>4</td>\n",
       "      <td>3</td>\n",
       "      <td>3</td>\n",
       "      <td>1</td>\n",
       "      <td>1</td>\n",
       "      <td>1</td>\n",
       "    </tr>\n",
       "    <tr>\n",
       "      <th>3</th>\n",
       "      <td>5</td>\n",
       "      <td>4</td>\n",
       "      <td>4</td>\n",
       "      <td>1</td>\n",
       "      <td>1</td>\n",
       "      <td>1</td>\n",
       "    </tr>\n",
       "    <tr>\n",
       "      <th>4</th>\n",
       "      <td>1</td>\n",
       "      <td>7</td>\n",
       "      <td>7</td>\n",
       "      <td>1</td>\n",
       "      <td>2</td>\n",
       "      <td>1</td>\n",
       "    </tr>\n",
       "    <tr>\n",
       "      <th>5</th>\n",
       "      <td>2</td>\n",
       "      <td>8</td>\n",
       "      <td>8</td>\n",
       "      <td>2</td>\n",
       "      <td>2</td>\n",
       "      <td>1</td>\n",
       "    </tr>\n",
       "    <tr>\n",
       "      <th>6</th>\n",
       "      <td>3</td>\n",
       "      <td>9</td>\n",
       "      <td>9</td>\n",
       "      <td>2</td>\n",
       "      <td>2</td>\n",
       "      <td>1</td>\n",
       "    </tr>\n",
       "    <tr>\n",
       "      <th>7</th>\n",
       "      <td>4</td>\n",
       "      <td>10</td>\n",
       "      <td>10</td>\n",
       "      <td>2</td>\n",
       "      <td>2</td>\n",
       "      <td>1</td>\n",
       "    </tr>\n",
       "    <tr>\n",
       "      <th>8</th>\n",
       "      <td>5</td>\n",
       "      <td>11</td>\n",
       "      <td>11</td>\n",
       "      <td>2</td>\n",
       "      <td>2</td>\n",
       "      <td>1</td>\n",
       "    </tr>\n",
       "    <tr>\n",
       "      <th>9</th>\n",
       "      <td>1</td>\n",
       "      <td>14</td>\n",
       "      <td>14</td>\n",
       "      <td>2</td>\n",
       "      <td>3</td>\n",
       "      <td>1</td>\n",
       "    </tr>\n",
       "  </tbody>\n",
       "</table>\n",
       "</div>"
      ],
      "text/plain": [
       "   Day of Week  Day of Month  Day of Year  Week of Month  Week of Year  \\\n",
       "0            2             1            1              1             1   \n",
       "1            3             2            2              1             1   \n",
       "2            4             3            3              1             1   \n",
       "3            5             4            4              1             1   \n",
       "4            1             7            7              1             2   \n",
       "5            2             8            8              2             2   \n",
       "6            3             9            9              2             2   \n",
       "7            4            10           10              2             2   \n",
       "8            5            11           11              2             2   \n",
       "9            1            14           14              2             3   \n",
       "\n",
       "   Month of Year  \n",
       "0              1  \n",
       "1              1  \n",
       "2              1  \n",
       "3              1  \n",
       "4              1  \n",
       "5              1  \n",
       "6              1  \n",
       "7              1  \n",
       "8              1  \n",
       "9              1  "
      ]
     },
     "execution_count": 10,
     "metadata": {},
     "output_type": "execute_result"
    }
   ],
   "source": [
    "# | code-fold: show\n",
    "\n",
    "date_features(dfs_input[\"d\"].index)[:10]"
   ]
  },
  {
   "cell_type": "markdown",
   "metadata": {},
   "source": [
    "### Combining the date features in the main data"
   ]
  },
  {
   "cell_type": "code",
   "execution_count": 11,
   "metadata": {},
   "outputs": [],
   "source": [
    "date_feat = {}\n",
    "\n",
    "for freq, df_input in dfs_input.items():\n",
    "    date_feat_freq = date_features(df_input.index)\n",
    "    date_feat_freq.index = df_input.index\n",
    "\n",
    "    df_input = pd.concat([df_input, date_feat_freq], axis=1)\n",
    "    dfs_input[freq] = df_input\n",
    "    date_feat[freq] = date_feat_freq"
   ]
  },
  {
   "cell_type": "markdown",
   "metadata": {},
   "source": [
    "## Splitting the dataset\n",
    "\n",
    "This step needs to be done somewhat differently than normal datasets: In the validation and test periods, the input data can very well be from the previous chunk (training and validation, respectively).\n",
    "\n",
    "In practice, this means that we just need to split the **dates** at which the nowcasting will take place. Then, a data loading function (see @sec-dataloaders) can read from the whole time series to look back from that date as needed according to the desired time window."
   ]
  },
  {
   "cell_type": "code",
   "execution_count": 12,
   "metadata": {},
   "outputs": [],
   "source": [
    "start_date = dfs_input[\"d\"].index.min()\n",
    "end_date = dfs_input[\"d\"].index.max()\n",
    "cutoff_date_train = pd.to_datetime(\"2005-01-01\")\n",
    "cutoff_date_valid = pd.to_datetime(\"2020-01-01\")\n",
    "\n",
    "dates_train = pd.date_range(start_date, cutoff_date_train - timedelta(days=1))\n",
    "dates_valid = pd.date_range(cutoff_date_train, cutoff_date_valid - timedelta(days=1))\n",
    "dates_test = pd.date_range(cutoff_date_valid, end_date)"
   ]
  },
  {
   "cell_type": "markdown",
   "metadata": {},
   "source": [
    "Now all input variables that are not available in the training dataset are removed, and only those with at least some information are kept."
   ]
  },
  {
   "cell_type": "code",
   "execution_count": 13,
   "metadata": {},
   "outputs": [],
   "source": [
    "for freq, df_input in dfs_input.items():\n",
    "    keep_cols = (\n",
    "        df_input.loc[min(dates_train) : max(dates_train)]\n",
    "        .dropna(axis=1, how=\"all\")\n",
    "        .columns\n",
    "    )\n",
    "\n",
    "    dfs_input[freq] = df_input[keep_cols]"
   ]
  },
  {
   "cell_type": "markdown",
   "metadata": {},
   "source": [
    "## Identifying continuous and categorical variables {#sec-contcat}\n",
    "\n",
    " The model distinguishes continuous from categorical variables if the user does not provide a list of variable names in a simple (simplistic) way: integer-valued variables that start with one are considered categorical, all other are continuous.\n",
    "\n",
    "The criteria that categorical variables start with one is to ensure that the user does not unwarrantedly pass on categorical variables with zero, since zeros are considered to be a padding for variable-length input data.\n",
    "\n",
    "For variables that are naturally valued in integers, such as the count of number of firms, etc, the user can either ensure there is a zero amongst the integer at any time of the **training** input data, or convert these values to floating numbers. Another alternative that might be relevant in some cases is to use the natural logarithm of that data."
   ]
  },
  {
   "cell_type": "code",
   "execution_count": 14,
   "metadata": {},
   "outputs": [],
   "source": [
    "cont_cols = {}\n",
    "cat_cols = {}\n",
    "\n",
    "for freq, df_input in dfs_input.items():\n",
    "    int_cols = df_input.select_dtypes(include=[\"int\"]).columns\n",
    "\n",
    "    float_cols = df_input.select_dtypes(include=[\"float\"]).columns\n",
    "\n",
    "    # Columns that are float but actually contain integer values starting with one\n",
    "    cat_cols_tmp = []\n",
    "\n",
    "    for col in int_cols:\n",
    "\n",
    "        if min(df_input[col]) > 0:\n",
    "\n",
    "            cat_cols_tmp.append(col)\n",
    "\n",
    "    for col in float_cols:\n",
    "\n",
    "        if (df_input[col] % 1 == 0).all() and min(\n",
    "            df_input[col]\n",
    "        ) > 0:  # Check if the fractional part is 0 for all values and the lowest integer is 1\n",
    "\n",
    "            cat_cols_tmp.append(col)\n",
    "\n",
    "    cont_cols_tmp = [c for c in df_input.columns if c not in cat_cols_tmp]\n",
    "\n",
    "    assert len(cont_cols_tmp) + len(cat_cols_tmp) == df_input.shape[1]\n",
    "    cont_cols[freq] = cont_cols_tmp\n",
    "    cat_cols[freq] = cat_cols_tmp"
   ]
  },
  {
   "cell_type": "markdown",
   "metadata": {},
   "source": [
    "Further, the categorical variables require a dictionary that indicates the cardinality of each variable."
   ]
  },
  {
   "cell_type": "markdown",
   "metadata": {},
   "source": [
    "## Scaling the continuous variables\n",
    "\n",
    "The input series need to be scaled, according to the training data mean and standard deviation.\n",
    "\n",
    "The target series will not be scaled because it is already a small number close to zero that is not exploding in nature."
   ]
  },
  {
   "cell_type": "code",
   "execution_count": 15,
   "metadata": {},
   "outputs": [],
   "source": [
    "# | warning: false\n",
    "dfs_input_scl = {}\n",
    "\n",
    "for freq, df_input in dfs_input.items():\n",
    "    scl = StandardScaler()\n",
    "    scl.fit(df_input.loc[dates_train.min() : dates_train.max(), cont_cols[freq]])\n",
    "    df_input_scl = pd.DataFrame(\n",
    "        scl.transform(df_input[cont_cols[freq]]),\n",
    "        index=df_input.index,\n",
    "        columns=cont_cols[freq],\n",
    "    )\n",
    "    df_input_scl = pd.concat([df_input_scl, date_feat[freq]], axis=1)\n",
    "\n",
    "    assert df_input_scl.shape == df_input.shape\n",
    "\n",
    "    dfs_input_scl[freq] = df_input_scl"
   ]
  },
  {
   "cell_type": "markdown",
   "metadata": {},
   "source": [
    "## Cardinality of categorical variables\n",
    "\n",
    "Each categorical variable has its own cardinality. This value is important when creating the embedding layer for each variable; see @sec-input."
   ]
  },
  {
   "cell_type": "code",
   "execution_count": 16,
   "metadata": {},
   "outputs": [
    {
     "data": {
      "text/plain": [
       "{'Day of Week': 6,\n",
       " 'Day of Month': 32,\n",
       " 'Day of Year': 367,\n",
       " 'Week of Month': 6,\n",
       " 'Week of Year': 54,\n",
       " 'Month of Year': 13}"
      ]
     },
     "execution_count": 16,
     "metadata": {},
     "output_type": "execute_result"
    }
   ],
   "source": [
    "cardin_hist = {c: len(dfs_input_scl[\"d\"][c].unique()) + 1 for c in cat_cols_tmp}\n",
    "\n",
    "cardin_hist"
   ]
  },
  {
   "cell_type": "markdown",
   "metadata": {},
   "source": [
    "The cardinality of the static variable(s) must also be included:"
   ]
  },
  {
   "cell_type": "code",
   "execution_count": 17,
   "metadata": {},
   "outputs": [],
   "source": [
    "cardin_stat = dict(Countries=len(df_target_1m_pct.columns) + 1)"
   ]
  },
  {
   "cell_type": "markdown",
   "metadata": {},
   "source": [
    "The country list also requires an encoding/decoding dictionary for subsequent analyses."
   ]
  },
  {
   "cell_type": "code",
   "execution_count": 18,
   "metadata": {},
   "outputs": [],
   "source": [
    "country_enc_dict = {cty: idx + 1 for idx, cty in enumerate(df_target_1m_pct.columns)}\n",
    "country_dec_dict = {idx: cty for cty, idx in country_enc_dict.items()}"
   ]
  },
  {
   "cell_type": "markdown",
   "metadata": {},
   "source": [
    "## Dealing with missing data\n",
    "\n",
    "\n",
    "Missing data is dealt with by replacing `NaN`s in the input data with zeros. This has two effects:\n",
    "\n",
    "* it prevents embedding categorical variables since zeros are masked out\n",
    "\n",
    "* for the continuous data, the input layer weights do not pick up any information, and the constant (or \"bias\" in machine learning language) is responsible for conveying any information to subsequent neurons.\n",
    "\n",
    "A more sophisticated approach would be to estimate missing data based on other contemporaneous and past data. For simplicity, this approach will not be followed in this example."
   ]
  },
  {
   "cell_type": "markdown",
   "metadata": {},
   "source": [
    "Obviously this step needs to be done after the input data is scaled, otherwise the zeros would be wrongly contributing to the mean and standard deviation values."
   ]
  },
  {
   "cell_type": "code",
   "execution_count": 19,
   "metadata": {},
   "outputs": [],
   "source": [
    "for freq, df_input_scl in dfs_input_scl.items():\n",
    "    dfs_input_scl[freq] = df_input_scl.fillna(0)"
   ]
  },
  {
   "cell_type": "markdown",
   "metadata": {},
   "source": [
    "Finally, we remove the input months for which there is no inflation data (eg, due to the one-month growth calculation):"
   ]
  },
  {
   "cell_type": "code",
   "execution_count": 20,
   "metadata": {},
   "outputs": [],
   "source": [
    "for freq, df_input_scl in dfs_input_scl.items():\n",
    "    dfs_input_scl[freq] = df_input_scl[df_target_1m_pct.dropna().index.min() :]"
   ]
  },
  {
   "cell_type": "markdown",
   "metadata": {},
   "source": [
    "## Splitting the data"
   ]
  },
  {
   "cell_type": "markdown",
   "metadata": {},
   "source": [
    "Now we separate the training, validation and test data.\n",
    "Once again, this is done per frequency:"
   ]
  },
  {
   "cell_type": "code",
   "execution_count": 21,
   "metadata": {},
   "outputs": [
    {
     "name": "stdout",
     "output_type": "stream",
     "text": [
      "d 6501 3913 1151\n",
      "m 299 180 52\n",
      "q 99 60 17\n"
     ]
    }
   ],
   "source": [
    "df_input_train = {}\n",
    "df_input_valid = {}\n",
    "df_input_test = {}\n",
    "\n",
    "for freq, df_input_scl in dfs_input_scl.items():\n",
    "    df_input_train[freq] = df_input_scl[: dates_train.max()]\n",
    "\n",
    "    df_input_valid[freq] = df_input_scl[dates_train.max() : dates_valid.max()]\n",
    "\n",
    "    df_input_test[freq] = df_input_scl[dates_valid.max() : dates_test.max()]\n",
    "\n",
    "    print(\n",
    "        freq,\n",
    "        df_input_train[freq].shape[0],\n",
    "        df_input_valid[freq].shape[0],\n",
    "        df_input_test[freq].shape[0],\n",
    "    )"
   ]
  },
  {
   "cell_type": "code",
   "execution_count": 22,
   "metadata": {},
   "outputs": [
    {
     "data": {
      "text/html": [
       "<div>\n",
       "<style scoped>\n",
       "    .dataframe tbody tr th:only-of-type {\n",
       "        vertical-align: middle;\n",
       "    }\n",
       "\n",
       "    .dataframe tbody tr th {\n",
       "        vertical-align: top;\n",
       "    }\n",
       "\n",
       "    .dataframe thead th {\n",
       "        text-align: right;\n",
       "    }\n",
       "</style>\n",
       "<table border=\"1\" class=\"dataframe\">\n",
       "  <thead>\n",
       "    <tr style=\"text-align: right;\">\n",
       "      <th></th>\n",
       "      <th>energy__CA</th>\n",
       "      <th>energy__CH</th>\n",
       "      <th>energy__DE</th>\n",
       "      <th>energy__FR</th>\n",
       "      <th>energy__GB</th>\n",
       "      <th>energy__IN</th>\n",
       "      <th>energy__JP</th>\n",
       "      <th>energy__US</th>\n",
       "      <th>nonFuel__CA</th>\n",
       "      <th>nonFuel__CH</th>\n",
       "      <th>...</th>\n",
       "      <th>banking_crisis__FR</th>\n",
       "      <th>banking_crisis__GB</th>\n",
       "      <th>banking_crisis__JP</th>\n",
       "      <th>banking_crisis__US</th>\n",
       "      <th>Day of Week</th>\n",
       "      <th>Day of Month</th>\n",
       "      <th>Day of Year</th>\n",
       "      <th>Week of Month</th>\n",
       "      <th>Week of Year</th>\n",
       "      <th>Month of Year</th>\n",
       "    </tr>\n",
       "    <tr>\n",
       "      <th>index</th>\n",
       "      <th></th>\n",
       "      <th></th>\n",
       "      <th></th>\n",
       "      <th></th>\n",
       "      <th></th>\n",
       "      <th></th>\n",
       "      <th></th>\n",
       "      <th></th>\n",
       "      <th></th>\n",
       "      <th></th>\n",
       "      <th></th>\n",
       "      <th></th>\n",
       "      <th></th>\n",
       "      <th></th>\n",
       "      <th></th>\n",
       "      <th></th>\n",
       "      <th></th>\n",
       "      <th></th>\n",
       "      <th></th>\n",
       "      <th></th>\n",
       "      <th></th>\n",
       "    </tr>\n",
       "  </thead>\n",
       "  <tbody>\n",
       "    <tr>\n",
       "      <th>1980-02-01</th>\n",
       "      <td>0.000000</td>\n",
       "      <td>0.000000</td>\n",
       "      <td>0.000000</td>\n",
       "      <td>0.000000</td>\n",
       "      <td>0.000000</td>\n",
       "      <td>0.000000</td>\n",
       "      <td>0.000000</td>\n",
       "      <td>0.000000</td>\n",
       "      <td>0.000000</td>\n",
       "      <td>0.000000</td>\n",
       "      <td>...</td>\n",
       "      <td>0.0</td>\n",
       "      <td>0.0</td>\n",
       "      <td>0.0</td>\n",
       "      <td>0.0</td>\n",
       "      <td>5</td>\n",
       "      <td>1</td>\n",
       "      <td>32</td>\n",
       "      <td>1</td>\n",
       "      <td>5</td>\n",
       "      <td>2</td>\n",
       "    </tr>\n",
       "    <tr>\n",
       "      <th>1980-03-01</th>\n",
       "      <td>0.000000</td>\n",
       "      <td>0.000000</td>\n",
       "      <td>0.000000</td>\n",
       "      <td>0.000000</td>\n",
       "      <td>0.000000</td>\n",
       "      <td>0.000000</td>\n",
       "      <td>0.000000</td>\n",
       "      <td>0.000000</td>\n",
       "      <td>0.000000</td>\n",
       "      <td>0.000000</td>\n",
       "      <td>...</td>\n",
       "      <td>0.0</td>\n",
       "      <td>0.0</td>\n",
       "      <td>0.0</td>\n",
       "      <td>0.0</td>\n",
       "      <td>6</td>\n",
       "      <td>1</td>\n",
       "      <td>61</td>\n",
       "      <td>1</td>\n",
       "      <td>9</td>\n",
       "      <td>3</td>\n",
       "    </tr>\n",
       "    <tr>\n",
       "      <th>1980-04-01</th>\n",
       "      <td>0.000000</td>\n",
       "      <td>0.000000</td>\n",
       "      <td>0.000000</td>\n",
       "      <td>0.000000</td>\n",
       "      <td>0.000000</td>\n",
       "      <td>0.000000</td>\n",
       "      <td>0.000000</td>\n",
       "      <td>0.000000</td>\n",
       "      <td>0.000000</td>\n",
       "      <td>0.000000</td>\n",
       "      <td>...</td>\n",
       "      <td>0.0</td>\n",
       "      <td>0.0</td>\n",
       "      <td>0.0</td>\n",
       "      <td>0.0</td>\n",
       "      <td>2</td>\n",
       "      <td>1</td>\n",
       "      <td>92</td>\n",
       "      <td>1</td>\n",
       "      <td>14</td>\n",
       "      <td>4</td>\n",
       "    </tr>\n",
       "    <tr>\n",
       "      <th>1980-05-01</th>\n",
       "      <td>0.000000</td>\n",
       "      <td>0.000000</td>\n",
       "      <td>0.000000</td>\n",
       "      <td>0.000000</td>\n",
       "      <td>0.000000</td>\n",
       "      <td>0.000000</td>\n",
       "      <td>0.000000</td>\n",
       "      <td>0.000000</td>\n",
       "      <td>0.000000</td>\n",
       "      <td>0.000000</td>\n",
       "      <td>...</td>\n",
       "      <td>0.0</td>\n",
       "      <td>0.0</td>\n",
       "      <td>0.0</td>\n",
       "      <td>0.0</td>\n",
       "      <td>4</td>\n",
       "      <td>1</td>\n",
       "      <td>122</td>\n",
       "      <td>1</td>\n",
       "      <td>18</td>\n",
       "      <td>5</td>\n",
       "    </tr>\n",
       "    <tr>\n",
       "      <th>1980-06-01</th>\n",
       "      <td>0.000000</td>\n",
       "      <td>0.000000</td>\n",
       "      <td>0.000000</td>\n",
       "      <td>0.000000</td>\n",
       "      <td>0.000000</td>\n",
       "      <td>0.000000</td>\n",
       "      <td>0.000000</td>\n",
       "      <td>0.000000</td>\n",
       "      <td>0.000000</td>\n",
       "      <td>0.000000</td>\n",
       "      <td>...</td>\n",
       "      <td>0.0</td>\n",
       "      <td>0.0</td>\n",
       "      <td>0.0</td>\n",
       "      <td>0.0</td>\n",
       "      <td>7</td>\n",
       "      <td>1</td>\n",
       "      <td>153</td>\n",
       "      <td>1</td>\n",
       "      <td>22</td>\n",
       "      <td>6</td>\n",
       "    </tr>\n",
       "    <tr>\n",
       "      <th>...</th>\n",
       "      <td>...</td>\n",
       "      <td>...</td>\n",
       "      <td>...</td>\n",
       "      <td>...</td>\n",
       "      <td>...</td>\n",
       "      <td>...</td>\n",
       "      <td>...</td>\n",
       "      <td>...</td>\n",
       "      <td>...</td>\n",
       "      <td>...</td>\n",
       "      <td>...</td>\n",
       "      <td>...</td>\n",
       "      <td>...</td>\n",
       "      <td>...</td>\n",
       "      <td>...</td>\n",
       "      <td>...</td>\n",
       "      <td>...</td>\n",
       "      <td>...</td>\n",
       "      <td>...</td>\n",
       "      <td>...</td>\n",
       "      <td>...</td>\n",
       "    </tr>\n",
       "    <tr>\n",
       "      <th>2004-08-01</th>\n",
       "      <td>2.681972</td>\n",
       "      <td>2.681972</td>\n",
       "      <td>2.681972</td>\n",
       "      <td>2.681972</td>\n",
       "      <td>2.681972</td>\n",
       "      <td>2.681972</td>\n",
       "      <td>2.681972</td>\n",
       "      <td>2.681972</td>\n",
       "      <td>1.406574</td>\n",
       "      <td>1.406574</td>\n",
       "      <td>...</td>\n",
       "      <td>0.0</td>\n",
       "      <td>0.0</td>\n",
       "      <td>0.0</td>\n",
       "      <td>0.0</td>\n",
       "      <td>7</td>\n",
       "      <td>1</td>\n",
       "      <td>214</td>\n",
       "      <td>1</td>\n",
       "      <td>31</td>\n",
       "      <td>8</td>\n",
       "    </tr>\n",
       "    <tr>\n",
       "      <th>2004-09-01</th>\n",
       "      <td>2.615042</td>\n",
       "      <td>2.615042</td>\n",
       "      <td>2.615042</td>\n",
       "      <td>2.615042</td>\n",
       "      <td>2.615042</td>\n",
       "      <td>2.615042</td>\n",
       "      <td>2.615042</td>\n",
       "      <td>2.615042</td>\n",
       "      <td>1.503147</td>\n",
       "      <td>1.503147</td>\n",
       "      <td>...</td>\n",
       "      <td>0.0</td>\n",
       "      <td>0.0</td>\n",
       "      <td>0.0</td>\n",
       "      <td>0.0</td>\n",
       "      <td>3</td>\n",
       "      <td>1</td>\n",
       "      <td>245</td>\n",
       "      <td>1</td>\n",
       "      <td>36</td>\n",
       "      <td>9</td>\n",
       "    </tr>\n",
       "    <tr>\n",
       "      <th>2004-10-01</th>\n",
       "      <td>3.363086</td>\n",
       "      <td>3.363086</td>\n",
       "      <td>3.363086</td>\n",
       "      <td>3.363086</td>\n",
       "      <td>3.363086</td>\n",
       "      <td>3.363086</td>\n",
       "      <td>3.363086</td>\n",
       "      <td>3.363086</td>\n",
       "      <td>1.612012</td>\n",
       "      <td>1.612012</td>\n",
       "      <td>...</td>\n",
       "      <td>0.0</td>\n",
       "      <td>0.0</td>\n",
       "      <td>0.0</td>\n",
       "      <td>0.0</td>\n",
       "      <td>5</td>\n",
       "      <td>1</td>\n",
       "      <td>275</td>\n",
       "      <td>1</td>\n",
       "      <td>40</td>\n",
       "      <td>10</td>\n",
       "    </tr>\n",
       "    <tr>\n",
       "      <th>2004-11-01</th>\n",
       "      <td>2.897387</td>\n",
       "      <td>2.897387</td>\n",
       "      <td>2.897387</td>\n",
       "      <td>2.897387</td>\n",
       "      <td>2.897387</td>\n",
       "      <td>2.897387</td>\n",
       "      <td>2.897387</td>\n",
       "      <td>2.897387</td>\n",
       "      <td>1.838520</td>\n",
       "      <td>1.838520</td>\n",
       "      <td>...</td>\n",
       "      <td>0.0</td>\n",
       "      <td>0.0</td>\n",
       "      <td>0.0</td>\n",
       "      <td>0.0</td>\n",
       "      <td>1</td>\n",
       "      <td>1</td>\n",
       "      <td>306</td>\n",
       "      <td>1</td>\n",
       "      <td>45</td>\n",
       "      <td>11</td>\n",
       "    </tr>\n",
       "    <tr>\n",
       "      <th>2004-12-01</th>\n",
       "      <td>2.586358</td>\n",
       "      <td>2.586358</td>\n",
       "      <td>2.586358</td>\n",
       "      <td>2.586358</td>\n",
       "      <td>2.586358</td>\n",
       "      <td>2.586358</td>\n",
       "      <td>2.586358</td>\n",
       "      <td>2.586358</td>\n",
       "      <td>2.138776</td>\n",
       "      <td>2.138776</td>\n",
       "      <td>...</td>\n",
       "      <td>0.0</td>\n",
       "      <td>0.0</td>\n",
       "      <td>0.0</td>\n",
       "      <td>0.0</td>\n",
       "      <td>3</td>\n",
       "      <td>1</td>\n",
       "      <td>336</td>\n",
       "      <td>1</td>\n",
       "      <td>49</td>\n",
       "      <td>12</td>\n",
       "    </tr>\n",
       "  </tbody>\n",
       "</table>\n",
       "<p>299 rows × 119 columns</p>\n",
       "</div>"
      ],
      "text/plain": [
       "            energy__CA  energy__CH  energy__DE  energy__FR  energy__GB  \\\n",
       "index                                                                    \n",
       "1980-02-01    0.000000    0.000000    0.000000    0.000000    0.000000   \n",
       "1980-03-01    0.000000    0.000000    0.000000    0.000000    0.000000   \n",
       "1980-04-01    0.000000    0.000000    0.000000    0.000000    0.000000   \n",
       "1980-05-01    0.000000    0.000000    0.000000    0.000000    0.000000   \n",
       "1980-06-01    0.000000    0.000000    0.000000    0.000000    0.000000   \n",
       "...                ...         ...         ...         ...         ...   \n",
       "2004-08-01    2.681972    2.681972    2.681972    2.681972    2.681972   \n",
       "2004-09-01    2.615042    2.615042    2.615042    2.615042    2.615042   \n",
       "2004-10-01    3.363086    3.363086    3.363086    3.363086    3.363086   \n",
       "2004-11-01    2.897387    2.897387    2.897387    2.897387    2.897387   \n",
       "2004-12-01    2.586358    2.586358    2.586358    2.586358    2.586358   \n",
       "\n",
       "            energy__IN  energy__JP  energy__US  nonFuel__CA  nonFuel__CH  ...  \\\n",
       "index                                                                     ...   \n",
       "1980-02-01    0.000000    0.000000    0.000000     0.000000     0.000000  ...   \n",
       "1980-03-01    0.000000    0.000000    0.000000     0.000000     0.000000  ...   \n",
       "1980-04-01    0.000000    0.000000    0.000000     0.000000     0.000000  ...   \n",
       "1980-05-01    0.000000    0.000000    0.000000     0.000000     0.000000  ...   \n",
       "1980-06-01    0.000000    0.000000    0.000000     0.000000     0.000000  ...   \n",
       "...                ...         ...         ...          ...          ...  ...   \n",
       "2004-08-01    2.681972    2.681972    2.681972     1.406574     1.406574  ...   \n",
       "2004-09-01    2.615042    2.615042    2.615042     1.503147     1.503147  ...   \n",
       "2004-10-01    3.363086    3.363086    3.363086     1.612012     1.612012  ...   \n",
       "2004-11-01    2.897387    2.897387    2.897387     1.838520     1.838520  ...   \n",
       "2004-12-01    2.586358    2.586358    2.586358     2.138776     2.138776  ...   \n",
       "\n",
       "            banking_crisis__FR  banking_crisis__GB  banking_crisis__JP  \\\n",
       "index                                                                    \n",
       "1980-02-01                 0.0                 0.0                 0.0   \n",
       "1980-03-01                 0.0                 0.0                 0.0   \n",
       "1980-04-01                 0.0                 0.0                 0.0   \n",
       "1980-05-01                 0.0                 0.0                 0.0   \n",
       "1980-06-01                 0.0                 0.0                 0.0   \n",
       "...                        ...                 ...                 ...   \n",
       "2004-08-01                 0.0                 0.0                 0.0   \n",
       "2004-09-01                 0.0                 0.0                 0.0   \n",
       "2004-10-01                 0.0                 0.0                 0.0   \n",
       "2004-11-01                 0.0                 0.0                 0.0   \n",
       "2004-12-01                 0.0                 0.0                 0.0   \n",
       "\n",
       "            banking_crisis__US  Day of Week  Day of Month  Day of Year  \\\n",
       "index                                                                    \n",
       "1980-02-01                 0.0            5             1           32   \n",
       "1980-03-01                 0.0            6             1           61   \n",
       "1980-04-01                 0.0            2             1           92   \n",
       "1980-05-01                 0.0            4             1          122   \n",
       "1980-06-01                 0.0            7             1          153   \n",
       "...                        ...          ...           ...          ...   \n",
       "2004-08-01                 0.0            7             1          214   \n",
       "2004-09-01                 0.0            3             1          245   \n",
       "2004-10-01                 0.0            5             1          275   \n",
       "2004-11-01                 0.0            1             1          306   \n",
       "2004-12-01                 0.0            3             1          336   \n",
       "\n",
       "            Week of Month  Week of Year  Month of Year  \n",
       "index                                                   \n",
       "1980-02-01              1             5              2  \n",
       "1980-03-01              1             9              3  \n",
       "1980-04-01              1            14              4  \n",
       "1980-05-01              1            18              5  \n",
       "1980-06-01              1            22              6  \n",
       "...                   ...           ...            ...  \n",
       "2004-08-01              1            31              8  \n",
       "2004-09-01              1            36              9  \n",
       "2004-10-01              1            40             10  \n",
       "2004-11-01              1            45             11  \n",
       "2004-12-01              1            49             12  \n",
       "\n",
       "[299 rows x 119 columns]"
      ]
     },
     "execution_count": 22,
     "metadata": {},
     "output_type": "execute_result"
    }
   ],
   "source": [
    "df_input_train[\"m\"]"
   ]
  },
  {
   "cell_type": "markdown",
   "metadata": {},
   "source": [
    "## Data loaders {#sec-dataloaders}"
   ]
  },
  {
   "cell_type": "markdown",
   "metadata": {},
   "source": [
    "Ideally a data loader should:\n",
    "\n",
    "* create a pair of input/target data\n",
    "\n",
    "* the input data should contain:\n",
    "\n",
    "    * continuous data from all countries\n",
    "\n",
    "    * categorical date features\n",
    "\n",
    "    * categorical feature of the country (ie, which country it is)\n",
    "\n",
    "    * known future inputs\n",
    "\n",
    "On the known future inputs: those will be essentially the categorical date features, broadcasted until the end of the desired month to be nowcasted (ie, either the current month or a future one). The nowcast will then be the value of inflation at the end of the \"as-of\" month.\n",
    "\n",
    "> Note: so far, the only known future data used by the model are the categorical features from the dates up to the last day of the nowcasted/forecasted month. However, an important known future data for inflation are the central bank policy variables. These are not yet dealth with in this code, but a future version should incorporate an intelligent way for users to input a vector of policy variables, with the dates up until which they would be known. This could be done in a separate DataFrame with policy variables, which would arguably facilitate working with this data separately from all others."
   ]
  },
  {
   "cell_type": "code",
   "execution_count": 23,
   "metadata": {},
   "outputs": [
    {
     "name": "stdout",
     "output_type": "stream",
     "text": [
      "earliest_poss_date=Timestamp('1980-06-06 00:00:00')\n"
     ]
    },
    {
     "data": {
      "text/plain": [
       "Timedelta('210 days 00:00:00')"
      ]
     },
     "execution_count": 23,
     "metadata": {},
     "output_type": "execute_result"
    }
   ],
   "source": [
    "from nowcastml.data.dataloader import sample_dates, pad_to_context_length\n",
    "\n",
    "x, y = sample_dates(df_input_train[\"d\"], 90, 12, 365)\n",
    "y - x"
   ]
  },
  {
   "cell_type": "code",
   "execution_count": 24,
   "metadata": {},
   "outputs": [
    {
     "data": {
      "text/markdown": [
       "---\n",
       "\n",
       "### sample_nowcasting_data\n",
       "\n",
       ">      sample_nowcasting_data (dfs_input:dict[str,pandas.core.frame.DataFrame],\n",
       ">                              df_target:pandas.core.frame.DataFrame,\n",
       ">                              country_enc_dict:dict[str,int],\n",
       ">                              country_dec_dict:dict[int,str], cont_cols,\n",
       ">                              cat_cols, min_context:int=90,\n",
       ">                              context_length:int=365, num_months:int=12,\n",
       ">                              sampled_day:None|str=None, country:None|str=None,\n",
       ">                              skip_y:bool=False)\n",
       "\n",
       "|    | **Type** | **Default** | **Details** |\n",
       "| -- | -------- | ----------- | ----------- |\n",
       "| dfs_input | dict |  |  |\n",
       "| df_target | DataFrame |  | DataFrame with the time series of the target variable |\n",
       "| country_enc_dict | dict |  |  |\n",
       "| country_dec_dict | dict |  |  |\n",
       "| cont_cols |  |  |  |\n",
       "| cat_cols |  |  |  |\n",
       "| min_context | int | 90 | minimum context length in number of daily observations |\n",
       "| context_length | int | 365 | context length in number of daily observations (leads to padding if not reached in sampling) |\n",
       "| num_months | int | 12 | number of months (1 is current month) |\n",
       "| sampled_day | None \\| str | None |  |\n",
       "| country | None \\| str | None | None (default) randomly chooses a date; otherwise, YYYY-MM-DD date selected a date |\n",
       "| skip_y | bool | False | None (default) randomly chooses a country; otherwise, 2-digit ISO code selectes a country |\n",
       "| **Returns** | **InputData** |  |  |"
      ],
      "text/plain": [
       "---\n",
       "\n",
       "### sample_nowcasting_data\n",
       "\n",
       ">      sample_nowcasting_data (dfs_input:dict[str,pandas.core.frame.DataFrame],\n",
       ">                              df_target:pandas.core.frame.DataFrame,\n",
       ">                              country_enc_dict:dict[str,int],\n",
       ">                              country_dec_dict:dict[int,str], cont_cols,\n",
       ">                              cat_cols, min_context:int=90,\n",
       ">                              context_length:int=365, num_months:int=12,\n",
       ">                              sampled_day:None|str=None, country:None|str=None,\n",
       ">                              skip_y:bool=False)\n",
       "\n",
       "|    | **Type** | **Default** | **Details** |\n",
       "| -- | -------- | ----------- | ----------- |\n",
       "| dfs_input | dict |  |  |\n",
       "| df_target | DataFrame |  | DataFrame with the time series of the target variable |\n",
       "| country_enc_dict | dict |  |  |\n",
       "| country_dec_dict | dict |  |  |\n",
       "| cont_cols |  |  |  |\n",
       "| cat_cols |  |  |  |\n",
       "| min_context | int | 90 | minimum context length in number of daily observations |\n",
       "| context_length | int | 365 | context length in number of daily observations (leads to padding if not reached in sampling) |\n",
       "| num_months | int | 12 | number of months (1 is current month) |\n",
       "| sampled_day | None \\| str | None |  |\n",
       "| country | None \\| str | None | None (default) randomly chooses a date; otherwise, YYYY-MM-DD date selected a date |\n",
       "| skip_y | bool | False | None (default) randomly chooses a country; otherwise, 2-digit ISO code selectes a country |\n",
       "| **Returns** | **InputData** |  |  |"
      ]
     },
     "execution_count": 24,
     "metadata": {},
     "output_type": "execute_result"
    }
   ],
   "source": [
    "from nowcastml.data.dataloader import sample_nowcasting_data\n",
    "\n",
    "show_doc(sample_nowcasting_data, title_level=3)"
   ]
  },
  {
   "cell_type": "code",
   "execution_count": 48,
   "metadata": {
    "tags": [
     "remove-cell"
    ]
   },
   "outputs": [
    {
     "name": "stdout",
     "output_type": "stream",
     "text": [
      "earliest_poss_date=Timestamp('1980-07-18 00:00:00')\n",
      "Historical, continuous data:\n",
      "frequency=d, shape=(120, 107)\n",
      "frequency=m, shape=(120, 113)\n",
      "frequency=q, shape=(120, 167)\n",
      "\n",
      "Historical, categorical data:\n",
      "frequency=d, shape=(120, 6)\n",
      "frequency=m, shape=(120, 6)\n",
      "frequency=q, shape=(120, 6)\n",
      "\n",
      "Known future data:\n",
      "(12, 1)\n",
      "\n",
      "Static categorical:\n",
      "(1,)\n"
     ]
    }
   ],
   "source": [
    "# Not yet happy about this\n",
    "tft_kwargs = dict(\n",
    "    cont_cols=cont_cols,\n",
    "    cat_cols=cat_cols,\n",
    "    country_dec_dict=country_dec_dict,\n",
    "    country_enc_dict=country_enc_dict,\n",
    ")\n",
    "\n",
    "[X_cont_hist, X_cat_hist, X_fut, X_cat_stat], y = sample_nowcasting_data(\n",
    "    dfs_input=df_input_train,\n",
    "\n",
    "    df_target=df_target_1m_pct,\n",
    "\n",
    "    min_context=120,\n",
    "\n",
    "    context_length=120,\n",
    "\n",
    "    **tft_kwargs,\n",
    "\n",
    ")\n",
    "\n",
    "print(\"Historical, continuous data:\")\n",
    "for freq, X in X_cont_hist.items():\n",
    "\n",
    "    print(f\"frequency={freq}, shape={X.shape}\")\n",
    "\n",
    "print(\"\\nHistorical, categorical data:\")\n",
    "for freq, X in X_cat_hist.items():\n",
    "    print(f\"frequency={freq}, shape={X.shape}\")\n",
    "\n",
    "print(\"\\nKnown future data:\")\n",
    "print(X_fut.shape)\n",
    "\n",
    "print(\"\\nStatic categorical:\")\n",
    "print(X_cat_stat.shape)"
   ]
  },
  {
   "cell_type": "markdown",
   "metadata": {},
   "source": [
    "Note that `min_context` not necessarily number of days because of weekends, etc.\n",
    "\n",
    "In practice, this means that the sampled data almost always needs to be padded, even when `min_context` is equal to `context_length`. See the example below."
   ]
  },
  {
   "cell_type": "code",
   "execution_count": 38,
   "metadata": {
    "tags": [
     "remove_cell"
    ]
   },
   "outputs": [
    {
     "data": {
      "text/plain": [
       "<Axes: >"
      ]
     },
     "execution_count": 38,
     "metadata": {},
     "output_type": "execute_result"
    },
    {
     "data": {
      "image/png": "[encoded data removed]",
      "text/plain": [
       "<Figure size 640x480 with 1 Axes>"
      ]
     },
     "metadata": {},
     "output_type": "display_data"
    }
   ],
   "source": [
    "pd.DataFrame(X_cont_hist[\"d\"]).plot(legend=False)"
   ]
  },
  {
   "cell_type": "code",
   "execution_count": 49,
   "metadata": {
    "tags": [
     "remove_cell"
    ]
   },
   "outputs": [
    {
     "name": "stdout",
     "output_type": "stream",
     "text": [
      "earliest_poss_date=Timestamp('1980-07-18 00:00:00')\n",
      "Historical, continuous data:\n",
      "frequency=d, shape=(120, 107)\n",
      "frequency=m, shape=(120, 113)\n",
      "frequency=q, shape=(120, 167)\n",
      "\n",
      "Historical, categorical data:\n",
      "frequency=d, shape=(120, 6)\n",
      "frequency=m, shape=(120, 6)\n",
      "frequency=q, shape=(120, 6)\n",
      "\n",
      "Known future data:\n",
      "(12, 1)\n",
      "\n",
      "Static categorical:\n",
      "torch.Size([1])\n",
      "\n",
      " Target variable:\n",
      "(12,)\n"
     ]
    }
   ],
   "source": [
    "[X_cont_hist, X_cat_hist, X_fut, X_cat_stat], y = sample_nowcasting_data(\n",
    "    dfs_input=df_input_train,\n",
    "    df_target=df_target_1m_pct,\n",
    "    min_context=120,\n",
    "    context_length=120,\n",
    "    sampled_day=\"2009-02-14\",\n",
    "    country=\"CH\",\n",
    "    **tft_kwargs,\n",
    ")\n",
    "\n",
    "\n",
    "print(\"Historical, continuous data:\")\n",
    "for freq, X in X_cont_hist.items():\n",
    "    print(f\"frequency={freq}, shape={X.shape}\")\n",
    "\n",
    "print(\"\\nHistorical, categorical data:\")\n",
    "for freq, X in X_cat_hist.items():\n",
    "    print(f\"frequency={freq}, shape={X.shape}\")\n",
    "\n",
    "print(\"\\nKnown future data:\")\n",
    "print(X_fut.shape)\n",
    "\n",
    "print(\"\\nStatic categorical:\")\n",
    "print(X_cat_stat.shape)\n",
    "\n",
    "print(\"\\n Target variable:\")\n",
    "print(y.shape)"
   ]
  },
  {
   "cell_type": "code",
   "execution_count": 45,
   "metadata": {},
   "outputs": [],
   "source": [
    "from collections import defaultdict\n",
    "\n",
    "\n",
    "def prepare_data_samples(n_samples: int = 1000, **kwargs):\n",
    "\n",
    "    \"Transforms the dataset from tabular format to a dataset used for training the TFT model.\"\n",
    "    X_cont_hist = defaultdict(list)\n",
    "    X_cat_hist = defaultdict(list)\n",
    "    X_fut = []\n",
    "    X_cat_stat = []\n",
    "\n",
    "    y = []\n",
    "\n",
    "    for i in tqdm(range(n_samples)):\n",
    "\n",
    "        [indiv_cont_hist, indiv_cat_hist, indiv_fut, indiv_cat_stat], indiv_y = (\n",
    "\n",
    "            sample_nowcasting_data(**kwargs)\n",
    "\n",
    "        )\n",
    "        for freq in indiv_cat_hist.keys():\n",
    "\n",
    "            X_cont_hist[freq].append(indiv_cont_hist[freq])\n",
    "\n",
    "            X_cat_hist[freq].append(indiv_cat_hist[freq])\n",
    "\n",
    "        X_fut.append(indiv_fut)\n",
    "\n",
    "        X_cat_stat.append(indiv_cat_stat)\n",
    "\n",
    "        y.append(indiv_y)\n",
    "\n",
    "\n",
    "    for freq in X_cont_hist.keys():\n",
    "\n",
    "        X_cont_hist[freq] = keras.ops.stack(X_cont_hist[freq], axis=0)\n",
    "\n",
    "        X_cat_hist[freq] = keras.ops.stack(X_cat_hist[freq], axis=0)\n",
    "\n",
    "\n",
    "    X_fut = keras.ops.stack(X_fut, axis=0)\n",
    "\n",
    "    X_cat_stat = keras.ops.stack(X_cat_stat, axis=0)\n",
    "\n",
    "    y = keras.ops.stack(y, axis=0)\n",
    "\n",
    "\n",
    "    return [X_cont_hist, X_cat_hist, X_fut, X_cat_stat], y"
   ]
  },
  {
   "cell_type": "code",
   "execution_count": 46,
   "metadata": {
    "tags": [
     "remove_cell"
    ]
   },
   "outputs": [
    {
     "data": {
      "text/markdown": [
       "---\n",
       "\n",
       "### prepare_data_samples\n",
       "\n",
       ">      prepare_data_samples (n_samples:int=1000, **kwargs)\n",
       "\n",
       "*Transforms the dataset from tabular format to a dataset used for training the TFT model.*"
      ],
      "text/plain": [
       "---\n",
       "\n",
       "### prepare_data_samples\n",
       "\n",
       ">      prepare_data_samples (n_samples:int=1000, **kwargs)\n",
       "\n",
       "*Transforms the dataset from tabular format to a dataset used for training the TFT model.*"
      ]
     },
     "execution_count": 46,
     "metadata": {},
     "output_type": "execute_result"
    }
   ],
   "source": [
    "show_doc(prepare_data_samples, title_level=3)"
   ]
  },
  {
   "cell_type": "markdown",
   "metadata": {},
   "source": [
    "This function serves the purpose to structure the data in a way that the TFT can ingest, while taking advantage of the number of combinations of sampled data X context size to create a larger dataset."
   ]
  },
  {
   "cell_type": "code",
   "execution_count": 51,
   "metadata": {
    "tags": [
     "remove_cell"
    ]
   },
   "outputs": [
    {
     "name": "stderr",
     "output_type": "stream",
     "text": [
      "100%|██████████| 5/5 [00:00<00:00, 217.37it/s]\n"
     ]
    },
    {
     "name": "stdout",
     "output_type": "stream",
     "text": [
      "earliest_poss_date=Timestamp('1980-06-06 00:00:00')\n",
      "earliest_poss_date=Timestamp('1980-06-06 00:00:00')\n",
      "earliest_poss_date=Timestamp('1980-06-06 00:00:00')\n",
      "earliest_poss_date=Timestamp('1980-06-06 00:00:00')\n",
      "earliest_poss_date=Timestamp('1980-06-06 00:00:00')\n"
     ]
    },
    {
     "name": "stderr",
     "output_type": "stream",
     "text": [
      "100%|██████████| 5/5 [00:00<00:00, 192.31it/s]"
     ]
    },
    {
     "name": "stdout",
     "output_type": "stream",
     "text": [
      "earliest_poss_date=Timestamp('2005-05-06 00:00:00')\n",
      "earliest_poss_date=Timestamp('2005-05-06 00:00:00')\n",
      "earliest_poss_date=Timestamp('2005-05-06 00:00:00')\n",
      "earliest_poss_date=Timestamp('2005-05-06 00:00:00')\n",
      "earliest_poss_date=Timestamp('2005-05-06 00:00:00')\n"
     ]
    },
    {
     "name": "stderr",
     "output_type": "stream",
     "text": [
      "\n"
     ]
    }
   ],
   "source": [
    "train_data = prepare_data_samples(\n",
    "    n_samples=5, dfs_input=df_input_train, df_target=df_target_1m_pct, **tft_kwargs\n",
    ")\n",
    "\n",
    "valid_data = prepare_data_samples(\n",
    "    n_samples=5, dfs_input=df_input_valid, df_target=df_target_1m_pct, **tft_kwargs\n",
    ")"
   ]
  },
  {
   "cell_type": "code",
   "execution_count": 53,
   "metadata": {
    "tags": [
     "remove_cell"
    ]
   },
   "outputs": [
    {
     "name": "stdout",
     "output_type": "stream",
     "text": [
      "d torch.Size([5, 365, 107]) torch.Size([5, 365, 6])\n",
      "m torch.Size([5, 365, 113]) torch.Size([5, 365, 6])\n",
      "q torch.Size([5, 365, 167]) torch.Size([5, 365, 6])\n",
      "torch.Size([5, 12, 1]) torch.Size([5, 1]) torch.Size([5, 12])\n"
     ]
    }
   ],
   "source": [
    "[X_cont_hist, X_cat_hist, X_cat_fut, X_cat_stat], y = train_data\n",
    "for freq in X_cat_hist.keys():\n",
    "\n",
    "    print(freq, X_cont_hist[freq].shape, X_cat_hist[freq].shape)\n",
    "\n",
    "print(X_cat_fut.shape, X_cat_stat.shape, y.shape)"
   ]
  },
  {
   "cell_type": "code",
   "execution_count": 54,
   "metadata": {
    "tags": [
     "remove_cell"
    ]
   },
   "outputs": [
    {
     "data": {
      "text/plain": [
       "<Axes: >"
      ]
     },
     "execution_count": 54,
     "metadata": {},
     "output_type": "execute_result"
    },
    {
     "data": {
      "image/png": "[encoded data removed]",
      "text/plain": [
       "<Figure size 640x480 with 1 Axes>"
      ]
     },
     "metadata": {},
     "output_type": "display_data"
    }
   ],
   "source": [
    "pd.DataFrame(X_cont_hist[\"d\"][0, Ellipsis].cpu()).plot(legend=False)"
   ]
  },
  {
   "cell_type": "markdown",
   "metadata": {},
   "source": [
    "Note that the argument `max_context_length_days` cannot promise the user to reach the actual number, since there might be weekends or other dates without any information."
   ]
  },
  {
   "cell_type": "markdown",
   "metadata": {},
   "source": [
    "For models that will nowcast/forecast more than one month, the argument `delta_month` needs to be a list or an iterator as `range()`:"
   ]
  },
  {
   "cell_type": "markdown",
   "metadata": {},
   "source": [
    "Now the months for which to forecast are February (the current month of the sampled day), March and April, corresponding to the three months indicated in the argument."
   ]
  },
  {
   "cell_type": "markdown",
   "metadata": {},
   "source": [
    "All historical time series in the same batch have the same length. This length varies beetween batches."
   ]
  },
  {
   "cell_type": "markdown",
   "metadata": {},
   "source": [
    "# Architecture\n",
    "\n",
    "First, common notation is introduced, and then individual components are presented. At the end of this section, the whole model is put together."
   ]
  },
  {
   "cell_type": "markdown",
   "metadata": {},
   "source": [
    "## Notation\n",
    "\n",
    "* unique entities: $i \\in (1, \\dots\\, I)$\n",
    "* time periods $t \\in [0, T_i]$\n",
    "  * $k \\geq 1$ lags\n",
    "  * $h \\geq 1$ forecasting period\n",
    "* set of entity-level static covariates: $s_i \\in \\mathbf{R}^{m_s}$\n",
    "* set of temporal inputs: $\\chi_{i, t} \\in \\mathbf{R}^{m_\\chi}$\n",
    "  * $\\chi_{i,t} = [z_{i,t}, x_{i,t}]$\n",
    "    * $z_{i,t} \\in \\mathbf{R}^{m_z}$ are historical inputs\n",
    "    * $x_{i,t} \\in \\mathbf{R}^{m_z}$ are a priori known inputs (eg, days of the week or years that have major sports events)\n",
    "  * $m_\\chi$ is the number of total input variables, where $m_\\chi = m_z + m_x$\n",
    "* target scalars: $y_{i,t}$\n",
    "  * $\\hat{y}_{i,t,q} = f_q(y_{i,t-k:t}, z_{i,t-k:t}, x_{i,t-k:t+h}, s_i)$\n",
    "* hidden unit size (common across all the TFT architecture for convenience): $d_{\\text{model}}$\n",
    "* transformed input of $j$-th variable at time $t$: $\\xi_t^{(j)} \\in \\mathbf{R}^{d_{\\text{model}}}$\n",
    "  * $\\Xi_t = [\\xi_t^{(1)}, \\dots, \\xi_t^{(m_\\chi)}]$"
   ]
  },
  {
   "cell_type": "markdown",
   "metadata": {},
   "source": [
    "## Example data\n",
    "\n",
    "All real data examples below use the same data from @sec-real_data."
   ]
  },
  {
   "cell_type": "markdown",
   "metadata": {},
   "source": [
    "## Dense layer"
   ]
  },
  {
   "cell_type": "markdown",
   "metadata": {},
   "source": [
    "One of the fundamental units in the TFT network is the dense layer:\n",
    "\n",
    "$$\n",
    "\\mathbb{Y} = \\phi(\\mathbf{W} x + \\mathbf{b}),\n",
    "$$ {#eq-dense}\n",
    "\n",
    "where $x$ is the input data and $\\mathbb{Y}$ is its output, $\\phi$ is an activation function (when it is applied), $\\mathbf{W} \\in \\mathbf{R}^{(d_{\\text{size}} \\times d_{\\text{inputs}})}$ is a matrix of weights and $\\mathbf{b} \\in \\mathbf{R}^{d_{size}}$ is a vector of biases."
   ]
  },
  {
   "cell_type": "markdown",
   "metadata": {},
   "source": [
    "## Input data transformations {#sec-input}"
   ]
  },
  {
   "cell_type": "markdown",
   "metadata": {},
   "source": [
    "> Transforms all input variables into a latent space\n",
    "\n",
    "All input data, regardless if historical, static or future, are transformed into a feature representation with dimension $d_{\\text{model}}$. In other words, $\\chi_{t}^{(j)}$, variable $j$'s observation at each time period $t$, undergoes an injective mapping $f^{(j)} : \\mathbb{R} \\to \\mathbb{R}^{d_{\\text{model}}}$ for continuous data and $f^{(j)} : \\mathbb{N} \\to \\mathbb{R}^{d_{\\text{model}}}$ for categorical data.\n",
    "\n",
    "If the variable $\\chi_{t}^{(j)}$ is continuous, this transformation is done by $d_{\\text{model}}$ linear regressions, the coefficients of which are determined as part of the neural network training:\n",
    "\n",
    "$$\n",
    "\\xi_t^{(j)} = \\mathbf{W}^{(j)} \\chi_{t}^{(j)} + \\mathbf{b}^{(j)},\n",
    "$$\n",
    "\n",
    "where $\\xi_t^{(j)}, \\mathbf{W}^{(j)}, \\mathbf{b}^{(j)} \\in \\mathbb{R}^{d_{\\text{model}}}$. Note that $\\mathbf{W}^{(j)}, \\mathbf{b}^{(j)}$ are the same for variable $j$ at all time periods (ie, the layer is time-distributed).\n",
    "\n",
    "Conversely, if the $j^{\\text{th}}$ variable is categorical, then the transformation is an embedding. Each embedding layer requires a specific number of different categories, ie the cardinality of the categorical variable. This cardinality is assumed to be stable or decreasing outside of the training period; otherwise a new category would appear at testing time for which the model has not learned an embedding.\n",
    "\n",
    "In any case, it is this embedded data, $\\xi_t^{(j)}$, that is used in all the next steps of the TFT network.\n",
    "\n",
    "See @sec-contcat for details of how the model determines which variables are continuous or categorical."
   ]
  },
  {
   "cell_type": "code",
   "execution_count": 32,
   "metadata": {},
   "outputs": [],
   "source": [
    "# | code-fold: hide\n",
    "\n",
    "\n",
    "class MultiInputContEmbedding(keras.Layer):\n",
    "    def __init__(self, d_model: int, **kwargs):  # Embedding size, $d_\\text{model}$\n",
    "        \"Embeds multiple continuous variables, each with own embedding space\"\n",
    "\n",
    "        super(MultiInputContEmbedding, self).__init__(**kwargs)\n",
    "        self.d_model = d_model\n",
    "\n",
    "    def build(self, input_shape):\n",
    "        super(MultiInputContEmbedding, self).build(input_shape)\n",
    "\n",
    "        # input_shape: (batch_size, num_time_steps, num_variables)\n",
    "        num_variables = input_shape[-1]\n",
    "\n",
    "        self.kernel = self.add_weight(\n",
    "            shape=(num_variables, self.d_model), initializer=\"uniform\", name=\"kernel\"\n",
    "        )\n",
    "\n",
    "        self.bias = self.add_weight(\n",
    "            shape=(self.d_model,), initializer=\"zeros\", name=\"bias\"\n",
    "        )\n",
    "\n",
    "    def call(\n",
    "        self, inputs  # Data of shape: (batch size, num time steps, num variables)\n",
    "    ):\n",
    "        \"Output shape: (batch size, num time steps, num variables, d_model)\"\n",
    "\n",
    "        # Applying the linear transformation to each time step\n",
    "        output = keras.ops.einsum(\"bti,ij->btij\", inputs, self.kernel)\n",
    "        output += self.bias\n",
    "        return output\n",
    "\n",
    "    def compute_output_shape(self, input_shape):\n",
    "        return input_shape[0], input_shape[1], input_shape[2], self.d_model"
   ]
  },
  {
   "cell_type": "code",
   "execution_count": 33,
   "metadata": {
    "tags": [
     "remove_cell"
    ]
   },
   "outputs": [
    {
     "data": {
      "text/markdown": [
       "---\n",
       "\n",
       "### MultiInputContEmbedding.__init__\n",
       "\n",
       ">      MultiInputContEmbedding.__init__ (d_model:int, **kwargs)\n",
       "\n",
       "Embeds multiple continuous variables, each with own embedding space\n",
       "\n",
       "|    | **Type** | **Details** |\n",
       "| -- | -------- | ----------- |\n",
       "| d_model | int | Embedding size, $d_\\text{model}$ |\n",
       "| kwargs |  |  |"
      ],
      "text/plain": [
       "---\n",
       "\n",
       "### MultiInputContEmbedding.__init__\n",
       "\n",
       ">      MultiInputContEmbedding.__init__ (d_model:int, **kwargs)\n",
       "\n",
       "Embeds multiple continuous variables, each with own embedding space\n",
       "\n",
       "|    | **Type** | **Details** |\n",
       "| -- | -------- | ----------- |\n",
       "| d_model | int | Embedding size, $d_\\text{model}$ |\n",
       "| kwargs |  |  |"
      ]
     },
     "execution_count": 33,
     "metadata": {},
     "output_type": "execute_result"
    }
   ],
   "source": [
    "# | output: asis\n",
    "# | echo: false\n",
    "\n",
    "show_doc(MultiInputContEmbedding.__init__, title_level=3)"
   ]
  },
  {
   "cell_type": "code",
   "execution_count": 34,
   "metadata": {
    "tags": [
     "remove_cell"
    ]
   },
   "outputs": [
    {
     "data": {
      "text/markdown": [
       "---\n",
       "\n",
       "### MultiInputContEmbedding.call\n",
       "\n",
       ">      MultiInputContEmbedding.call (inputs)\n",
       "\n",
       "Output shape: (batch size, num time steps, num variables, d_model)\n",
       "\n",
       "|    | **Details** |\n",
       "| -- | ----------- |\n",
       "| inputs | Data of shape: (batch size, num time steps, num variables) |"
      ],
      "text/plain": [
       "---\n",
       "\n",
       "### MultiInputContEmbedding.call\n",
       "\n",
       ">      MultiInputContEmbedding.call (inputs)\n",
       "\n",
       "Output shape: (batch size, num time steps, num variables, d_model)\n",
       "\n",
       "|    | **Details** |\n",
       "| -- | ----------- |\n",
       "| inputs | Data of shape: (batch size, num time steps, num variables) |"
      ]
     },
     "execution_count": 34,
     "metadata": {},
     "output_type": "execute_result"
    }
   ],
   "source": [
    "# | output: asis\n",
    "# | echo: false\n",
    "\n",
    "show_doc(MultiInputContEmbedding.call, title_level=3)"
   ]
  },
  {
   "cell_type": "code",
   "execution_count": 35,
   "metadata": {
    "tags": [
     "remove_cell"
    ]
   },
   "outputs": [
    {
     "name": "stdout",
     "output_type": "stream",
     "text": [
      "Input data shape: (batch size / num time steps / num variables) torch.Size([500, 120, 566])\n",
      "Encoded data shape: (batch size / num time steps / num variables / d_model) torch.Size([500, 120, 566, 16])\n"
     ]
    }
   ],
   "source": [
    "# | code-fold: show\n",
    "\n",
    "xi_cont_hist = MultiInputContEmbedding(d_model=16)(X_cont_hist)\n",
    "\n",
    "print(\n",
    "    \"Input data shape: (batch size / num time steps / num variables)\", X_cont_hist.shape\n",
    ")\n",
    "print(\n",
    "    \"Encoded data shape: (batch size / num time steps / num variables / d_model)\",\n",
    "    xi_cont_hist.shape,\n",
    ")"
   ]
  },
  {
   "cell_type": "code",
   "execution_count": 36,
   "metadata": {},
   "outputs": [],
   "source": [
    "# | code-fold: hide\n",
    "\n",
    "\n",
    "class MultiInputCategEmbedding(keras.Layer):\n",
    "    def __init__(\n",
    "        self,\n",
    "        d_model: int,  # Embedding size, $d_\\text{model}$\n",
    "        cardinalities: dict,  # Variable: cardinality in training data\n",
    "        **kwargs\n",
    "    ):\n",
    "\n",
    "        \"Embeds multiple categorical variables, each with own embedding function\"\n",
    "\n",
    "        super(MultiInputCategEmbedding, self).__init__(**kwargs)\n",
    "\n",
    "        self.d_model = d_model\n",
    "\n",
    "        self.cardinalities = cardinalities\n",
    "\n",
    "    def build(self, input_shape):\n",
    "\n",
    "        super(MultiInputCategEmbedding, self).build(input_shape)\n",
    "\n",
    "        if len(self.cardinalities.keys()) != input_shape[-1]:\n",
    "\n",
    "            raise ValueError(\n",
    "                \"`cardinalities` should have as many elements as the input data's variables.\"\n",
    "            )\n",
    "\n",
    "        self.embed_layer = {\n",
    "            var: keras.Sequential(\n",
    "                [\n",
    "                    layers.Embedding(\n",
    "                        input_dim=cardin,\n",
    "                        output_dim=self.d_model,\n",
    "                        mask_zero=True,\n",
    "                        name=\"input_embed_\" + var.replace(\" \", \"_\"),\n",
    "                    )\n",
    "                ]\n",
    "            )\n",
    "            for var, cardin in self.cardinalities.items()\n",
    "        }\n",
    "\n",
    "        super(MultiInputCategEmbedding, self).build(input_shape)\n",
    "\n",
    "    def call(\n",
    "        self, inputs  # Data of shape: (batch size, num time steps, num variables)\n",
    "    ):\n",
    "\n",
    "        \"Output shape: (batch size, num time steps, num variables, d_model)\"\n",
    "\n",
    "        embeds = [\n",
    "            self.embed_layer[var](inputs[:, :, idx])\n",
    "            for idx, var in enumerate(self.cardinalities.keys())\n",
    "        ]\n",
    "\n",
    "        return keras.ops.stack(embeds, axis=2)  # keras.ops.concatenate(embeds, axis=-1)"
   ]
  },
  {
   "cell_type": "code",
   "execution_count": 37,
   "metadata": {
    "tags": [
     "remove_cell"
    ]
   },
   "outputs": [
    {
     "data": {
      "text/markdown": [
       "---\n",
       "\n",
       "### MultiInputCategEmbedding.__init__\n",
       "\n",
       ">      MultiInputCategEmbedding.__init__ (d_model:int, cardinalities:dict,\n",
       ">                                         **kwargs)\n",
       "\n",
       "Embeds multiple categorical variables, each with own embedding function\n",
       "\n",
       "|    | **Type** | **Details** |\n",
       "| -- | -------- | ----------- |\n",
       "| d_model | int | Embedding size, $d_\\text{model}$ |\n",
       "| cardinalities | dict | Variable: cardinality in training data |\n",
       "| kwargs |  |  |"
      ],
      "text/plain": [
       "---\n",
       "\n",
       "### MultiInputCategEmbedding.__init__\n",
       "\n",
       ">      MultiInputCategEmbedding.__init__ (d_model:int, cardinalities:dict,\n",
       ">                                         **kwargs)\n",
       "\n",
       "Embeds multiple categorical variables, each with own embedding function\n",
       "\n",
       "|    | **Type** | **Details** |\n",
       "| -- | -------- | ----------- |\n",
       "| d_model | int | Embedding size, $d_\\text{model}$ |\n",
       "| cardinalities | dict | Variable: cardinality in training data |\n",
       "| kwargs |  |  |"
      ]
     },
     "execution_count": 37,
     "metadata": {},
     "output_type": "execute_result"
    }
   ],
   "source": [
    "# | output: asis\n",
    "# | echo: false\n",
    "\n",
    "show_doc(MultiInputCategEmbedding.__init__, title_level=3)"
   ]
  },
  {
   "cell_type": "code",
   "execution_count": 38,
   "metadata": {
    "tags": [
     "remove_cell"
    ]
   },
   "outputs": [
    {
     "data": {
      "text/markdown": [
       "---\n",
       "\n",
       "### MultiInputCategEmbedding.call\n",
       "\n",
       ">      MultiInputCategEmbedding.call (inputs)\n",
       "\n",
       "Output shape: (batch size, num time steps, num variables, d_model)\n",
       "\n",
       "|    | **Details** |\n",
       "| -- | ----------- |\n",
       "| inputs | Data of shape: (batch size, num time steps, num variables) |"
      ],
      "text/plain": [
       "---\n",
       "\n",
       "### MultiInputCategEmbedding.call\n",
       "\n",
       ">      MultiInputCategEmbedding.call (inputs)\n",
       "\n",
       "Output shape: (batch size, num time steps, num variables, d_model)\n",
       "\n",
       "|    | **Details** |\n",
       "| -- | ----------- |\n",
       "| inputs | Data of shape: (batch size, num time steps, num variables) |"
      ]
     },
     "execution_count": 38,
     "metadata": {},
     "output_type": "execute_result"
    }
   ],
   "source": [
    "# | output: asis\n",
    "# | echo: false\n",
    "\n",
    "show_doc(MultiInputCategEmbedding.call, title_level=3)"
   ]
  },
  {
   "cell_type": "markdown",
   "metadata": {},
   "source": [
    "Note that this function masks out the data whenever categories are set to zero. This is to ensure that the model can take in variable-sized inputs. Because of this, the model requires inputted categorical data to be added 1 whenever zero is a possible category."
   ]
  },
  {
   "cell_type": "markdown",
   "metadata": {},
   "source": [
    "> Note to self: I don't like the approach above where we rely implicitly on the input data's ordering to extract the cardinality. But this is a practical way to get things going. It should be changed to a more robust in the future."
   ]
  },
  {
   "cell_type": "code",
   "execution_count": 39,
   "metadata": {
    "tags": [
     "remove_cell"
    ]
   },
   "outputs": [
    {
     "name": "stdout",
     "output_type": "stream",
     "text": [
      "Input data shape: (batch size / num time steps / num variables) torch.Size([500, 120, 6])\n",
      "Encoded data shape: (batch size / num time steps / num variables / d_model) torch.Size([500, 120, 6, 16])\n"
     ]
    }
   ],
   "source": [
    "# | code-fold: show\n",
    "\n",
    "xi_cat_hist = MultiInputCategEmbedding(d_model=16, cardinalities=cardin_hist)(\n",
    "    X_cat_hist\n",
    ")\n",
    "\n",
    "print(\n",
    "    \"Input data shape: (batch size / num time steps / num variables)\", X_cat_hist.shape\n",
    ")\n",
    "print(\n",
    "    \"Encoded data shape: (batch size / num time steps / num variables / d_model)\",\n",
    "    xi_cat_hist.shape,\n",
    ")"
   ]
  },
  {
   "cell_type": "code",
   "execution_count": 40,
   "metadata": {
    "tags": [
     "remove_cell"
    ]
   },
   "outputs": [
    {
     "name": "stdout",
     "output_type": "stream",
     "text": [
      "Input data shape: (batch size / num time steps / num variables) torch.Size([500, 12, 1])\n",
      "Encoded data shape: (batch size / num time steps / num variables / d_model) torch.Size([500, 12, 1, 16])\n",
      "tensor(False)\n"
     ]
    }
   ],
   "source": [
    "# | code-fold: show\n",
    "\n",
    "xi_cat_fut = MultiInputCategEmbedding(\n",
    "    d_model=16,\n",
    "    cardinalities={\n",
    "        \"Month of Year\": 12 + 1\n",
    "    },  # hardcoded because it is always just the months in an year\n",
    ")(X_cat_fut)\n",
    "\n",
    "print(\n",
    "    \"Input data shape: (batch size / num time steps / num variables)\", X_cat_fut.shape\n",
    ")\n",
    "print(\n",
    "    \"Encoded data shape: (batch size / num time steps / num variables / d_model)\",\n",
    "    xi_cat_fut.shape,\n",
    ")\n",
    "print(keras.ops.any(keras.ops.isnan(xi_cat_fut)))"
   ]
  },
  {
   "cell_type": "code",
   "execution_count": 41,
   "metadata": {
    "tags": [
     "remove_cell"
    ]
   },
   "outputs": [
    {
     "data": {
      "text/plain": [
       "torch.Size([500, 1, 1, 1])"
      ]
     },
     "execution_count": 41,
     "metadata": {},
     "output_type": "execute_result"
    }
   ],
   "source": [
    "keras.ops.expand_dims(X_cat_stat, axis=-1).shape"
   ]
  },
  {
   "cell_type": "code",
   "execution_count": 42,
   "metadata": {
    "tags": [
     "remove_cell"
    ]
   },
   "outputs": [
    {
     "name": "stdout",
     "output_type": "stream",
     "text": [
      "Input data shape: (batch size / num time steps / num variables) torch.Size([500, 1, 1])\n",
      "Encoded data shape: (batch size / num time steps (=one) / num variables / d_model) torch.Size([500, 1, 1, 16])\n",
      "tensor(False)\n"
     ]
    }
   ],
   "source": [
    "# | code-fold: show\n",
    "\n",
    "xi_stat = MultiInputCategEmbedding(d_model=16, cardinalities=cardin_stat)(X_cat_stat)\n",
    "\n",
    "print(\n",
    "    \"Input data shape: (batch size / num time steps / num variables)\", X_cat_stat.shape\n",
    ")\n",
    "print(\n",
    "    \"Encoded data shape: (batch size / num time steps (=one) / num variables / d_model)\",\n",
    "    xi_stat.shape,\n",
    ")\n",
    "print(keras.ops.any(keras.ops.isnan(xi_stat)))"
   ]
  },
  {
   "cell_type": "code",
   "execution_count": 43,
   "metadata": {},
   "outputs": [],
   "source": [
    "# | code-fold: hide\n",
    "\n",
    "\n",
    "class InputTFT(keras.Layer):\n",
    "\n",
    "    def __init__(self, d_model: int = 16, **kwargs):  # Embedding size, $d_\\text{model}$\n",
    "\n",
    "        \"Input layer for the Temporal Fusion Transformer model\"\n",
    "\n",
    "        super(InputTFT, self).__init__(**kwargs)\n",
    "        self.d_model = d_model\n",
    "\n",
    "        self.flat = layers.Flatten()\n",
    "\n",
    "        self.concat = layers.Concatenate(axis=2)\n",
    "\n",
    "    def build(self, input_shape):\n",
    "\n",
    "        self.cont_hist_embed = MultiInputContEmbedding(\n",
    "            self.d_model, name=\"embed_continuous_historical_vars\"\n",
    "        )\n",
    "\n",
    "        self.cat_hist_embed = MultiInputCategEmbedding(\n",
    "            self.d_model, cardinalities=cardin_hist, name=\"embed_categ_historical_vars\"\n",
    "        )\n",
    "\n",
    "        self.cat_fut_embed = MultiInputCategEmbedding(\n",
    "            self.d_model,\n",
    "            # Note below the same categorical variables are just the months in an year.\n",
    "            # This situation may not apply to all cases.\n",
    "            # More complex models using other categorical future known data might require\n",
    "            # another cardinalities dictionary.\n",
    "            cardinalities={\"Month of Year\": 13},\n",
    "            name=\"embed_categ_knownfuture_vars\",\n",
    "        )\n",
    "\n",
    "        self.cat_stat_embed = MultiInputCategEmbedding(\n",
    "            self.d_model, cardinalities=cardin_stat, name=\"embed_categ_static_vars\"\n",
    "        )\n",
    "\n",
    "        super(InputTFT, self).build(input_shape)\n",
    "\n",
    "    def call(\n",
    "        self,\n",
    "        # List of data with shape: [(batch size, num hist time steps, num continuous hist variables), (batch size, num hist time steps, num categorical hist variables), (batch size, num static variables), (batch size, num future time steps, num categorical future variables)]\n",
    "        input: list,\n",
    "    ):\n",
    "        \"\"\"List of output with shape: [\n",
    "\n",
    "\n",
    "\n",
    "\n",
    "\n",
    "\n",
    "\n",
    "\n",
    "\n",
    "            (batch size, num hist time steps, num historical variables, d_model),\n",
    "\n",
    "\n",
    "\n",
    "\n",
    "\n",
    "\n",
    "\n",
    "\n",
    "\n",
    "            (batch size, num future time steps, num future variables, d_model)\n",
    "\n",
    "\n",
    "\n",
    "\n",
    "\n",
    "\n",
    "\n",
    "\n",
    "\n",
    "            (batch size, one, num static variables, d_model),\n",
    "\n",
    "\n",
    "\n",
    "\n",
    "\n",
    "\n",
    "\n",
    "\n",
    "\n",
    "        ]\"\"\"\n",
    "        cont_hist, cat_hist, cat_fut, cat_stat = input\n",
    "\n",
    "        if len(cat_stat.shape) == 2:\n",
    "\n",
    "            cat_stat = keras.ops.expand_dims(cat_stat, axis=-1)\n",
    "\n",
    "        cont_hist = self.cont_hist_embed(cont_hist)\n",
    "\n",
    "        # cont_hist = keras.ops.swapaxes(cont_hist, axis1=2, axis2=3)\n",
    "\n",
    "        cat_hist = self.cat_hist_embed(cat_hist)\n",
    "\n",
    "        # cat_hist = self.flat(cat_hist)\n",
    "\n",
    "        cat_fut = self.cat_fut_embed(cat_fut)\n",
    "\n",
    "        # cat_fut = self.flat(cat_fut)\n",
    "\n",
    "        cat_stat = self.cat_stat_embed(cat_stat)\n",
    "\n",
    "        # cat_stat = self.flat(cat_stat)\n",
    "\n",
    "        # (batch size / (num time steps * (num historical + future variables) + num static variables) * embedding size)\n",
    "\n",
    "        hist = self.concat([cont_hist, cat_hist])\n",
    "\n",
    "        return hist, cat_fut, cat_stat"
   ]
  },
  {
   "cell_type": "code",
   "execution_count": 44,
   "metadata": {
    "scrolled": true,
    "tags": [
     "remove_cell"
    ]
   },
   "outputs": [
    {
     "data": {
      "text/markdown": [
       "---\n",
       "\n",
       "### InputTFT.__init__\n",
       "\n",
       ">      InputTFT.__init__ (d_model:int=16, **kwargs)\n",
       "\n",
       "Input layer for the Temporal Fusion Transformer model\n",
       "\n",
       "|    | **Type** | **Default** | **Details** |\n",
       "| -- | -------- | ----------- | ----------- |\n",
       "| d_model | int | 16 | Embedding size, $d_\\text{model}$ |\n",
       "| kwargs |  |  |  |"
      ],
      "text/plain": [
       "---\n",
       "\n",
       "### InputTFT.__init__\n",
       "\n",
       ">      InputTFT.__init__ (d_model:int=16, **kwargs)\n",
       "\n",
       "Input layer for the Temporal Fusion Transformer model\n",
       "\n",
       "|    | **Type** | **Default** | **Details** |\n",
       "| -- | -------- | ----------- | ----------- |\n",
       "| d_model | int | 16 | Embedding size, $d_\\text{model}$ |\n",
       "| kwargs |  |  |  |"
      ]
     },
     "execution_count": 44,
     "metadata": {},
     "output_type": "execute_result"
    }
   ],
   "source": [
    "# | output: asis\n",
    "# | echo: false\n",
    "\n",
    "show_doc(InputTFT.__init__, title_level=3)"
   ]
  },
  {
   "cell_type": "code",
   "execution_count": 45,
   "metadata": {
    "tags": [
     "remove_cell"
    ]
   },
   "outputs": [
    {
     "data": {
      "text/markdown": [
       "---\n",
       "\n",
       "### InputTFT.call\n",
       "\n",
       ">      InputTFT.call (input:list)\n",
       "\n",
       "List of output with shape: [\n",
       "    (batch size, num hist time steps, num historical variables, d_model),\n",
       "    (batch size, num future time steps, num future variables, d_model)\n",
       "    (batch size, one, num static variables, d_model),\n",
       "]\n",
       "\n",
       "|    | **Type** | **Details** |\n",
       "| -- | -------- | ----------- |\n",
       "| input | list | List of data with shape: [(batch size, num hist time steps, num continuous hist variables), (batch size, num hist time steps, num categorical hist variables), (batch size, num static variables), (batch size, num future time steps, num categorical future variables)] |"
      ],
      "text/plain": [
       "---\n",
       "\n",
       "### InputTFT.call\n",
       "\n",
       ">      InputTFT.call (input:list)\n",
       "\n",
       "List of output with shape: [\n",
       "    (batch size, num hist time steps, num historical variables, d_model),\n",
       "    (batch size, num future time steps, num future variables, d_model)\n",
       "    (batch size, one, num static variables, d_model),\n",
       "]\n",
       "\n",
       "|    | **Type** | **Details** |\n",
       "| -- | -------- | ----------- |\n",
       "| input | list | List of data with shape: [(batch size, num hist time steps, num continuous hist variables), (batch size, num hist time steps, num categorical hist variables), (batch size, num static variables), (batch size, num future time steps, num categorical future variables)] |"
      ]
     },
     "execution_count": 45,
     "metadata": {},
     "output_type": "execute_result"
    }
   ],
   "source": [
    "# | output: asis\n",
    "# | echo: false\n",
    "\n",
    "show_doc(InputTFT.call, title_level=3)"
   ]
  },
  {
   "cell_type": "code",
   "execution_count": 46,
   "metadata": {
    "tags": [
     "remove_cell"
    ]
   },
   "outputs": [
    {
     "name": "stdout",
     "output_type": "stream",
     "text": [
      "Encoded historical data shape: (batch size / num hist time steps / num historical variables / d_model) torch.Size([500, 120, 572, 16])\n",
      "Encoded historical data shape: (batch size / num future time steps / num future variables / d_model) torch.Size([500, 12, 1, 16])\n",
      "Encoded historical data shape: (batch size / one / num static variables / d_model) torch.Size([500, 1, 1, 16])\n"
     ]
    }
   ],
   "source": [
    "# | code-fold: show\n",
    "\n",
    "xi_hist, xi_fut, xi_stat = InputTFT()([X_cont_hist, X_cat_hist, X_cat_fut, X_cat_stat])\n",
    "print(\n",
    "    \"Encoded historical data shape: (batch size / num hist time steps / num historical variables / d_model)\",\n",
    "    xi_hist.shape,\n",
    ")\n",
    "print(\n",
    "    \"Encoded historical data shape: (batch size / num future time steps / num future variables / d_model)\",\n",
    "    xi_fut.shape,\n",
    ")\n",
    "print(\n",
    "    \"Encoded historical data shape: (batch size / one / num static variables / d_model)\",\n",
    "    xi_stat.shape,\n",
    ")"
   ]
  },
  {
   "cell_type": "markdown",
   "metadata": {},
   "source": [
    "**From now on, whenever relevant the examples with real data will use the $\\xi$ elements created above.**"
   ]
  },
  {
   "cell_type": "markdown",
   "metadata": {},
   "source": [
    "The following simplistic model shows how the input layer is used. The goal is to highlight how the data is inputted into a TFT model, by not focusing on its complexity just now.\n",
    "\n",
    "First, it takes up the data. Then, in this simplified model it flattens all inputs and uses a dense layer connected to all embeddings at all time points to output the forecast."
   ]
  },
  {
   "cell_type": "markdown",
   "metadata": {},
   "source": [
    "## Skip connection\n",
    "\n",
    "> Adds inputs to layer and then implements layer normalisation\n",
    "\n",
    "$$\n",
    "\\text{LayerNorm}(a + b),\n",
    "$$ {#eq-skip}\n",
    "\n",
    "for $a$ and $b$ tensors of the same dimension and $\\text{LayerNorm}(\\cdot)$ being the layer normalisation (@ba2016layer), ie subtracting $\\mu^l$ and dividing by $\\sigma^l$ defined as:\n",
    "\n",
    "$$\n",
    "\\mu^l = \\frac{1}{H} \\sum_{i=1}^H n_i^l \\quad \\sigma^l = \\sqrt{\\frac{1}{H} \\sum_{i=1}^H (n_i^l - \\mu^l)^2},\n",
    "$$ {#eq-layernorm}\n",
    "\n",
    "with $H$ denoting the number of $n$ hidden units in a layer $l$.\n",
    "\n",
    "* Adding a layer's inputs to its outputs is also called \"skip connection\"\n",
    "* The layer is then normalised [@ba2016layer] to avoid having the numbers grow too big, which is detrimental for gradient transmission\n",
    "  * Layer normalisation uses the same computation both during training and inference times, and is particularly suitable for time series"
   ]
  },
  {
   "cell_type": "markdown",
   "metadata": {},
   "source": [
    "## Gated linear unit (GLU)\n",
    "\n",
    "> Linear layer that learns how much to gate vs let pass through\n",
    "\n",
    "Using input $\\gamma \\in \\mathbb{R}^{d_{\\text{model}}}$ and the subscript $\\omega$ to index weights, \n",
    "\n",
    "$$\n",
    "\\text{GLU}_{\\omega}(\\gamma) = \\sigma(W_{4, \\omega} \\gamma + b_{4, \\omega}) \\odot (W_{5, \\omega} \\gamma + b_{5, \\omega}),\n",
    "$$ {#eq-GLU}\n",
    "\n",
    "where $\\mathbf{W} \\in \\mathbf{R}^{(d_{\\text{model}} \\times d_{\\text{model}})}$ is a matrix of weights and $\\mathbf{b} \\in \\mathbf{R}^{d_{model}}$ is a vector of biases. Importantly, $\\mathbf{W}$ and $\\mathbf{b}$ are indexed with $_{\\omega}$ to denote weight-sharing (within each variable) when the layer is time-distributed.\n",
    "\n",
    "@dauphin2017language introduced GLUs. Their intuition is to train two versions of a dense layer in the same data, but one of them having a sigmoid activation (which outputs values between zero and one), then multiplying each hidden unit.\n",
    "\n",
    "The result could be zero or very close to zero through the Hadamard multipliciation, which in practice means that the network would not be affected by that data (ie, the data $\\gamma$ would be gated out). The first term, with the sigmoid, is the gate that determines what percentage of the linear layer passes through.\n",
    "\n",
    "According to @lim2021temporal, GLUs:\n",
    "\n",
    "* *\"... reduce the vanishing gradient problem for deep architectures by providing a linear path for gradients while retaining non-linear capabilities\"* and\n",
    "* *\"... provide flexibility to suppress any parts of the architecture that are not required for a given dataset\"*\n",
    "\n",
    "The GLU is a key part of the Gated Residual Network, described in @sec-GRN."
   ]
  },
  {
   "cell_type": "code",
   "execution_count": 47,
   "metadata": {},
   "outputs": [],
   "source": [
    "# | code-fold: hide\n",
    "\n",
    "\n",
    "class GatedLinearUnit(keras.Layer):\n",
    "    def __init__(\n",
    "        self,\n",
    "        d_model: int = 16,  # Embedding size, $d_\\text{model}$\n",
    "        dropout_rate: float | None = None,  # Dropout rate\n",
    "        use_time_distributed: bool = True,  # Apply the GLU across all time steps?\n",
    "        activation: str | callable = None,  # Activation function\n",
    "        **kwargs\n",
    "    ):\n",
    "        \"Gated Linear Unit dynamically gates input data\"\n",
    "        super(GatedLinearUnit, self).__init__(**kwargs)\n",
    "        self.d_model = d_model\n",
    "        self.dropout_rate = dropout_rate\n",
    "        self.use_time_distributed = use_time_distributed\n",
    "        self.activation = activation\n",
    "\n",
    "    def build(self, input_shape):\n",
    "        super(GatedLinearUnit, self).build(input_shape)\n",
    "        self.dropout = (\n",
    "            layers.Dropout(self.dropout_rate) if self.dropout_rate is not None else None\n",
    "        )\n",
    "        self.activation_layer = layers.Dense(self.d_model, activation=self.activation)\n",
    "        self.gate_layer = layers.Dense(self.d_model, activation=\"sigmoid\")\n",
    "        self.multiply = layers.Multiply()\n",
    "\n",
    "        if self.use_time_distributed:\n",
    "            self.activation_layer = layers.TimeDistributed(self.activation_layer)\n",
    "            self.gate_layer = layers.TimeDistributed(self.gate_layer)\n",
    "\n",
    "    def call(self, inputs, training=None):\n",
    "        \"\"\"List of outputs with shape: [\n",
    "            (batch size, ..., d_model),\n",
    "            (batch size, ..., d_model)\n",
    "        ]\"\"\"\n",
    "        if self.dropout is not None and training:\n",
    "            inputs = self.dropout(inputs)\n",
    "\n",
    "        activation_output = self.activation_layer(inputs)\n",
    "        gate_output = self.gate_layer(inputs)\n",
    "        return self.multiply([activation_output, gate_output]), gate_output\n",
    "\n",
    "    def get_config(self):\n",
    "        config = super(GatingLayer, self).get_config()\n",
    "        config.update(\n",
    "            {\n",
    "                \"d_model\": self.d_model,\n",
    "                \"dropout_rate\": self.dropout_rate,\n",
    "                \"use_time_distributed\": self.use_time_distributed,\n",
    "                \"activation\": self.activation,\n",
    "            }\n",
    "        )\n",
    "        return config"
   ]
  },
  {
   "cell_type": "code",
   "execution_count": 48,
   "metadata": {
    "tags": [
     "remove_cell"
    ]
   },
   "outputs": [
    {
     "data": {
      "text/markdown": [
       "---\n",
       "\n",
       "### GatedLinearUnit.__init__\n",
       "\n",
       "\n",
       "\n",
       "Gated Linear Unit dynamically gates input data"
      ],
      "text/plain": [
       "---\n",
       "\n",
       "### GatedLinearUnit.__init__\n",
       "\n",
       "\n",
       "\n",
       "Gated Linear Unit dynamically gates input data"
      ]
     },
     "execution_count": 48,
     "metadata": {},
     "output_type": "execute_result"
    }
   ],
   "source": [
    "# | output: asis\n",
    "# | echo: false\n",
    "\n",
    "show_doc(GatedLinearUnit.__init__, title_level=3)"
   ]
  },
  {
   "cell_type": "code",
   "execution_count": 49,
   "metadata": {
    "tags": [
     "remove_cell"
    ]
   },
   "outputs": [
    {
     "data": {
      "text/markdown": [
       "---\n",
       "\n",
       "### GatedLinearUnit.call\n",
       "\n",
       ">      GatedLinearUnit.call (inputs, training=None)\n",
       "\n",
       "List of outputs with shape: [\n",
       "    (batch size, ..., d_model),\n",
       "    (batch size, ..., d_model)\n",
       "]"
      ],
      "text/plain": [
       "---\n",
       "\n",
       "### GatedLinearUnit.call\n",
       "\n",
       ">      GatedLinearUnit.call (inputs, training=None)\n",
       "\n",
       "List of outputs with shape: [\n",
       "    (batch size, ..., d_model),\n",
       "    (batch size, ..., d_model)\n",
       "]"
      ]
     },
     "execution_count": 49,
     "metadata": {},
     "output_type": "execute_result"
    }
   ],
   "source": [
    "# | output: asis\n",
    "# | echo: false\n",
    "\n",
    "show_doc(GatedLinearUnit.call, title_level=3)"
   ]
  },
  {
   "cell_type": "code",
   "execution_count": 50,
   "metadata": {
    "tags": [
     "remove_cell"
    ]
   },
   "outputs": [
    {
     "name": "stdout",
     "output_type": "stream",
     "text": [
      "GLU output shape: (batch size / num time steps / embedding dim) torch.Size([3, 5, 16])\n",
      "GLU gate shape: (batch size / num time steps / embedding dim) torch.Size([3, 5, 16])\n"
     ]
    }
   ],
   "source": [
    "# | code-fold: show\n",
    "\n",
    "batch_size = 3\n",
    "n_timesteps = 5\n",
    "n_features = 100\n",
    "d_model = 16\n",
    "\n",
    "# input dimensions: batches / timesteps / features\n",
    "x = np.random.randn(batch_size * n_timesteps * n_features).reshape(\n",
    "    [batch_size, n_timesteps, n_features]\n",
    ")\n",
    "\n",
    "# output dimensions: batches / timesteps / d_model\n",
    "print(\n",
    "    \"GLU output shape: (batch size / num time steps / embedding dim)\",\n",
    "    GatedLinearUnit(d_model=16)(x)[0].shape,\n",
    ")\n",
    "print(\n",
    "    \"GLU gate shape: (batch size / num time steps / embedding dim)\",\n",
    "    GatedLinearUnit(d_model=16)(x)[1].shape,\n",
    ")"
   ]
  },
  {
   "cell_type": "code",
   "execution_count": 51,
   "metadata": {
    "tags": [
     "remove_cell"
    ]
   },
   "outputs": [
    {
     "name": "stdout",
     "output_type": "stream",
     "text": [
      "GLU input shape:  torch.Size([10, 120, 572, 16])\n",
      "GLU output shape:  torch.Size([10, 120, 572, 16])\n",
      "GLU gate shape: torch.Size([10, 120, 572, 16])\n"
     ]
    }
   ],
   "source": [
    "# | code-fold: show\n",
    "\n",
    "# output dimensions: batches / num time steps / num variables / d_model\n",
    "\n",
    "glu = GatedLinearUnit()\n",
    "gated_linear, gate = glu(xi_hist[:10, Ellipsis])\n",
    "print(\"GLU input shape: \", xi_hist[:10, Ellipsis].shape)\n",
    "print(\"GLU output shape: \", gated_linear.shape)\n",
    "print(\"GLU gate shape:\", gate.shape)"
   ]
  },
  {
   "cell_type": "markdown",
   "metadata": {},
   "source": [
    "## Gated residual network (GRN) {#sec-GRN}\n",
    "\n",
    "$$\n",
    "\\text{GRN}_{\\omega}(a, c) = \\text{LayerNorm}(a + \\text{GLU}_{\\omega}(W_{1, \\omega} \\text{ELU}(W_{2, \\omega} a + b_{2, \\omega} + W_{3, \\omega} c) + b_{1, w}))\n",
    "$$ {#eq-GRN}\n",
    "\n",
    "* Breaking down $\\text{GRN}_{\\omega}(a, c)$:\n",
    "    * *1st step*: $\\eta_{2} = \\text{ELU}(W_{2, \\omega} a + b_{2, \\omega} + W_{3, \\omega} c)$ (where the additional context $c$ might be zero) as in @eq-dense but adapted for the added context if any and with $\\text{ELU}(\\cdot)$ as the activation function,\n",
    "    * *2nd step*: $\\eta_{1} = W_{1, \\omega} \\eta_{2} + b_{1, w}$ as in @eq-dense,\n",
    "    * *3rd step*: $\\text{LayerNorm}(a + \\text{GLU}_{\\omega}(\\eta_{1}))$ as in @eq-skip and @eq-GLU\n",
    "* $\\text{ELU}(\\cdot)$ is the Exponential Linear Unit activation function (@clevert2015fast)\n",
    "    * Unlike ReLUs, ELUs allow for negative values, which pushes unit activations closer to zero at a lower computation complexity, and producing more accurate results\n",
    "* The GRN is a key building block of the TFT\n",
    "    * Helps keep information only from relevant input variables\n",
    "    * Also keeps the model as simple as possible by only applying non-linearities when relevant\n",
    "\n",
    "Note that the GRN can take all types of time series inputs, ie continuous historical, categorical historical and categorical future, but not categorical static data."
   ]
  },
  {
   "cell_type": "code",
   "execution_count": 52,
   "metadata": {},
   "outputs": [],
   "source": [
    "# | code-fold: hide\n",
    "\n",
    "\n",
    "class GatedResidualNetwork(keras.layers.Layer):\n",
    "    def __init__(\n",
    "        self,\n",
    "        d_model: int = 16,  # Embedding size, $d_\\text{model}$\n",
    "        output_size=None,\n",
    "        dropout_rate=None,\n",
    "        use_time_distributed=True,\n",
    "        **kwargs\n",
    "    ):\n",
    "        \"Gated residual network\"\n",
    "        super(GatedResidualNetwork, self).__init__(**kwargs)\n",
    "        self.d_model = d_model\n",
    "        self.output_size = output_size if output_size is not None else d_model\n",
    "        self.dropout_rate = dropout_rate\n",
    "        self.use_time_distributed = use_time_distributed\n",
    "\n",
    "    def build(self, input_shape):\n",
    "        super(GatedResidualNetwork, self).build(input_shape)\n",
    "        self.dense = layers.Dense(self.output_size)\n",
    "        self.hidden_dense = layers.Dense(self.d_model)\n",
    "        self.hidden_activation = layers.Activation(\"elu\")\n",
    "        self.context_dense = layers.Dense(self.d_model, use_bias=False)\n",
    "        self.gating_layer = GatedLinearUnit(\n",
    "            d_model=self.output_size,\n",
    "            dropout_rate=self.dropout_rate,\n",
    "            use_time_distributed=self.use_time_distributed,\n",
    "            activation=None,\n",
    "        )\n",
    "        self.add = layers.Add()\n",
    "        self.l_norm = layers.LayerNormalization()\n",
    "\n",
    "        if self.use_time_distributed:\n",
    "            self.dense = layers.TimeDistributed(self.dense)\n",
    "            self.hidden_dense = layers.TimeDistributed(self.hidden_dense)\n",
    "            self.context_dense = layers.TimeDistributed(self.context_dense)\n",
    "\n",
    "    def call(self, inputs, additional_context=None, training=None):\n",
    "        # Setup skip connection\n",
    "        skip = self.dense(inputs) if self.output_size != self.d_model else inputs\n",
    "\n",
    "        # 1st step: eta2\n",
    "        hidden = self.hidden_dense(inputs)\n",
    "\n",
    "        # Context handling\n",
    "        if additional_context is not None:\n",
    "            hidden += self.context_dense(additional_context)\n",
    "\n",
    "        hidden = self.hidden_activation(hidden)\n",
    "\n",
    "        # 2nd step: eta1 and 3rd step\n",
    "        gating_layer, gate = self.gating_layer(hidden)\n",
    "\n",
    "        # Final step\n",
    "        GRN = self.add([skip, gating_layer])\n",
    "        GRN = self.l_norm(GRN)\n",
    "\n",
    "        return GRN, gate\n",
    "\n",
    "    def get_config(self):\n",
    "        config = super(GatedResidualNetwork, self).get_config()\n",
    "        config.update(\n",
    "            {\n",
    "                \"d_model\": self.d_model,\n",
    "                \"output_size\": self.output_size,\n",
    "                \"dropout_rate\": self.dropout_rate,\n",
    "                \"use_time_distributed\": self.use_time_distributed,\n",
    "            }\n",
    "        )\n",
    "        return config"
   ]
  },
  {
   "cell_type": "code",
   "execution_count": 53,
   "metadata": {
    "tags": [
     "remove_cell"
    ]
   },
   "outputs": [
    {
     "data": {
      "text/markdown": [
       "---\n",
       "\n",
       "### GatedResidualNetwork.__init__\n",
       "\n",
       ">      GatedResidualNetwork.__init__ (d_model:int=16, output_size=None,\n",
       ">                                     dropout_rate=None,\n",
       ">                                     use_time_distributed=True, **kwargs)\n",
       "\n",
       "Gated residual network\n",
       "\n",
       "|    | **Type** | **Default** | **Details** |\n",
       "| -- | -------- | ----------- | ----------- |\n",
       "| d_model | int | 16 | Embedding size, $d_\\text{model}$ |\n",
       "| output_size | NoneType | None |  |\n",
       "| dropout_rate | NoneType | None |  |\n",
       "| use_time_distributed | bool | True |  |\n",
       "| kwargs |  |  |  |"
      ],
      "text/plain": [
       "---\n",
       "\n",
       "### GatedResidualNetwork.__init__\n",
       "\n",
       ">      GatedResidualNetwork.__init__ (d_model:int=16, output_size=None,\n",
       ">                                     dropout_rate=None,\n",
       ">                                     use_time_distributed=True, **kwargs)\n",
       "\n",
       "Gated residual network\n",
       "\n",
       "|    | **Type** | **Default** | **Details** |\n",
       "| -- | -------- | ----------- | ----------- |\n",
       "| d_model | int | 16 | Embedding size, $d_\\text{model}$ |\n",
       "| output_size | NoneType | None |  |\n",
       "| dropout_rate | NoneType | None |  |\n",
       "| use_time_distributed | bool | True |  |\n",
       "| kwargs |  |  |  |"
      ]
     },
     "execution_count": 53,
     "metadata": {},
     "output_type": "execute_result"
    }
   ],
   "source": [
    "# | output: asis\n",
    "# | echo: false\n",
    "\n",
    "show_doc(GatedResidualNetwork.__init__, title_level=3)"
   ]
  },
  {
   "cell_type": "code",
   "execution_count": 54,
   "metadata": {
    "tags": [
     "remove_cell"
    ]
   },
   "outputs": [
    {
     "data": {
      "text/markdown": [
       "---\n",
       "\n",
       "### GatedResidualNetwork.call\n",
       "\n",
       ">      GatedResidualNetwork.call (inputs, additional_context=None,\n",
       ">                                 training=None)"
      ],
      "text/plain": [
       "---\n",
       "\n",
       "### GatedResidualNetwork.call\n",
       "\n",
       ">      GatedResidualNetwork.call (inputs, additional_context=None,\n",
       ">                                 training=None)"
      ]
     },
     "execution_count": 54,
     "metadata": {},
     "output_type": "execute_result"
    }
   ],
   "source": [
    "# | output: asis\n",
    "# | echo: false\n",
    "\n",
    "show_doc(GatedResidualNetwork.call, title_level=3)"
   ]
  },
  {
   "cell_type": "code",
   "execution_count": 55,
   "metadata": {
    "tags": [
     "remove_cell"
    ]
   },
   "outputs": [
    {
     "name": "stdout",
     "output_type": "stream",
     "text": [
      "GRN output shape:  torch.Size([3, 5, 16])\n",
      "GRN gate shape:  torch.Size([3, 5, 16])\n"
     ]
    }
   ],
   "source": [
    "# | code-fold: show\n",
    "\n",
    "batch_size = 3\n",
    "n_timesteps = 5\n",
    "n_features = 16\n",
    "d_model = 16\n",
    "\n",
    "# input dimensions: batches / timesteps / features\n",
    "x = np.random.randn(batch_size * n_timesteps * n_features).reshape(\n",
    "    [batch_size, n_timesteps, n_features]\n",
    ")\n",
    "\n",
    "grn = GatedResidualNetwork(d_model=d_model)\n",
    "\n",
    "output, gate = grn(x)\n",
    "\n",
    "# output dimensions: batches / timesteps / d_model\n",
    "print(\"GRN output shape: \", output.shape)\n",
    "print(\"GRN gate shape: \", gate.shape)\n",
    "# assert grn.shape == [batch_size, n_timesteps, output_size]"
   ]
  },
  {
   "cell_type": "markdown",
   "metadata": {},
   "source": [
    "The example below uses transformed data $\\xi_t^{(j)}$ for $j=0$ as an example."
   ]
  },
  {
   "cell_type": "code",
   "execution_count": 56,
   "metadata": {
    "tags": [
     "remove_cell"
    ]
   },
   "outputs": [
    {
     "data": {
      "text/plain": [
       "(torch.Size([500, 120, 16]),\n",
       " [500, 120, 16],\n",
       " torch.Size([500, 120, 16]),\n",
       " [500, 120, 16])"
      ]
     },
     "execution_count": 56,
     "metadata": {},
     "output_type": "execute_result"
    }
   ],
   "source": [
    "# | code-fold: show\n",
    "\n",
    "grn = GatedResidualNetwork()\n",
    "output, gate = grn(xi_hist[:, :, 0, :])\n",
    "\n",
    "# output dimensions: batches / timesteps / d_model (`output_size`)\n",
    "output.shape, [\n",
    "    xi_hist[:, :, 0, :].shape[0],\n",
    "    xi_hist[:, :, 0, :].shape[1],\n",
    "    d_model,\n",
    "], gate.shape, [xi_hist[:, :, 0, :].shape[0], xi_hist[:, :, 0, :].shape[1], d_model]"
   ]
  },
  {
   "cell_type": "markdown",
   "metadata": {},
   "source": [
    "## Variable selection networks\n",
    "\n",
    "$$\n",
    "\\sum_{j=1}^{m_{\\chi}} \\upsilon_{\\chi_t}^{(j)} \\tilde{\\xi}_t^{(j)},\n",
    "$$ {#eq-VSN}\n",
    "\n",
    "with $j$ indexing the input variable and $m$ being the number of features, $\\upsilon_{\\chi_t}^{(j)}$ standing for variable $j$'s selection weight, and $\\tilde{\\xi}_t^{(j)}$ defined as:\n",
    "\n",
    "$$\n",
    "\\tilde{\\xi}_t^{(j)} = \\text{GRN}(\\xi_t^{(j)}).\n",
    "$$ {#eq-embed}\n",
    "\n",
    "* In the paper, they are represented in the bottom right of Fig. 2\n",
    "* Note there are separate variable selection networks for different input groups:\n",
    "  * `static_variable_selection`\n",
    "    * does not have static context as input, it already *is* the static information\n",
    "  * `temporal_variable_selection`\n",
    "    * used for both historical and known future inputs\n",
    "    * includes static contexts\n",
    "* Both of these functions take the result of the transformed data, ie embeddings for categorical variables and a linear layer for continuous variables\n",
    "  * static variables are always categorical\n",
    "  * temporal variables can be either categorical or continuous\n",
    "  * in any case, following @lim2021temporal, the resulting transformation is expected to have the same dimension as `d_model`"
   ]
  },
  {
   "cell_type": "code",
   "execution_count": 57,
   "metadata": {},
   "outputs": [],
   "source": [
    "class StaticVariableSelection(keras.Layer):\n",
    "    def __init__(\n",
    "        self,\n",
    "        d_model: int = 16,  # Embedding size, $d_\\text{model}$\n",
    "        dropout_rate: float = 0.0,\n",
    "        **kwargs\n",
    "    ):\n",
    "        \"Static variable selection network\"\n",
    "        super(StaticVariableSelection, self).__init__(**kwargs)\n",
    "        self.d_model = d_model\n",
    "        self.dropout_rate = dropout_rate\n",
    "\n",
    "        # Define GRNs for the transformed embeddings\n",
    "        self.grns_transformed_embeddings = []  # This will be a list of GRN layers\n",
    "\n",
    "        self.flat = layers.Flatten()\n",
    "        self.softmax = layers.Activation(\"softmax\")\n",
    "        self.mult = layers.Multiply()\n",
    "\n",
    "    def build(self, input_shape):\n",
    "        super(StaticVariableSelection, self).build(input_shape)\n",
    "\n",
    "        num_static = input_shape[2]\n",
    "\n",
    "        # Define the GRN for the sparse weights\n",
    "        self.grn_sparse_weights = GatedResidualNetwork(\n",
    "            d_model=self.d_model, output_size=num_static, use_time_distributed=False\n",
    "        )\n",
    "\n",
    "        for i in range(num_static):\n",
    "            # Create a GRN for each static variable\n",
    "            self.grns_transformed_embeddings.append(\n",
    "                GatedResidualNetwork(self.d_model, use_time_distributed=False)\n",
    "            )\n",
    "\n",
    "    def call(self, inputs, training=None):\n",
    "        _, _, num_static, _ = (\n",
    "            inputs.shape\n",
    "        )  # batch size / one time step (since it's static) / num static variables / d_model\n",
    "\n",
    "        flattened = self.flat(inputs)\n",
    "\n",
    "        # Compute sparse weights\n",
    "        grn_outputs, _ = self.grn_sparse_weights(flattened, training=training)\n",
    "        sparse_weights = self.softmax(grn_outputs)\n",
    "        sparse_weights = keras.ops.expand_dims(sparse_weights, axis=-1)\n",
    "\n",
    "        # Compute transformed embeddings\n",
    "        transformed_embeddings = []\n",
    "        for i in range(num_static):\n",
    "            embed, _ = self.grns_transformed_embeddings[i](\n",
    "                inputs[:, 0, i : i + 1, :], training=training\n",
    "            )\n",
    "            transformed_embeddings.append(embed)\n",
    "        transformed_embedding = keras.ops.concatenate(transformed_embeddings, axis=1)\n",
    "\n",
    "        # Combine with sparse weights\n",
    "        combined = self.mult([sparse_weights, transformed_embedding])\n",
    "        static_vec = keras.ops.sum(combined, axis=1)\n",
    "\n",
    "        return static_vec, sparse_weights\n",
    "\n",
    "    def get_config(self):\n",
    "        config = super(StaticVariableSelectionLayer, self).get_config()\n",
    "        config.update({\"d_model\": self.d_model, \"dropout_rate\": self.dropout_rate})\n",
    "        return config"
   ]
  },
  {
   "cell_type": "code",
   "execution_count": 58,
   "metadata": {
    "tags": [
     "remove_cell"
    ]
   },
   "outputs": [
    {
     "data": {
      "text/markdown": [
       "---\n",
       "\n",
       "### StaticVariableSelection.__init__\n",
       "\n",
       ">      StaticVariableSelection.__init__ (d_model:int=16, dropout_rate:float=0.0,\n",
       ">                                        **kwargs)\n",
       "\n",
       "Static variable selection network\n",
       "\n",
       "|    | **Type** | **Default** | **Details** |\n",
       "| -- | -------- | ----------- | ----------- |\n",
       "| d_model | int | 16 | Embedding size, $d_\\text{model}$ |\n",
       "| dropout_rate | float | 0.0 |  |\n",
       "| kwargs |  |  |  |"
      ],
      "text/plain": [
       "---\n",
       "\n",
       "### StaticVariableSelection.__init__\n",
       "\n",
       ">      StaticVariableSelection.__init__ (d_model:int=16, dropout_rate:float=0.0,\n",
       ">                                        **kwargs)\n",
       "\n",
       "Static variable selection network\n",
       "\n",
       "|    | **Type** | **Default** | **Details** |\n",
       "| -- | -------- | ----------- | ----------- |\n",
       "| d_model | int | 16 | Embedding size, $d_\\text{model}$ |\n",
       "| dropout_rate | float | 0.0 |  |\n",
       "| kwargs |  |  |  |"
      ]
     },
     "execution_count": 58,
     "metadata": {},
     "output_type": "execute_result"
    }
   ],
   "source": [
    "# | code-fold: show\n",
    "# | output: asis\n",
    "\n",
    "show_doc(StaticVariableSelection.__init__, title_level=3)"
   ]
  },
  {
   "cell_type": "code",
   "execution_count": 59,
   "metadata": {
    "tags": [
     "remove_cell"
    ]
   },
   "outputs": [
    {
     "data": {
      "text/markdown": [
       "---\n",
       "\n",
       "### StaticVariableSelection.call\n",
       "\n",
       ">      StaticVariableSelection.call (inputs, training=None)"
      ],
      "text/plain": [
       "---\n",
       "\n",
       "### StaticVariableSelection.call\n",
       "\n",
       ">      StaticVariableSelection.call (inputs, training=None)"
      ]
     },
     "execution_count": 59,
     "metadata": {},
     "output_type": "execute_result"
    }
   ],
   "source": [
    "# | code-fold: show\n",
    "# | output: asis\n",
    "\n",
    "show_doc(StaticVariableSelection.call, title_level=3)"
   ]
  },
  {
   "cell_type": "code",
   "execution_count": 60,
   "metadata": {
    "tags": [
     "remove_cell"
    ]
   },
   "outputs": [
    {
     "name": "stdout",
     "output_type": "stream",
     "text": [
      "xi_t shape: batch size / num time steps (=one) / number of categorical static variables / embedding size torch.Size([500, 1, 1, 16])\n",
      "Sum of the embeddings of selected variables shape: batch size / embedding size torch.Size([500, 16])\n",
      "Selection weights shape: batch size / number of categorical static variables / one torch.Size([500, 1, 1])\n"
     ]
    }
   ],
   "source": [
    "# | code-fold: show\n",
    "# | warning: false\n",
    "\n",
    "svars = StaticVariableSelection()\n",
    "static_vars, static_selection_weights = svars(xi_stat)\n",
    "\n",
    "print(\n",
    "    \"xi_t shape: batch size / num time steps (=one) / number of categorical static variables / embedding size\",\n",
    "    xi_stat.shape,\n",
    ")\n",
    "print(\n",
    "    \"Sum of the embeddings of selected variables shape: batch size / embedding size\",\n",
    "    static_vars.shape,\n",
    ")\n",
    "print(\n",
    "    \"Selection weights shape: batch size / number of categorical static variables / one\",\n",
    "    static_selection_weights.shape,\n",
    ")"
   ]
  },
  {
   "cell_type": "code",
   "execution_count": 61,
   "metadata": {},
   "outputs": [],
   "source": [
    "# | code-fold: hide\n",
    "\n",
    "\n",
    "class TemporalVariableSelection(keras.Layer):\n",
    "\n",
    "    def __init__(\n",
    "        self,\n",
    "        d_model: int = 16,  # Embedding size, $d_\\text{model}$\n",
    "        dropout_rate: float = 0.0,\n",
    "        **kwargs\n",
    "    ):\n",
    "\n",
    "        \"Temporal variable selection\"\n",
    "\n",
    "        super(TemporalVariableSelection, self).__init__(**kwargs)\n",
    "        self.d_model = d_model\n",
    "        self.dropout_rate = dropout_rate\n",
    "\n",
    "        self.mult = layers.Multiply()\n",
    "\n",
    "    def build(self, input_shape):\n",
    "\n",
    "        super(TemporalVariableSelection, self).build(input_shape)\n",
    "\n",
    "        self.batch_size, self.time_steps, self.num_input_vars, self.d_model = (\n",
    "            input_shape[0]\n",
    "        )\n",
    "\n",
    "        self.var_sel_weights = GatedResidualNetwork(\n",
    "            d_model=self.d_model,\n",
    "            output_size=self.num_input_vars,\n",
    "            dropout_rate=self.dropout_rate,\n",
    "            use_time_distributed=True,\n",
    "        )\n",
    "\n",
    "        self.softmax = layers.Activation(\"softmax\")\n",
    "\n",
    "        # Create a GRN for each temporal variable\n",
    "\n",
    "        self.grns_transformed_embeddings = GatedResidualNetwork(\n",
    "            d_model=self.d_model,\n",
    "            dropout_rate=self.dropout_rate,\n",
    "            use_time_distributed=True,\n",
    "        )\n",
    "\n",
    "    def call(\n",
    "        self, inputs, training=None  # List of temporal embeddings, static context\n",
    "    ):\n",
    "\n",
    "        temporal_embeddings, static_context = inputs\n",
    "\n",
    "        flattened_embed = keras.ops.reshape(\n",
    "            temporal_embeddings,\n",
    "            [-1, self.time_steps, self.num_input_vars * self.d_model],\n",
    "        )\n",
    "\n",
    "        parallel_variables = keras.ops.reshape(\n",
    "            temporal_embeddings, [-1, self.time_steps, self.d_model]\n",
    "        )  # tensor is shaped this way so that a GRN can be applied to each variable of each batch\n",
    "\n",
    "        c_s = keras.ops.expand_dims(static_context, axis=1)\n",
    "\n",
    "        # variable weights\n",
    "\n",
    "        grn_outputs, _ = self.var_sel_weights(flattened_embed, c_s, training=training)\n",
    "\n",
    "        variable_weights = self.softmax(grn_outputs)\n",
    "\n",
    "        variable_weights = keras.ops.expand_dims(variable_weights, axis=2)\n",
    "\n",
    "        # variable combination\n",
    "\n",
    "        # transformed_embeddings = [\n",
    "\n",
    "        #     grn_layer(temporal_embeddings[:, :, i, :], training=training)[0]\n",
    "\n",
    "        #     for i, grn_layer in enumerate(self.grns_transformed_embeddings)\n",
    "\n",
    "        # ]\n",
    "\n",
    "        transformed_embeddings, _ = self.grns_transformed_embeddings(\n",
    "            parallel_variables, training=training\n",
    "        )\n",
    "\n",
    "        transformed_embeddings = keras.ops.reshape(\n",
    "            transformed_embeddings,\n",
    "            [-1, self.time_steps, self.num_input_vars, self.d_model],\n",
    "        )\n",
    "\n",
    "        # transformed_embeddings = keras.ops.stack(transformed_embeddings, axis=2)\n",
    "\n",
    "        temporal_vec = keras.ops.einsum(\n",
    "            \"btij,btjk->btk\", variable_weights, transformed_embeddings\n",
    "        )\n",
    "\n",
    "        return temporal_vec, keras.ops.squeeze(variable_weights, axis=2)"
   ]
  },
  {
   "cell_type": "code",
   "execution_count": 62,
   "metadata": {
    "tags": [
     "remove_cell"
    ]
   },
   "outputs": [
    {
     "data": {
      "text/markdown": [
       "---\n",
       "\n",
       "### TemporalVariableSelection.__init__\n",
       "\n",
       ">      TemporalVariableSelection.__init__ (d_model:int=16,\n",
       ">                                          dropout_rate:float=0.0, **kwargs)\n",
       "\n",
       "Temporal variable selection\n",
       "\n",
       "|    | **Type** | **Default** | **Details** |\n",
       "| -- | -------- | ----------- | ----------- |\n",
       "| d_model | int | 16 | Embedding size, $d_\\text{model}$ |\n",
       "| dropout_rate | float | 0.0 |  |\n",
       "| kwargs |  |  |  |"
      ],
      "text/plain": [
       "---\n",
       "\n",
       "### TemporalVariableSelection.__init__\n",
       "\n",
       ">      TemporalVariableSelection.__init__ (d_model:int=16,\n",
       ">                                          dropout_rate:float=0.0, **kwargs)\n",
       "\n",
       "Temporal variable selection\n",
       "\n",
       "|    | **Type** | **Default** | **Details** |\n",
       "| -- | -------- | ----------- | ----------- |\n",
       "| d_model | int | 16 | Embedding size, $d_\\text{model}$ |\n",
       "| dropout_rate | float | 0.0 |  |\n",
       "| kwargs |  |  |  |"
      ]
     },
     "execution_count": 62,
     "metadata": {},
     "output_type": "execute_result"
    }
   ],
   "source": [
    "# | code-fold: show\n",
    "# | output: asis\n",
    "\n",
    "show_doc(TemporalVariableSelection.__init__, title_level=3)"
   ]
  },
  {
   "cell_type": "code",
   "execution_count": 63,
   "metadata": {
    "tags": [
     "remove_cell"
    ]
   },
   "outputs": [
    {
     "data": {
      "text/markdown": [
       "---\n",
       "\n",
       "### TemporalVariableSelection.call\n",
       "\n",
       ">      TemporalVariableSelection.call (inputs, training=None)\n",
       "\n",
       "|    | **Type** | **Default** | **Details** |\n",
       "| -- | -------- | ----------- | ----------- |\n",
       "| inputs |  |  | List of temporal embeddings, static context |\n",
       "| training | NoneType | None |  |"
      ],
      "text/plain": [
       "---\n",
       "\n",
       "### TemporalVariableSelection.call\n",
       "\n",
       ">      TemporalVariableSelection.call (inputs, training=None)\n",
       "\n",
       "|    | **Type** | **Default** | **Details** |\n",
       "| -- | -------- | ----------- | ----------- |\n",
       "| inputs |  |  | List of temporal embeddings, static context |\n",
       "| training | NoneType | None |  |"
      ]
     },
     "execution_count": 63,
     "metadata": {},
     "output_type": "execute_result"
    }
   ],
   "source": [
    "# | code-fold: show\n",
    "# | output: asis\n",
    "\n",
    "show_doc(TemporalVariableSelection.call, title_level=3)"
   ]
  },
  {
   "cell_type": "markdown",
   "metadata": {},
   "source": [
    "The main input to `temporal_variable_selection` are the transformed *temporal* variables $\\xi_t^{(j)}$.\n",
    "\n",
    "The selection of the temporal variables also requires the context from the static variables $c_s$, created below by passing `static_vars`, the output from the static variable selection unit (see @eq-static_var_sel), into a GRN."
   ]
  },
  {
   "cell_type": "code",
   "execution_count": 64,
   "metadata": {
    "tags": [
     "remove_cell"
    ]
   },
   "outputs": [
    {
     "name": "stdout",
     "output_type": "stream",
     "text": [
      "Temporal variables feature shape: (batch size, num time steps, d_model) torch.Size([500, 120, 16])\n",
      "Temporal variables weights shape: (batch size, num time steps, num variables (5)) torch.Size([500, 120, 5])\n",
      "Temporal variables feature shape: (batch size, num time steps, d_model) torch.Size([500, 12, 16])\n",
      "Temporal variables weights shape: (batch size, num time steps, num variables) torch.Size([500, 12, 1])\n"
     ]
    }
   ],
   "source": [
    "# | code-fold: show\n",
    "\n",
    "# static context c_s\n",
    "svars = StaticVariableSelection()\n",
    "xi_stat_selected, _ = svars(xi_stat)\n",
    "static_context_grn = GatedResidualNetwork(use_time_distributed=False)\n",
    "c_s, _ = static_context_grn(xi_stat_selected)\n",
    "\n",
    "# variable selection, historical data\n",
    "tvars_hist = TemporalVariableSelection()\n",
    "hist_sel, hist_weights = tvars_hist(\n",
    "    [xi_hist[:, :, :5, :], c_s]\n",
    ")  # only the first five variables to keep it quick\n",
    "print(\n",
    "    \"Temporal variables feature shape: (batch size, num time steps, d_model)\",\n",
    "    hist_sel.shape,\n",
    ")\n",
    "print(\n",
    "    \"Temporal variables weights shape: (batch size, num time steps, num variables (5))\",\n",
    "    hist_weights.shape,\n",
    ")\n",
    "\n",
    "# variable selection, future data\n",
    "tvars_fut = TemporalVariableSelection()\n",
    "fut_sel, fut_weights = tvars_fut([xi_fut, c_s])\n",
    "print(\n",
    "    \"Temporal variables feature shape: (batch size, num time steps, d_model)\",\n",
    "    fut_sel.shape,\n",
    ")\n",
    "print(\n",
    "    \"Temporal variables weights shape: (batch size, num time steps, num variables)\",\n",
    "    fut_weights.shape,\n",
    ")"
   ]
  },
  {
   "cell_type": "markdown",
   "metadata": {},
   "source": [
    "## Sequence-to-sequence layer (LSTM)"
   ]
  },
  {
   "cell_type": "markdown",
   "metadata": {},
   "source": [
    "This  the `TemporalFeatures` layer implements the following transformation:\n",
    "\n",
    "$$ \\text{LSTM} :\n",
    "\\tilde{\\xi}_{t-k:t}, \\tilde{\\xi}_{t:\\tau_{\\text{max}}} \\in \\mathbb{R}^{k + \\tau_{\\text{max}} X d_{\\text{model}}} \\to \\phi(t, n) \\in \\mathbb{R}^{k + \\tau_{\\text{max}} X d_{\\text{model}}}, n \\in [-k, \\tau_{\\text{max}}],\n",
    "$$ {#eq-seqtoseq}\n",
    "\n",
    "where the starting cell and hidden states of $\\text{LSTM}_{t-k:t}$ are $c_c$ and $c_h$, each calculated as $c_p = GRN(\\xi^{(j)}), p \\in (c, h)$ and $j$ denoting static variables.\n",
    "\n",
    "Finally, the `TemporalFeatures` layer compares the input data $\\tilde{\\xi}_{t-k:\\tau_{\\text{max}}}$ with the non-linear transformation $\\phi(t, n)$, as follows:\n",
    "\n",
    "$$\n",
    "\\tilde{\\phi}(t, n) = \\text{LayerNorm}(\\tilde{\\xi}_{t+n} + \\text{GLU}_{\\tilde{\\phi}}(\\phi(t, n))).\n",
    "$$"
   ]
  },
  {
   "cell_type": "code",
   "execution_count": 65,
   "metadata": {},
   "outputs": [],
   "source": [
    "class TemporalFeatures(keras.Layer):\n",
    "    def __init__(\n",
    "        self,\n",
    "        d_model: int = 16,  # Embedding size, $d_\\text{model}$\n",
    "        dropout_rate: float = 0.0,  # Dropout rate\n",
    "        **kwargs\n",
    "    ):\n",
    "        super(TemporalFeatures, self).__init__(**kwargs)\n",
    "        self.d_model = d_model\n",
    "        self.dropout_rate = dropout_rate\n",
    "\n",
    "    def build(self, input_shape):\n",
    "        super(TemporalFeatures, self).build(input_shape)\n",
    "        self.hist_encoder = layers.LSTM(\n",
    "            units=self.d_model,\n",
    "            return_sequences=True,\n",
    "            return_state=True,\n",
    "            stateful=False,\n",
    "            activation=\"tanh\",\n",
    "            recurrent_activation=\"sigmoid\",\n",
    "            recurrent_dropout=self.dropout_rate,\n",
    "            unroll=False,\n",
    "            use_bias=True,\n",
    "        )\n",
    "        self.fut_decoder = layers.LSTM(\n",
    "            units=self.d_model,\n",
    "            return_sequences=True,\n",
    "            return_state=False,\n",
    "            stateful=False,\n",
    "            activation=\"tanh\",\n",
    "            recurrent_activation=\"sigmoid\",\n",
    "            recurrent_dropout=self.dropout_rate,\n",
    "            unroll=False,\n",
    "            use_bias=True,\n",
    "        )\n",
    "        self.lstm_glu = GatedLinearUnit(\n",
    "            d_model=self.d_model,  # Dimension of the GLU\n",
    "            dropout_rate=self.dropout_rate,  # Dropout rate\n",
    "            use_time_distributed=True,  # Apply the GLU across all time steps?\n",
    "            activation=None,  # Activation function\n",
    "        )\n",
    "        self.add = layers.Add()\n",
    "        self.l_norm = layers.LayerNormalization()\n",
    "\n",
    "    def call(self, inputs, training=None):\n",
    "        historical_features, future_features, c_h, c_c = inputs\n",
    "        input_embeddings = keras.ops.concatenate(\n",
    "            [historical_features, future_features], axis=1\n",
    "        )\n",
    "\n",
    "        history_lstm_encoder, state_h, state_c = self.hist_encoder(\n",
    "            historical_features,\n",
    "            initial_state=[c_h, c_c],  # short-term state  # long-term state\n",
    "            training=training,\n",
    "        )\n",
    "\n",
    "        future_lstm_decoder = self.fut_decoder(\n",
    "            future_features,\n",
    "            initial_state=[state_h, state_c],  # short-term state  # long-term state\n",
    "            training=training,\n",
    "        )\n",
    "\n",
    "        # this step concatenates at the time dimension, ie\n",
    "        # the time series of history internal states are now\n",
    "        # concated in sequence with the series of future internal states\n",
    "        # $\\phi(t,n) \\in \\{\\phi(t,-k), \\dots, \\phi(t, \\tau_{\\text{max}})\\}$\n",
    "        lstm_layer = keras.ops.concatenate(\n",
    "            [history_lstm_encoder, future_lstm_decoder], axis=1\n",
    "        )\n",
    "\n",
    "        # Apply gated skip connection\n",
    "        lstm_layer, _ = self.lstm_glu(lstm_layer, training=training)\n",
    "        outputs = self.add([lstm_layer, input_embeddings])\n",
    "        outputs = self.l_norm(outputs)\n",
    "        # it's the temporal feature layer that is fed into the Temporal Fusion Decoder\n",
    "        # its dimensions are (batch size / num time steps historical + future / hidden size)\n",
    "\n",
    "        return outputs"
   ]
  },
  {
   "cell_type": "code",
   "execution_count": 66,
   "metadata": {
    "tags": [
     "remove_cell"
    ]
   },
   "outputs": [],
   "source": [
    "temp_feat = TemporalFeatures()"
   ]
  },
  {
   "cell_type": "code",
   "execution_count": 67,
   "metadata": {
    "tags": [
     "remove_cell"
    ]
   },
   "outputs": [
    {
     "data": {
      "text/markdown": [
       "---\n",
       "\n",
       "### TemporalFeatures.__init__\n",
       "\n",
       ">      TemporalFeatures.__init__ (d_model:int=16, dropout_rate:float=0.0,\n",
       ">                                 **kwargs)\n",
       "\n",
       "Initializes internal Module state, shared by both nn.Module and ScriptModule.\n",
       "\n",
       "|    | **Type** | **Default** | **Details** |\n",
       "| -- | -------- | ----------- | ----------- |\n",
       "| d_model | int | 16 | Embedding size, $d_\\text{model}$ |\n",
       "| dropout_rate | float | 0.0 | Dropout rate |\n",
       "| kwargs |  |  |  |"
      ],
      "text/plain": [
       "---\n",
       "\n",
       "### TemporalFeatures.__init__\n",
       "\n",
       ">      TemporalFeatures.__init__ (d_model:int=16, dropout_rate:float=0.0,\n",
       ">                                 **kwargs)\n",
       "\n",
       "Initializes internal Module state, shared by both nn.Module and ScriptModule.\n",
       "\n",
       "|    | **Type** | **Default** | **Details** |\n",
       "| -- | -------- | ----------- | ----------- |\n",
       "| d_model | int | 16 | Embedding size, $d_\\text{model}$ |\n",
       "| dropout_rate | float | 0.0 | Dropout rate |\n",
       "| kwargs |  |  |  |"
      ]
     },
     "execution_count": 67,
     "metadata": {},
     "output_type": "execute_result"
    }
   ],
   "source": [
    "# | output: asis\n",
    "# | echo: false\n",
    "\n",
    "show_doc(TemporalFeatures.__init__, title_level=3)"
   ]
  },
  {
   "cell_type": "code",
   "execution_count": 68,
   "metadata": {
    "tags": [
     "remove_cell"
    ]
   },
   "outputs": [
    {
     "data": {
      "text/markdown": [
       "---\n",
       "\n",
       "### TemporalFeatures.call\n",
       "\n",
       ">      TemporalFeatures.call (inputs, training=None)"
      ],
      "text/plain": [
       "---\n",
       "\n",
       "### TemporalFeatures.call\n",
       "\n",
       ">      TemporalFeatures.call (inputs, training=None)"
      ]
     },
     "execution_count": 68,
     "metadata": {},
     "output_type": "execute_result"
    }
   ],
   "source": [
    "# | output: asis\n",
    "# | echo: false\n",
    "\n",
    "show_doc(TemporalFeatures.call, title_level=3)"
   ]
  },
  {
   "cell_type": "markdown",
   "metadata": {},
   "source": [
    "The graph below plots the temporal futures resulting from the function above, using the first batch of data as an example. Each curve is the time series of one element of the embedding vector, which in turn contains all the relevant information from the time-varying inputs, both categorical and continuous, after being filtered by the network. The black vertical line marks the point at which the temporal futures is relying on future known information.\n",
    "\n",
    "Note that even with these randomly initiated LSTM layers, it is already possible to see the obvious fact that the information content from historical input (left to the vertical line) is different compared to the known future data (ie, information from the dates; to the right of the vertical line).\n",
    "\n",
    "Still, the future part has *some* information, which might be useful in nowcasting or predicting inflation farther out."
   ]
  },
  {
   "cell_type": "markdown",
   "metadata": {},
   "source": [
    "## Static enrichment"
   ]
  },
  {
   "cell_type": "markdown",
   "metadata": {},
   "source": [
    "This step is responsible for adding static information on the country for which inflation is being nowcasted to the temporal features.\n",
    "\n",
    "This is achieved by a GRN layer as follows:\n",
    "\n",
    "$$\n",
    "\\theta(t, n) = \\text{GRN}_{\\theta}(\\tilde{\\phi}(t, n), c_e)\n",
    "$$"
   ]
  },
  {
   "cell_type": "markdown",
   "metadata": {},
   "source": [
    "## Attention components"
   ]
  },
  {
   "cell_type": "markdown",
   "metadata": {},
   "source": [
    "* Attention mechanisms use relationships between keys $K \\in \\mathbf{R}^{N \\times d_{attention}}$ and queries $Q \\in \\mathbf{R}^{N \\times d_{attention}}$ to scale a vector of values $V \\in \\mathbf{R}^{N \\times d_V}$: $\\text{Attention}(Q, K, V) = A(Q, K) V$\n",
    "    * $N$ is the number of timesteps going into the attention layer (the number of lags $k$ plus the number of periods to be forecasted $\\tau_{\\text{max}}$)\n",
    "    * $A(\\cdot)$ is a normalisation function\n",
    "        * After @vaswani2017attention, the canonical choice for $A(\\cdot)$ is the scaled dot-product: $A(Q, K) = \\text{Softmax}(\\frac{Q K^{T}}{\\sqrt{d_{attention}}} )$\n",
    "    \n",
    "* The TFT uses a modified attention head to enhance the explainability of the model\n",
    "* Specifically, the transformer block (multi-head attention) is modified to:\n",
    "    * share values in each head, and\n",
    "    * employ additive aggregation of all heads\n",
    "* More formally, compare the interpretable multi-head attention (used in this paper) with the canonical multi-head attention:\n",
    "    * $\\text{InterpretableMultiHead}(Q, K, V) = \\tilde{H} W_{H}$, with:\n",
    "        * $\\begin{aligned}\\tilde{H} &= \\tilde{A}(Q, K) V W_V \\\\\n",
    "        &= \\{\\frac{1}{m_H} \\sum^{m_{H}}_{h=1} A(Q W^{(h)}_Q, K W^{(h)}_K) \\} V W_V \\\\\n",
    "        &= \\frac{1}{m_H} \\sum^{m_{H}}_{h=1} \\text{Attention}(Q W^{(h)}_Q, K W^{(h)}_K, V W_V)\n",
    "        \\end{aligned}$\n",
    "    * $\\text{MultiHead}(Q, K, V) = [H_1, \\dots, H_{m_H}] W_H$, with:\n",
    "        * $H_h = \\text{Attention}(Q W^{(h)}_Q, K W^{(h)}_K, V W_V^{(h)}) $"
   ]
  },
  {
   "cell_type": "markdown",
   "metadata": {},
   "source": [
    "### Decoder mask for self-attention layer"
   ]
  },
  {
   "cell_type": "code",
   "execution_count": 69,
   "metadata": {},
   "outputs": [],
   "source": [
    "def get_decoder_mask(self_attention_inputs):  # Inputs to the self-attention layer\n",
    "    \"Determines shape of decoder mask\"\n",
    "    len_s = keras.ops.shape(self_attention_inputs)[1]  # length of inputs\n",
    "    bs = keras.ops.shape(self_attention_inputs)[0]  # batch shape\n",
    "    mask = keras.ops.cumsum(keras.ops.eye(len_s), axis=0)\n",
    "\n",
    "    ### warning: I had to manually implement some batch-wise shape here\n",
    "    ### because the new keras `eye` function does not have a batch_size arg.\n",
    "    ### inspired by: https://github.com/tensorflow/tensorflow/blob/v2.14.0/tensorflow/python/ops/linalg_ops_impl.py#L30\n",
    "    ### <hack>\n",
    "    mask = keras.ops.expand_dims(mask, axis=0)\n",
    "    mask = keras.ops.tile(mask, (bs, 1, 1))\n",
    "    ### </hack>\n",
    "\n",
    "    return mask"
   ]
  },
  {
   "cell_type": "code",
   "execution_count": 70,
   "metadata": {
    "tags": [
     "remove_cell"
    ]
   },
   "outputs": [
    {
     "data": {
      "text/markdown": [
       "---\n",
       "\n",
       "### get_decoder_mask\n",
       "\n",
       ">      get_decoder_mask (self_attention_inputs)\n",
       "\n",
       "Determines shape of decoder mask\n",
       "\n",
       "|    | **Details** |\n",
       "| -- | ----------- |\n",
       "| self_attention_inputs | Inputs to the self-attention layer |"
      ],
      "text/plain": [
       "---\n",
       "\n",
       "### get_decoder_mask\n",
       "\n",
       ">      get_decoder_mask (self_attention_inputs)\n",
       "\n",
       "Determines shape of decoder mask\n",
       "\n",
       "|    | **Details** |\n",
       "| -- | ----------- |\n",
       "| self_attention_inputs | Inputs to the self-attention layer |"
      ]
     },
     "execution_count": 70,
     "metadata": {},
     "output_type": "execute_result"
    }
   ],
   "source": [
    "# | output: asis\n",
    "# | echo: false\n",
    "\n",
    "show_doc(get_decoder_mask, title_level=3)"
   ]
  },
  {
   "cell_type": "code",
   "execution_count": 71,
   "metadata": {
    "tags": [
     "remove_cell"
    ]
   },
   "outputs": [
    {
     "data": {
      "text/plain": [
       "(torch.Size([32, 100, 100]), (32, 100, 16))"
      ]
     },
     "execution_count": 71,
     "metadata": {},
     "output_type": "execute_result"
    }
   ],
   "source": [
    "# | code-fold: show\n",
    "\n",
    "simul_grn = np.ones((32, 100, 16))\n",
    "\n",
    "dec = get_decoder_mask(simul_grn)\n",
    "\n",
    "dec.shape, simul_grn.shape"
   ]
  },
  {
   "cell_type": "markdown",
   "metadata": {},
   "source": [
    "Note that it produces an upper-triangular matrix of ones:"
   ]
  },
  {
   "cell_type": "code",
   "execution_count": 72,
   "metadata": {
    "tags": [
     "remove_cell"
    ]
   },
   "outputs": [
    {
     "data": {
      "text/plain": [
       "tensor([[1., 0., 0.,  ..., 0., 0., 0.],\n",
       "        [1., 1., 0.,  ..., 0., 0., 0.],\n",
       "        [1., 1., 1.,  ..., 0., 0., 0.],\n",
       "        ...,\n",
       "        [1., 1., 1.,  ..., 1., 0., 0.],\n",
       "        [1., 1., 1.,  ..., 1., 1., 0.],\n",
       "        [1., 1., 1.,  ..., 1., 1., 1.]])"
      ]
     },
     "execution_count": 72,
     "metadata": {},
     "output_type": "execute_result"
    }
   ],
   "source": [
    "# | code-fold: show\n",
    "\n",
    "dec[0]"
   ]
  },
  {
   "cell_type": "markdown",
   "metadata": {},
   "source": [
    "## Scaled dot product attention layer\n",
    "\n",
    "* This is the same as Eq. (1) of @vaswani2017attention \n",
    "    * except that in this case the dimension of the value vector is the same $d_{\\text{attn}} = d_{\\text{model}} / m_{\\text{Heads}}$ as for the query and key vectors\n",
    "* As discussed in the paper, additive attention outperforms dot product attention for larger $d_{\\text{model}}$ values, so the attention is scaled back to smaller values"
   ]
  },
  {
   "cell_type": "code",
   "execution_count": 73,
   "metadata": {},
   "outputs": [],
   "source": [
    "class ScaledDotProductAttention(keras.Layer):\n",
    "    def __init__(\n",
    "        self, dropout_rate: float = 0.0, **kwargs  # Will be ignored if `training=False`\n",
    "    ):\n",
    "        super(ScaledDotProductAttention, self).__init__(**kwargs)\n",
    "        self.dropout_rate = dropout_rate\n",
    "\n",
    "    def build(self, input_shape):\n",
    "        super(ScaledDotProductAttention, self).build(input_shape)\n",
    "        self.dropout = layers.Dropout(rate=self.dropout_rate)\n",
    "        self.activation = keras.layers.Activation(\"softmax\")\n",
    "        self.dot_22 = layers.Dot(axes=(2, 2))\n",
    "        self.dot_21 = layers.Dot(axes=(2, 1))\n",
    "        self.lambda_layer = layers.Lambda(\n",
    "            lambda x: (-1e9) * (1.0 - keras.ops.cast(x, \"float32\"))\n",
    "        )\n",
    "        self.add = layers.Add()\n",
    "\n",
    "    def call(\n",
    "        self,\n",
    "        q,  # Queries, tensor of shape (?, time, D_model)\n",
    "        k,  # Keys, tensor of shape (?, time, D_model)\n",
    "        v,  # Values, tensor of shape (?, time, D_model)\n",
    "        mask,  # Masking if required (sets Softmax to very large value), tensor of shape (?, time, time)\n",
    "        training=None,  # Whether the layer is being trained or used in inference\n",
    "    ):\n",
    "        # returns Tuple (layer outputs, attention weights)\n",
    "        scale = keras.ops.sqrt(keras.ops.cast(keras.ops.shape(k)[-1], dtype=\"float32\"))\n",
    "        attention = self.dot_22([q, k]) / scale\n",
    "        # attention = keras.ops.einsum(\"bij,bjk->bik\", q, keras.ops.transpose(k, axes=(0, 2, 1))) / scale\n",
    "        if mask is not None:\n",
    "            mmask = self.lambda_layer(mask)\n",
    "            attention = self.add([attention, mmask])\n",
    "        attention = self.activation(attention)\n",
    "        if training:\n",
    "            attention = self.dropout(attention)\n",
    "        output = self.dot_21([attention, v])\n",
    "        # output = keras.ops.einsum(\"btt,btd->bt\", attention, v)\n",
    "        return output, attention"
   ]
  },
  {
   "cell_type": "code",
   "execution_count": 74,
   "metadata": {
    "tags": [
     "remove_cell"
    ]
   },
   "outputs": [
    {
     "data": {
      "text/markdown": [
       "---\n",
       "\n",
       "### ScaledDotProductAttention\n",
       "\n",
       ">      ScaledDotProductAttention (dropout_rate:float=0.0, **kwargs)\n",
       "\n",
       "This is the class from which all layers inherit.\n",
       "\n",
       "A layer is a callable object that takes as input one or more tensors and\n",
       "that outputs one or more tensors. It involves *computation*, defined\n",
       "in the `call()` method, and a *state* (weight variables). State can be\n",
       "created:\n",
       "\n",
       "* in `__init__()`, for instance via `self.add_weight()`;\n",
       "* in the optional `build()` method, which is invoked by the first\n",
       "  `__call__()` to the layer, and supplies the shape(s) of the input(s),\n",
       "  which may not have been known at initialization time.\n",
       "\n",
       "Layers are recursively composable: If you assign a Layer instance as an\n",
       "attribute of another Layer, the outer layer will start tracking the weights\n",
       "created by the inner layer. Nested layers should be instantiated in the\n",
       "`__init__()` method or `build()` method.\n",
       "\n",
       "Users will just instantiate a layer and then treat it as a callable.\n",
       "\n",
       "Args:\n",
       "    trainable: Boolean, whether the layer's variables should be trainable.\n",
       "    name: String name of the layer.\n",
       "    dtype: The dtype of the layer's computations and weights. Can also be a\n",
       "        `keras.mixed_precision.DTypePolicy`,\n",
       "        which allows the computation and\n",
       "        weight dtype to differ. Defaults to `None`. `None` means to use\n",
       "        `keras.mixed_precision.dtype_policy()`,\n",
       "        which is a `float32` policy unless set to different value\n",
       "        (via `keras.mixed_precision.set_dtype_policy()`).\n",
       "\n",
       "Attributes:\n",
       "    name: The name of the layer (string).\n",
       "    dtype: Dtype of the layer's weights. Alias of `layer.variable_dtype`.\n",
       "    variable_dtype: Dtype of the layer's weights.\n",
       "    compute_dtype: The dtype of the layer's computations.\n",
       "        Layers automatically cast inputs to this dtype, which causes\n",
       "        the computations and output to also be in this dtype.\n",
       "        When mixed precision is used with a\n",
       "        `keras.mixed_precision.DTypePolicy`, this will be different\n",
       "        than `variable_dtype`.\n",
       "    trainable_weights: List of variables to be included in backprop.\n",
       "    non_trainable_weights: List of variables that should not be\n",
       "        included in backprop.\n",
       "    weights: The concatenation of the lists trainable_weights and\n",
       "        non_trainable_weights (in this order).\n",
       "    trainable: Whether the layer should be trained (boolean), i.e.\n",
       "        whether its potentially-trainable weights should be returned\n",
       "        as part of `layer.trainable_weights`.\n",
       "    input_spec: Optional (list of) `InputSpec` object(s) specifying the\n",
       "        constraints on inputs that can be accepted by the layer.\n",
       "\n",
       "We recommend that descendants of `Layer` implement the following methods:\n",
       "\n",
       "* `__init__()`: Defines custom layer attributes, and creates layer weights\n",
       "    that do not depend on input shapes, using `add_weight()`,\n",
       "    or other state.\n",
       "* `build(self, input_shape)`: This method can be used to create weights that\n",
       "    depend on the shape(s) of the input(s), using `add_weight()`, or other\n",
       "    state. `__call__()` will automatically build the layer\n",
       "    (if it has not been built yet) by calling `build()`.\n",
       "* `call(self, *args, **kwargs)`: Called in `__call__` after making\n",
       "    sure `build()` has been called. `call()` performs the logic of applying\n",
       "    the layer to the input arguments.\n",
       "    Two reserved keyword arguments you can optionally use in `call()` are:\n",
       "        1. `training` (boolean, whether the call is in inference mode or\n",
       "            training mode).\n",
       "        2. `mask` (boolean tensor encoding masked timesteps in the input,\n",
       "            used e.g. in RNN layers).\n",
       "    A typical signature for this method is `call(self, inputs)`, and user\n",
       "    could optionally add `training` and `mask` if the layer need them.\n",
       "* `get_config(self)`: Returns a dictionary containing the configuration\n",
       "    used to initialize this layer. If the keys differ from the arguments\n",
       "    in `__init__()`, then override `from_config(self)` as well.\n",
       "    This method is used when saving\n",
       "    the layer or a model that contains this layer.\n",
       "\n",
       "Examples:\n",
       "\n",
       "Here's a basic example: a layer with two variables, `w` and `b`,\n",
       "that returns `y = w . x + b`.\n",
       "It shows how to implement `build()` and `call()`.\n",
       "Variables set as attributes of a layer are tracked as weights\n",
       "of the layers (in `layer.weights`).\n",
       "\n",
       "```python\n",
       "class SimpleDense(Layer):\n",
       "    def __init__(self, units=32):\n",
       "        super().__init__()\n",
       "        self.units = units\n",
       "\n",
       "    # Create the state of the layer (weights)\n",
       "    def build(self, input_shape):\n",
       "        self.kernel = self.add_weight(\n",
       "            shape=(input_shape[-1], self.units),\n",
       "            initializer=\"glorot_uniform\",\n",
       "            trainable=True,\n",
       "            name=\"kernel\",\n",
       "        )\n",
       "        self.bias = self.add_weight(\n",
       "            shape=(self.units,),\n",
       "            initializer=\"zeros\",\n",
       "            trainable=True,\n",
       "            name=\"bias\",\n",
       "        )\n",
       "\n",
       "    # Defines the computation\n",
       "    def call(self, inputs):\n",
       "        return ops.matmul(inputs, self.kernel) + self.bias\n",
       "\n",
       "# Instantiates the layer.\n",
       "linear_layer = SimpleDense(4)\n",
       "\n",
       "# This will also call `build(input_shape)` and create the weights.\n",
       "y = linear_layer(ops.ones((2, 2)))\n",
       "assert len(linear_layer.weights) == 2\n",
       "\n",
       "# These weights are trainable, so they're listed in `trainable_weights`:\n",
       "assert len(linear_layer.trainable_weights) == 2\n",
       "```\n",
       "\n",
       "Besides trainable weights, updated via backpropagation during training,\n",
       "layers can also have non-trainable weights. These weights are meant to\n",
       "be updated manually during `call()`. Here's a example layer that computes\n",
       "the running sum of its inputs:\n",
       "\n",
       "```python\n",
       "class ComputeSum(Layer):\n",
       "\n",
       "  def __init__(self, input_dim):\n",
       "      super(ComputeSum, self).__init__()\n",
       "      # Create a non-trainable weight.\n",
       "      self.total = self.add_weight(\n",
       "        shape=(),\n",
       "        initializer=\"zeros\",\n",
       "        trainable=False,\n",
       "        name=\"total\",\n",
       "      )\n",
       "\n",
       "  def call(self, inputs):\n",
       "      self.total.assign(self.total + ops.sum(inputs))\n",
       "      return self.total\n",
       "\n",
       "my_sum = ComputeSum(2)\n",
       "x = ops.ones((2, 2))\n",
       "y = my_sum(x)\n",
       "\n",
       "assert my_sum.weights == [my_sum.total]\n",
       "assert my_sum.non_trainable_weights == [my_sum.total]\n",
       "assert my_sum.trainable_weights == []\n",
       "```\n",
       "\n",
       "|    | **Type** | **Default** | **Details** |\n",
       "| -- | -------- | ----------- | ----------- |\n",
       "| dropout_rate | float | 0.0 | Will be ignored if `training=False` |\n",
       "| kwargs |  |  |  |"
      ],
      "text/plain": [
       "---\n",
       "\n",
       "### ScaledDotProductAttention\n",
       "\n",
       ">      ScaledDotProductAttention (dropout_rate:float=0.0, **kwargs)\n",
       "\n",
       "This is the class from which all layers inherit.\n",
       "\n",
       "A layer is a callable object that takes as input one or more tensors and\n",
       "that outputs one or more tensors. It involves *computation*, defined\n",
       "in the `call()` method, and a *state* (weight variables). State can be\n",
       "created:\n",
       "\n",
       "* in `__init__()`, for instance via `self.add_weight()`;\n",
       "* in the optional `build()` method, which is invoked by the first\n",
       "  `__call__()` to the layer, and supplies the shape(s) of the input(s),\n",
       "  which may not have been known at initialization time.\n",
       "\n",
       "Layers are recursively composable: If you assign a Layer instance as an\n",
       "attribute of another Layer, the outer layer will start tracking the weights\n",
       "created by the inner layer. Nested layers should be instantiated in the\n",
       "`__init__()` method or `build()` method.\n",
       "\n",
       "Users will just instantiate a layer and then treat it as a callable.\n",
       "\n",
       "Args:\n",
       "    trainable: Boolean, whether the layer's variables should be trainable.\n",
       "    name: String name of the layer.\n",
       "    dtype: The dtype of the layer's computations and weights. Can also be a\n",
       "        `keras.mixed_precision.DTypePolicy`,\n",
       "        which allows the computation and\n",
       "        weight dtype to differ. Defaults to `None`. `None` means to use\n",
       "        `keras.mixed_precision.dtype_policy()`,\n",
       "        which is a `float32` policy unless set to different value\n",
       "        (via `keras.mixed_precision.set_dtype_policy()`).\n",
       "\n",
       "Attributes:\n",
       "    name: The name of the layer (string).\n",
       "    dtype: Dtype of the layer's weights. Alias of `layer.variable_dtype`.\n",
       "    variable_dtype: Dtype of the layer's weights.\n",
       "    compute_dtype: The dtype of the layer's computations.\n",
       "        Layers automatically cast inputs to this dtype, which causes\n",
       "        the computations and output to also be in this dtype.\n",
       "        When mixed precision is used with a\n",
       "        `keras.mixed_precision.DTypePolicy`, this will be different\n",
       "        than `variable_dtype`.\n",
       "    trainable_weights: List of variables to be included in backprop.\n",
       "    non_trainable_weights: List of variables that should not be\n",
       "        included in backprop.\n",
       "    weights: The concatenation of the lists trainable_weights and\n",
       "        non_trainable_weights (in this order).\n",
       "    trainable: Whether the layer should be trained (boolean), i.e.\n",
       "        whether its potentially-trainable weights should be returned\n",
       "        as part of `layer.trainable_weights`.\n",
       "    input_spec: Optional (list of) `InputSpec` object(s) specifying the\n",
       "        constraints on inputs that can be accepted by the layer.\n",
       "\n",
       "We recommend that descendants of `Layer` implement the following methods:\n",
       "\n",
       "* `__init__()`: Defines custom layer attributes, and creates layer weights\n",
       "    that do not depend on input shapes, using `add_weight()`,\n",
       "    or other state.\n",
       "* `build(self, input_shape)`: This method can be used to create weights that\n",
       "    depend on the shape(s) of the input(s), using `add_weight()`, or other\n",
       "    state. `__call__()` will automatically build the layer\n",
       "    (if it has not been built yet) by calling `build()`.\n",
       "* `call(self, *args, **kwargs)`: Called in `__call__` after making\n",
       "    sure `build()` has been called. `call()` performs the logic of applying\n",
       "    the layer to the input arguments.\n",
       "    Two reserved keyword arguments you can optionally use in `call()` are:\n",
       "        1. `training` (boolean, whether the call is in inference mode or\n",
       "            training mode).\n",
       "        2. `mask` (boolean tensor encoding masked timesteps in the input,\n",
       "            used e.g. in RNN layers).\n",
       "    A typical signature for this method is `call(self, inputs)`, and user\n",
       "    could optionally add `training` and `mask` if the layer need them.\n",
       "* `get_config(self)`: Returns a dictionary containing the configuration\n",
       "    used to initialize this layer. If the keys differ from the arguments\n",
       "    in `__init__()`, then override `from_config(self)` as well.\n",
       "    This method is used when saving\n",
       "    the layer or a model that contains this layer.\n",
       "\n",
       "Examples:\n",
       "\n",
       "Here's a basic example: a layer with two variables, `w` and `b`,\n",
       "that returns `y = w . x + b`.\n",
       "It shows how to implement `build()` and `call()`.\n",
       "Variables set as attributes of a layer are tracked as weights\n",
       "of the layers (in `layer.weights`).\n",
       "\n",
       "```python\n",
       "class SimpleDense(Layer):\n",
       "    def __init__(self, units=32):\n",
       "        super().__init__()\n",
       "        self.units = units\n",
       "\n",
       "    # Create the state of the layer (weights)\n",
       "    def build(self, input_shape):\n",
       "        self.kernel = self.add_weight(\n",
       "            shape=(input_shape[-1], self.units),\n",
       "            initializer=\"glorot_uniform\",\n",
       "            trainable=True,\n",
       "            name=\"kernel\",\n",
       "        )\n",
       "        self.bias = self.add_weight(\n",
       "            shape=(self.units,),\n",
       "            initializer=\"zeros\",\n",
       "            trainable=True,\n",
       "            name=\"bias\",\n",
       "        )\n",
       "\n",
       "    # Defines the computation\n",
       "    def call(self, inputs):\n",
       "        return ops.matmul(inputs, self.kernel) + self.bias\n",
       "\n",
       "# Instantiates the layer.\n",
       "linear_layer = SimpleDense(4)\n",
       "\n",
       "# This will also call `build(input_shape)` and create the weights.\n",
       "y = linear_layer(ops.ones((2, 2)))\n",
       "assert len(linear_layer.weights) == 2\n",
       "\n",
       "# These weights are trainable, so they're listed in `trainable_weights`:\n",
       "assert len(linear_layer.trainable_weights) == 2\n",
       "```\n",
       "\n",
       "Besides trainable weights, updated via backpropagation during training,\n",
       "layers can also have non-trainable weights. These weights are meant to\n",
       "be updated manually during `call()`. Here's a example layer that computes\n",
       "the running sum of its inputs:\n",
       "\n",
       "```python\n",
       "class ComputeSum(Layer):\n",
       "\n",
       "  def __init__(self, input_dim):\n",
       "      super(ComputeSum, self).__init__()\n",
       "      # Create a non-trainable weight.\n",
       "      self.total = self.add_weight(\n",
       "        shape=(),\n",
       "        initializer=\"zeros\",\n",
       "        trainable=False,\n",
       "        name=\"total\",\n",
       "      )\n",
       "\n",
       "  def call(self, inputs):\n",
       "      self.total.assign(self.total + ops.sum(inputs))\n",
       "      return self.total\n",
       "\n",
       "my_sum = ComputeSum(2)\n",
       "x = ops.ones((2, 2))\n",
       "y = my_sum(x)\n",
       "\n",
       "assert my_sum.weights == [my_sum.total]\n",
       "assert my_sum.non_trainable_weights == [my_sum.total]\n",
       "assert my_sum.trainable_weights == []\n",
       "```\n",
       "\n",
       "|    | **Type** | **Default** | **Details** |\n",
       "| -- | -------- | ----------- | ----------- |\n",
       "| dropout_rate | float | 0.0 | Will be ignored if `training=False` |\n",
       "| kwargs |  |  |  |"
      ]
     },
     "execution_count": 74,
     "metadata": {},
     "output_type": "execute_result"
    }
   ],
   "source": [
    "# | output: asis\n",
    "# | echo: false\n",
    "\n",
    "show_doc(ScaledDotProductAttention, title_level=3)"
   ]
  },
  {
   "cell_type": "code",
   "execution_count": 75,
   "metadata": {
    "tags": [
     "remove_cell"
    ]
   },
   "outputs": [],
   "source": [
    "# | code-fold: show\n",
    "\n",
    "batch_size = 3\n",
    "n_timesteps = 5\n",
    "n_features = 13\n",
    "\n",
    "# input dimensions: batches / timesteps / features\n",
    "x_btf = np.random.randn(batch_size * n_timesteps * n_features).reshape(\n",
    "    [batch_size, n_timesteps, n_features]\n",
    ")\n",
    "\n",
    "# using the same vector for q, k and v just to simplify\n",
    "q = keras.ops.cast(x_btf, \"float32\")\n",
    "k = keras.ops.cast(x_btf, \"float32\")\n",
    "v = keras.ops.cast(x_btf, \"float32\")"
   ]
  },
  {
   "cell_type": "markdown",
   "metadata": {},
   "source": [
    "Testing without masking:"
   ]
  },
  {
   "cell_type": "code",
   "execution_count": 76,
   "metadata": {
    "tags": [
     "remove_cell"
    ]
   },
   "outputs": [
    {
     "data": {
      "text/plain": [
       "(torch.Size([3, 5, 13]), torch.Size([3, 5, 5]))"
      ]
     },
     "execution_count": 76,
     "metadata": {},
     "output_type": "execute_result"
    }
   ],
   "source": [
    "# | code-fold: show\n",
    "\n",
    "output, attention = ScaledDotProductAttention()(q=q, k=k, v=v, mask=None)\n",
    "output.shape, attention.shape"
   ]
  },
  {
   "cell_type": "markdown",
   "metadata": {},
   "source": [
    "... and with masking:"
   ]
  },
  {
   "cell_type": "code",
   "execution_count": 77,
   "metadata": {
    "tags": [
     "remove_cell"
    ]
   },
   "outputs": [
    {
     "data": {
      "text/plain": [
       "(tensor([[-1.3832, -1.1275,  0.2146,  2.3889, -0.3797,  1.3458, -0.8079,  1.7074,\n",
       "           2.2582,  0.1280, -0.2265,  1.1670,  0.1938],\n",
       "         [-0.8597, -1.5773, -0.3554, -0.4795,  2.3634, -1.0810, -0.3961, -0.3741,\n",
       "           0.0601, -0.1101,  1.3550,  0.5812,  0.6114],\n",
       "         [-0.9022, -1.5657,  0.4127, -0.3377,  1.4329, -0.3908, -0.7917,  0.8054,\n",
       "           1.3096, -0.0663,  0.1613,  0.5981,  0.0106],\n",
       "         [ 0.8025, -0.3160,  1.9998, -0.9083, -0.1505, -1.4669,  1.3350, -0.0846,\n",
       "          -2.6778, -0.1359,  0.9475,  0.1780,  0.0481],\n",
       "         [-0.3297,  0.3887,  0.5390,  0.8562, -2.1970, -0.3628, -0.0861, -2.2448,\n",
       "           0.5959,  0.3587,  1.1918, -0.0399,  1.0873]]),\n",
       " tensor([[1.0000e+00, 0.0000e+00, 0.0000e+00, 0.0000e+00, 0.0000e+00],\n",
       "         [1.8039e-02, 9.8196e-01, 0.0000e+00, 0.0000e+00, 0.0000e+00],\n",
       "         [1.4131e-01, 2.1096e-01, 6.4773e-01, 0.0000e+00, 0.0000e+00],\n",
       "         [2.4103e-04, 1.0217e-02, 2.8442e-03, 9.8670e-01, 0.0000e+00],\n",
       "         [1.2828e-02, 5.8927e-03, 2.5199e-03, 1.4324e-02, 9.6444e-01]]))"
      ]
     },
     "execution_count": 77,
     "metadata": {},
     "output_type": "execute_result"
    }
   ],
   "source": [
    "# | code-fold: show\n",
    "\n",
    "output, attention = ScaledDotProductAttention()(q=q, k=k, v=v, mask=get_decoder_mask(q))\n",
    "output[0], attention[0]  # both have shape (batch_size, n_timesteps)"
   ]
  },
  {
   "cell_type": "code",
   "execution_count": 78,
   "metadata": {
    "tags": [
     "remove_cell"
    ]
   },
   "outputs": [
    {
     "data": {
      "text/plain": [
       "tensor([[1.0000e+00, 0.0000e+00, 0.0000e+00, 0.0000e+00, 0.0000e+00],\n",
       "        [1.8039e-02, 9.8196e-01, 0.0000e+00, 0.0000e+00, 0.0000e+00],\n",
       "        [1.4131e-01, 2.1096e-01, 6.4773e-01, 0.0000e+00, 0.0000e+00],\n",
       "        [2.4103e-04, 1.0217e-02, 2.8442e-03, 9.8670e-01, 0.0000e+00],\n",
       "        [1.2828e-02, 5.8927e-03, 2.5199e-03, 1.4324e-02, 9.6444e-01]])"
      ]
     },
     "execution_count": 78,
     "metadata": {},
     "output_type": "execute_result"
    }
   ],
   "source": [
    "attention[0, -xi_fut.shape[1] :]"
   ]
  },
  {
   "cell_type": "markdown",
   "metadata": {},
   "source": [
    "## Softmax"
   ]
  },
  {
   "cell_type": "markdown",
   "metadata": {},
   "source": [
    "A small detour to illustrate the softmax function. \n",
    "\n",
    "The $i^{\\text{th}}$ element of $\\text{Softmax}(x)$, with $x \\in \\mathbf{R}^K$ is:\n",
    "\n",
    "$$\n",
    "\\text{Softmax}(x)_i = \\frac{e^{x_i}}{\\sum_{j=1}^K e^{x_j}}\n",
    "$$"
   ]
  },
  {
   "cell_type": "markdown",
   "metadata": {},
   "source": [
    "For example, see the values below for an input vector $x$ ($K=5$ in this example):"
   ]
  },
  {
   "cell_type": "code",
   "execution_count": 79,
   "metadata": {
    "tags": [
     "remove_cell"
    ]
   },
   "outputs": [
    {
     "name": "stdout",
     "output_type": "stream",
     "text": [
      "x =  [-inf  -1.   0.   1.   3.]\n",
      "exp(x) =  [ 0.          0.36787944  1.          2.71828183 20.08553692]\n",
      "denominator (sum of exp(x_j), j=1,...,K) =  24.171698192818155\n",
      "softmax(x) =  [0.         0.01521943 0.0413707  0.11245721 0.83095266]\n",
      "sum of softmax(x)_j, j=1,...,K =  1.0\n"
     ]
    }
   ],
   "source": [
    "# | code-fold: show\n",
    "\n",
    "x = np.array([-np.Inf, -1.0, 0.0, 1.0, 3.0])\n",
    "keras.layers.Activation(\"softmax\")(x)\n",
    "print(\"x = \", x)\n",
    "print(\"exp(x) = \", np.exp(x))\n",
    "print(\"denominator (sum of exp(x_j), j=1,...,K) = \", sum(np.exp(x)))\n",
    "print(\"softmax(x) = \", np.exp(x) / sum(np.exp(x)))\n",
    "print(\"sum of softmax(x)_j, j=1,...,K = \", sum(np.exp(x) / sum(np.exp(x))))"
   ]
  },
  {
   "cell_type": "markdown",
   "metadata": {},
   "source": [
    "As can be seen above, the softmax function really makes the largest numbers stand out from the rest.\n",
    "\n",
    "Note also that $-\\infty$ results in 0."
   ]
  },
  {
   "cell_type": "markdown",
   "metadata": {},
   "source": [
    "## Interpretable Multi-head attention"
   ]
  },
  {
   "cell_type": "markdown",
   "metadata": {},
   "source": [
    "* When values are shared in each head and then are aggregated additively, each head can still learn different temporal patterns (from their own unique queries and keys), but with the same input values.\n",
    "    * In other words, they can be interpreted as an ensemble over the attention weights\n",
    "    * the paper doesn't mention this explicitly, but the ensemble is equally-weighted - maybe there is some performance to be gained by having some way to weight the different attention heads 🤔, such as having a linear layer combining them... will explore in the future"
   ]
  },
  {
   "cell_type": "code",
   "execution_count": 80,
   "metadata": {},
   "outputs": [],
   "source": [
    "class InterpretableMultiHeadAttention(keras.Layer):\n",
    "    def __init__(\n",
    "        self,\n",
    "        n_head: int,\n",
    "        d_model: int,  # Embedding size, $d_\\text{model}$\n",
    "        dropout_rate: float,  # Will be ignored if `training=False`\n",
    "        **kwargs\n",
    "    ):\n",
    "        super(InterpretableMultiHeadAttention, self).__init__(**kwargs)\n",
    "        self.n_head = n_head\n",
    "        self.d_qk = self.d_v = (\n",
    "            d_model // n_head\n",
    "        )  # the original model divides by number of heads\n",
    "        self.dropout_rate = dropout_rate\n",
    "\n",
    "    def build(self, input_shape):\n",
    "        super(InterpretableMultiHeadAttention, self).build(input_shape)\n",
    "\n",
    "        # using the same value layer facilitates interpretability\n",
    "        vs_layer = layers.Dense(self.d_v, use_bias=False, name=\"shared_value\")\n",
    "\n",
    "        # creates list of queries, keys and values across heads\n",
    "        self.qs_layers = [layers.Dense(self.d_qk) for _ in range(self.n_head)]\n",
    "        self.ks_layers = [layers.Dense(self.d_qk) for _ in range(self.n_head)]\n",
    "        self.vs_layers = [vs_layer for _ in range(self.n_head)]\n",
    "\n",
    "        self.attention = ScaledDotProductAttention(dropout_rate=self.dropout_rate)\n",
    "        self.w_o = layers.Dense(\n",
    "            self.d_v, use_bias=False, name=\"W_v\"\n",
    "        )  # W_v in Eqs. (14)-(16), output weight matrix to project internal state to the original TFT\n",
    "        self.dropout = layers.Dropout(self.dropout_rate)\n",
    "\n",
    "    def call(\n",
    "        self,\n",
    "        q,  # Queries, tensor of shape (?, time, d_model)\n",
    "        k,  # Keys, tensor of shape (?, time, d_model)\n",
    "        v,  # Values, tensor of shape (?, time, d_model)\n",
    "        mask=None,  # Masking if required (sets Softmax to very large value), tensor of shape (?, time, time)\n",
    "        training=None,\n",
    "    ):\n",
    "        heads = []\n",
    "        attns = []\n",
    "        for i in range(self.n_head):\n",
    "            qs = self.qs_layers[i](q)\n",
    "            ks = self.ks_layers[i](q)\n",
    "            vs = self.vs_layers[i](v)\n",
    "\n",
    "            head, attn = self.attention(qs, ks, vs, mask, training=training)\n",
    "            if training:\n",
    "                head = self.dropout(head)\n",
    "            heads.append(head)\n",
    "            attns.append(attn)\n",
    "        head = keras.ops.stack(heads) if self.n_head > 1 else heads[0]\n",
    "\n",
    "        outputs = keras.ops.mean(head, axis=0) if self.n_head > 1 else head  # H_tilde\n",
    "        outputs = self.w_o(outputs)\n",
    "        if training:\n",
    "            outputs = self.dropout(outputs)\n",
    "\n",
    "        return outputs, attn"
   ]
  },
  {
   "cell_type": "code",
   "execution_count": 81,
   "metadata": {
    "tags": [
     "remove_cell"
    ]
   },
   "outputs": [
    {
     "data": {
      "text/markdown": [
       "---\n",
       "\n",
       "### InterpretableMultiHeadAttention\n",
       "\n",
       ">      InterpretableMultiHeadAttention (n_head:int, d_model:int,\n",
       ">                                       dropout_rate:float, **kwargs)\n",
       "\n",
       "This is the class from which all layers inherit.\n",
       "\n",
       "A layer is a callable object that takes as input one or more tensors and\n",
       "that outputs one or more tensors. It involves *computation*, defined\n",
       "in the `call()` method, and a *state* (weight variables). State can be\n",
       "created:\n",
       "\n",
       "* in `__init__()`, for instance via `self.add_weight()`;\n",
       "* in the optional `build()` method, which is invoked by the first\n",
       "  `__call__()` to the layer, and supplies the shape(s) of the input(s),\n",
       "  which may not have been known at initialization time.\n",
       "\n",
       "Layers are recursively composable: If you assign a Layer instance as an\n",
       "attribute of another Layer, the outer layer will start tracking the weights\n",
       "created by the inner layer. Nested layers should be instantiated in the\n",
       "`__init__()` method or `build()` method.\n",
       "\n",
       "Users will just instantiate a layer and then treat it as a callable.\n",
       "\n",
       "Args:\n",
       "    trainable: Boolean, whether the layer's variables should be trainable.\n",
       "    name: String name of the layer.\n",
       "    dtype: The dtype of the layer's computations and weights. Can also be a\n",
       "        `keras.mixed_precision.DTypePolicy`,\n",
       "        which allows the computation and\n",
       "        weight dtype to differ. Defaults to `None`. `None` means to use\n",
       "        `keras.mixed_precision.dtype_policy()`,\n",
       "        which is a `float32` policy unless set to different value\n",
       "        (via `keras.mixed_precision.set_dtype_policy()`).\n",
       "\n",
       "Attributes:\n",
       "    name: The name of the layer (string).\n",
       "    dtype: Dtype of the layer's weights. Alias of `layer.variable_dtype`.\n",
       "    variable_dtype: Dtype of the layer's weights.\n",
       "    compute_dtype: The dtype of the layer's computations.\n",
       "        Layers automatically cast inputs to this dtype, which causes\n",
       "        the computations and output to also be in this dtype.\n",
       "        When mixed precision is used with a\n",
       "        `keras.mixed_precision.DTypePolicy`, this will be different\n",
       "        than `variable_dtype`.\n",
       "    trainable_weights: List of variables to be included in backprop.\n",
       "    non_trainable_weights: List of variables that should not be\n",
       "        included in backprop.\n",
       "    weights: The concatenation of the lists trainable_weights and\n",
       "        non_trainable_weights (in this order).\n",
       "    trainable: Whether the layer should be trained (boolean), i.e.\n",
       "        whether its potentially-trainable weights should be returned\n",
       "        as part of `layer.trainable_weights`.\n",
       "    input_spec: Optional (list of) `InputSpec` object(s) specifying the\n",
       "        constraints on inputs that can be accepted by the layer.\n",
       "\n",
       "We recommend that descendants of `Layer` implement the following methods:\n",
       "\n",
       "* `__init__()`: Defines custom layer attributes, and creates layer weights\n",
       "    that do not depend on input shapes, using `add_weight()`,\n",
       "    or other state.\n",
       "* `build(self, input_shape)`: This method can be used to create weights that\n",
       "    depend on the shape(s) of the input(s), using `add_weight()`, or other\n",
       "    state. `__call__()` will automatically build the layer\n",
       "    (if it has not been built yet) by calling `build()`.\n",
       "* `call(self, *args, **kwargs)`: Called in `__call__` after making\n",
       "    sure `build()` has been called. `call()` performs the logic of applying\n",
       "    the layer to the input arguments.\n",
       "    Two reserved keyword arguments you can optionally use in `call()` are:\n",
       "        1. `training` (boolean, whether the call is in inference mode or\n",
       "            training mode).\n",
       "        2. `mask` (boolean tensor encoding masked timesteps in the input,\n",
       "            used e.g. in RNN layers).\n",
       "    A typical signature for this method is `call(self, inputs)`, and user\n",
       "    could optionally add `training` and `mask` if the layer need them.\n",
       "* `get_config(self)`: Returns a dictionary containing the configuration\n",
       "    used to initialize this layer. If the keys differ from the arguments\n",
       "    in `__init__()`, then override `from_config(self)` as well.\n",
       "    This method is used when saving\n",
       "    the layer or a model that contains this layer.\n",
       "\n",
       "Examples:\n",
       "\n",
       "Here's a basic example: a layer with two variables, `w` and `b`,\n",
       "that returns `y = w . x + b`.\n",
       "It shows how to implement `build()` and `call()`.\n",
       "Variables set as attributes of a layer are tracked as weights\n",
       "of the layers (in `layer.weights`).\n",
       "\n",
       "```python\n",
       "class SimpleDense(Layer):\n",
       "    def __init__(self, units=32):\n",
       "        super().__init__()\n",
       "        self.units = units\n",
       "\n",
       "    # Create the state of the layer (weights)\n",
       "    def build(self, input_shape):\n",
       "        self.kernel = self.add_weight(\n",
       "            shape=(input_shape[-1], self.units),\n",
       "            initializer=\"glorot_uniform\",\n",
       "            trainable=True,\n",
       "            name=\"kernel\",\n",
       "        )\n",
       "        self.bias = self.add_weight(\n",
       "            shape=(self.units,),\n",
       "            initializer=\"zeros\",\n",
       "            trainable=True,\n",
       "            name=\"bias\",\n",
       "        )\n",
       "\n",
       "    # Defines the computation\n",
       "    def call(self, inputs):\n",
       "        return ops.matmul(inputs, self.kernel) + self.bias\n",
       "\n",
       "# Instantiates the layer.\n",
       "linear_layer = SimpleDense(4)\n",
       "\n",
       "# This will also call `build(input_shape)` and create the weights.\n",
       "y = linear_layer(ops.ones((2, 2)))\n",
       "assert len(linear_layer.weights) == 2\n",
       "\n",
       "# These weights are trainable, so they're listed in `trainable_weights`:\n",
       "assert len(linear_layer.trainable_weights) == 2\n",
       "```\n",
       "\n",
       "Besides trainable weights, updated via backpropagation during training,\n",
       "layers can also have non-trainable weights. These weights are meant to\n",
       "be updated manually during `call()`. Here's a example layer that computes\n",
       "the running sum of its inputs:\n",
       "\n",
       "```python\n",
       "class ComputeSum(Layer):\n",
       "\n",
       "  def __init__(self, input_dim):\n",
       "      super(ComputeSum, self).__init__()\n",
       "      # Create a non-trainable weight.\n",
       "      self.total = self.add_weight(\n",
       "        shape=(),\n",
       "        initializer=\"zeros\",\n",
       "        trainable=False,\n",
       "        name=\"total\",\n",
       "      )\n",
       "\n",
       "  def call(self, inputs):\n",
       "      self.total.assign(self.total + ops.sum(inputs))\n",
       "      return self.total\n",
       "\n",
       "my_sum = ComputeSum(2)\n",
       "x = ops.ones((2, 2))\n",
       "y = my_sum(x)\n",
       "\n",
       "assert my_sum.weights == [my_sum.total]\n",
       "assert my_sum.non_trainable_weights == [my_sum.total]\n",
       "assert my_sum.trainable_weights == []\n",
       "```\n",
       "\n",
       "|    | **Type** | **Details** |\n",
       "| -- | -------- | ----------- |\n",
       "| n_head | int |  |\n",
       "| d_model | int | Embedding size, $d_\\text{model}$ |\n",
       "| dropout_rate | float | Will be ignored if `training=False` |\n",
       "| kwargs |  |  |"
      ],
      "text/plain": [
       "---\n",
       "\n",
       "### InterpretableMultiHeadAttention\n",
       "\n",
       ">      InterpretableMultiHeadAttention (n_head:int, d_model:int,\n",
       ">                                       dropout_rate:float, **kwargs)\n",
       "\n",
       "This is the class from which all layers inherit.\n",
       "\n",
       "A layer is a callable object that takes as input one or more tensors and\n",
       "that outputs one or more tensors. It involves *computation*, defined\n",
       "in the `call()` method, and a *state* (weight variables). State can be\n",
       "created:\n",
       "\n",
       "* in `__init__()`, for instance via `self.add_weight()`;\n",
       "* in the optional `build()` method, which is invoked by the first\n",
       "  `__call__()` to the layer, and supplies the shape(s) of the input(s),\n",
       "  which may not have been known at initialization time.\n",
       "\n",
       "Layers are recursively composable: If you assign a Layer instance as an\n",
       "attribute of another Layer, the outer layer will start tracking the weights\n",
       "created by the inner layer. Nested layers should be instantiated in the\n",
       "`__init__()` method or `build()` method.\n",
       "\n",
       "Users will just instantiate a layer and then treat it as a callable.\n",
       "\n",
       "Args:\n",
       "    trainable: Boolean, whether the layer's variables should be trainable.\n",
       "    name: String name of the layer.\n",
       "    dtype: The dtype of the layer's computations and weights. Can also be a\n",
       "        `keras.mixed_precision.DTypePolicy`,\n",
       "        which allows the computation and\n",
       "        weight dtype to differ. Defaults to `None`. `None` means to use\n",
       "        `keras.mixed_precision.dtype_policy()`,\n",
       "        which is a `float32` policy unless set to different value\n",
       "        (via `keras.mixed_precision.set_dtype_policy()`).\n",
       "\n",
       "Attributes:\n",
       "    name: The name of the layer (string).\n",
       "    dtype: Dtype of the layer's weights. Alias of `layer.variable_dtype`.\n",
       "    variable_dtype: Dtype of the layer's weights.\n",
       "    compute_dtype: The dtype of the layer's computations.\n",
       "        Layers automatically cast inputs to this dtype, which causes\n",
       "        the computations and output to also be in this dtype.\n",
       "        When mixed precision is used with a\n",
       "        `keras.mixed_precision.DTypePolicy`, this will be different\n",
       "        than `variable_dtype`.\n",
       "    trainable_weights: List of variables to be included in backprop.\n",
       "    non_trainable_weights: List of variables that should not be\n",
       "        included in backprop.\n",
       "    weights: The concatenation of the lists trainable_weights and\n",
       "        non_trainable_weights (in this order).\n",
       "    trainable: Whether the layer should be trained (boolean), i.e.\n",
       "        whether its potentially-trainable weights should be returned\n",
       "        as part of `layer.trainable_weights`.\n",
       "    input_spec: Optional (list of) `InputSpec` object(s) specifying the\n",
       "        constraints on inputs that can be accepted by the layer.\n",
       "\n",
       "We recommend that descendants of `Layer` implement the following methods:\n",
       "\n",
       "* `__init__()`: Defines custom layer attributes, and creates layer weights\n",
       "    that do not depend on input shapes, using `add_weight()`,\n",
       "    or other state.\n",
       "* `build(self, input_shape)`: This method can be used to create weights that\n",
       "    depend on the shape(s) of the input(s), using `add_weight()`, or other\n",
       "    state. `__call__()` will automatically build the layer\n",
       "    (if it has not been built yet) by calling `build()`.\n",
       "* `call(self, *args, **kwargs)`: Called in `__call__` after making\n",
       "    sure `build()` has been called. `call()` performs the logic of applying\n",
       "    the layer to the input arguments.\n",
       "    Two reserved keyword arguments you can optionally use in `call()` are:\n",
       "        1. `training` (boolean, whether the call is in inference mode or\n",
       "            training mode).\n",
       "        2. `mask` (boolean tensor encoding masked timesteps in the input,\n",
       "            used e.g. in RNN layers).\n",
       "    A typical signature for this method is `call(self, inputs)`, and user\n",
       "    could optionally add `training` and `mask` if the layer need them.\n",
       "* `get_config(self)`: Returns a dictionary containing the configuration\n",
       "    used to initialize this layer. If the keys differ from the arguments\n",
       "    in `__init__()`, then override `from_config(self)` as well.\n",
       "    This method is used when saving\n",
       "    the layer or a model that contains this layer.\n",
       "\n",
       "Examples:\n",
       "\n",
       "Here's a basic example: a layer with two variables, `w` and `b`,\n",
       "that returns `y = w . x + b`.\n",
       "It shows how to implement `build()` and `call()`.\n",
       "Variables set as attributes of a layer are tracked as weights\n",
       "of the layers (in `layer.weights`).\n",
       "\n",
       "```python\n",
       "class SimpleDense(Layer):\n",
       "    def __init__(self, units=32):\n",
       "        super().__init__()\n",
       "        self.units = units\n",
       "\n",
       "    # Create the state of the layer (weights)\n",
       "    def build(self, input_shape):\n",
       "        self.kernel = self.add_weight(\n",
       "            shape=(input_shape[-1], self.units),\n",
       "            initializer=\"glorot_uniform\",\n",
       "            trainable=True,\n",
       "            name=\"kernel\",\n",
       "        )\n",
       "        self.bias = self.add_weight(\n",
       "            shape=(self.units,),\n",
       "            initializer=\"zeros\",\n",
       "            trainable=True,\n",
       "            name=\"bias\",\n",
       "        )\n",
       "\n",
       "    # Defines the computation\n",
       "    def call(self, inputs):\n",
       "        return ops.matmul(inputs, self.kernel) + self.bias\n",
       "\n",
       "# Instantiates the layer.\n",
       "linear_layer = SimpleDense(4)\n",
       "\n",
       "# This will also call `build(input_shape)` and create the weights.\n",
       "y = linear_layer(ops.ones((2, 2)))\n",
       "assert len(linear_layer.weights) == 2\n",
       "\n",
       "# These weights are trainable, so they're listed in `trainable_weights`:\n",
       "assert len(linear_layer.trainable_weights) == 2\n",
       "```\n",
       "\n",
       "Besides trainable weights, updated via backpropagation during training,\n",
       "layers can also have non-trainable weights. These weights are meant to\n",
       "be updated manually during `call()`. Here's a example layer that computes\n",
       "the running sum of its inputs:\n",
       "\n",
       "```python\n",
       "class ComputeSum(Layer):\n",
       "\n",
       "  def __init__(self, input_dim):\n",
       "      super(ComputeSum, self).__init__()\n",
       "      # Create a non-trainable weight.\n",
       "      self.total = self.add_weight(\n",
       "        shape=(),\n",
       "        initializer=\"zeros\",\n",
       "        trainable=False,\n",
       "        name=\"total\",\n",
       "      )\n",
       "\n",
       "  def call(self, inputs):\n",
       "      self.total.assign(self.total + ops.sum(inputs))\n",
       "      return self.total\n",
       "\n",
       "my_sum = ComputeSum(2)\n",
       "x = ops.ones((2, 2))\n",
       "y = my_sum(x)\n",
       "\n",
       "assert my_sum.weights == [my_sum.total]\n",
       "assert my_sum.non_trainable_weights == [my_sum.total]\n",
       "assert my_sum.trainable_weights == []\n",
       "```\n",
       "\n",
       "|    | **Type** | **Details** |\n",
       "| -- | -------- | ----------- |\n",
       "| n_head | int |  |\n",
       "| d_model | int | Embedding size, $d_\\text{model}$ |\n",
       "| dropout_rate | float | Will be ignored if `training=False` |\n",
       "| kwargs |  |  |"
      ]
     },
     "execution_count": 81,
     "metadata": {},
     "output_type": "execute_result"
    }
   ],
   "source": [
    "# | output: asis\n",
    "# | echo: false\n",
    "\n",
    "show_doc(InterpretableMultiHeadAttention, title_level=3)"
   ]
  },
  {
   "cell_type": "markdown",
   "metadata": {},
   "source": [
    "#### Example usage"
   ]
  },
  {
   "cell_type": "code",
   "execution_count": 82,
   "metadata": {
    "tags": [
     "remove_cell"
    ]
   },
   "outputs": [],
   "source": [
    "# | code-fold: show\n",
    "\n",
    "imha = InterpretableMultiHeadAttention(n_head=8, d_model=16, dropout_rate=0.0)"
   ]
  },
  {
   "cell_type": "code",
   "execution_count": 83,
   "metadata": {
    "tags": [
     "remove_cell"
    ]
   },
   "outputs": [
    {
     "data": {
      "text/plain": [
       "torch.Size([32, 100, 100])"
      ]
     },
     "execution_count": 83,
     "metadata": {},
     "output_type": "execute_result"
    }
   ],
   "source": [
    "# | code-fold: show\n",
    "\n",
    "mask = get_decoder_mask(simul_grn)\n",
    "mask.shape  # shape (batch size / num time steps / num time steps)"
   ]
  },
  {
   "cell_type": "code",
   "execution_count": 84,
   "metadata": {
    "tags": [
     "remove_cell"
    ]
   },
   "outputs": [
    {
     "data": {
      "text/plain": [
       "(torch.Size([32, 100, 2]), torch.Size([32, 100, 100]))"
      ]
     },
     "execution_count": 84,
     "metadata": {},
     "output_type": "execute_result"
    }
   ],
   "source": [
    "# | code-fold: show\n",
    "\n",
    "output, attn = imha(simul_grn, simul_grn, simul_grn, mask)\n",
    "output.shape, attn.shape"
   ]
  },
  {
   "cell_type": "markdown",
   "metadata": {},
   "source": [
    "## Complete TFT model"
   ]
  },
  {
   "cell_type": "code",
   "execution_count": 85,
   "metadata": {},
   "outputs": [],
   "source": [
    "@keras.saving.register_keras_serializable()  # Make sure custom class can be saved with model.save()\n",
    "class TFT(keras.Model):\n",
    "    def __init__(\n",
    "        self,\n",
    "        quantiles=[0.05, 0.25, 0.5, 0.75, 0.95],\n",
    "        d_model: int = 16,  # Embedding size, $d_\\text{model}$\n",
    "        output_size: int = 1,  # How many periods to nowcast/forecast?\n",
    "        n_head: int = 4,\n",
    "        dropout_rate: float = 0.1,\n",
    "        skip_attention: bool = False,  # Build a partial TFT without attention\n",
    "        **kwargs,\n",
    "    ):\n",
    "        super(TFT, self).__init__(**kwargs)\n",
    "        self.quantiles = quantiles\n",
    "        self.d_model = d_model\n",
    "        self.output_size = output_size\n",
    "        self.n_head = n_head\n",
    "        self.dropout_rate = dropout_rate\n",
    "        self.skip_attention = skip_attention\n",
    "\n",
    "    def build(self, input_shape):\n",
    "        super(TFT, self).build(input_shape)\n",
    "\n",
    "        self.input_layer = InputTFT(d_model=self.d_model, name=\"input\")\n",
    "        self.svars = StaticVariableSelection(\n",
    "            d_model=self.d_model,\n",
    "            dropout_rate=self.dropout_rate,\n",
    "            name=\"static_variable_selection\",\n",
    "        )\n",
    "        self.tvars_hist = TemporalVariableSelection(\n",
    "            d_model=self.d_model,\n",
    "            dropout_rate=self.dropout_rate,\n",
    "            name=\"historical_variable_selection\",\n",
    "        )\n",
    "        self.tvars_fut = TemporalVariableSelection(\n",
    "            d_model=self.d_model,\n",
    "            dropout_rate=self.dropout_rate,\n",
    "            name=\"future_variable_selection\",\n",
    "        )\n",
    "        self.static_context_s_grn = GatedResidualNetwork(\n",
    "            d_model=self.d_model,\n",
    "            dropout_rate=self.dropout_rate,\n",
    "            use_time_distributed=False,\n",
    "            name=\"static_context_for_variable_selection\",\n",
    "        )\n",
    "        self.static_context_h_grn = GatedResidualNetwork(\n",
    "            d_model=self.d_model,\n",
    "            dropout_rate=self.dropout_rate,\n",
    "            use_time_distributed=False,\n",
    "            name=\"static_context_for_LSTM_state_h\",\n",
    "        )\n",
    "        self.static_context_c_grn = GatedResidualNetwork(\n",
    "            d_model=self.d_model,\n",
    "            dropout_rate=self.dropout_rate,\n",
    "            use_time_distributed=False,\n",
    "            name=\"static_context_for_LSTM_state_c\",\n",
    "        )\n",
    "        self.static_context_e_grn = GatedResidualNetwork(\n",
    "            d_model=self.d_model,\n",
    "            dropout_rate=self.dropout_rate,\n",
    "            use_time_distributed=False,\n",
    "            name=\"static_context_for_enrichment_of\",\n",
    "        )\n",
    "        self.temporal_features = TemporalFeatures(\n",
    "            d_model=self.d_model, dropout_rate=self.dropout_rate, name=\"LSTM_encoder\"\n",
    "        )\n",
    "        self.static_context_enrichment = GatedResidualNetwork(\n",
    "            d_model=self.d_model,\n",
    "            dropout_rate=self.dropout_rate,\n",
    "            use_time_distributed=True,\n",
    "            name=\"static_context_enrichment\",\n",
    "        )\n",
    "        if not self.skip_attention:\n",
    "            self.attention = InterpretableMultiHeadAttention(\n",
    "                n_head=self.n_head,\n",
    "                d_model=self.d_model,\n",
    "                dropout_rate=self.dropout_rate,\n",
    "                name=\"attention_heads\",\n",
    "            )\n",
    "            self.attention_gating = GatedLinearUnit(\n",
    "                d_model=self.d_model,\n",
    "                dropout_rate=self.dropout_rate,\n",
    "                use_time_distributed=True,\n",
    "                activation=None,\n",
    "                name=\"attention_gating\",\n",
    "            )\n",
    "            self.attn_grn = GatedResidualNetwork(\n",
    "                d_model=self.d_model,\n",
    "                dropout_rate=self.dropout_rate,\n",
    "                use_time_distributed=True,\n",
    "                name=\"output_nonlinear_processing\",\n",
    "            )\n",
    "            self.final_skip = GatedLinearUnit(\n",
    "                d_model=self.d_model,\n",
    "                dropout_rate=self.dropout_rate,\n",
    "                use_time_distributed=True,\n",
    "                activation=None,\n",
    "                name=\"final_skip_connection\",\n",
    "            )\n",
    "            self.add = layers.Add()\n",
    "        self.l_norm = layers.LayerNormalization()\n",
    "\n",
    "        self.flat = layers.Flatten(name=\"flatten\")\n",
    "\n",
    "        # Output layers:\n",
    "        # In order to enforce monotoncity of the quantiles forecast only the lowest quantile\n",
    "        # from a base forecast layer, and use output_len - 1 additional layers with ReLU activation\n",
    "        # to produce the difference between the current quantile and the previous one\n",
    "        output_len = len(self.quantiles)\n",
    "\n",
    "        self.base_output_layer = layers.TimeDistributed(layers.Dense(1), name=\"output\")\n",
    "\n",
    "        def elu_plus(x):\n",
    "            return keras.activations.elu(x) + 1\n",
    "\n",
    "        self.quantile_diff_layers = [\n",
    "            layers.TimeDistributed(\n",
    "                layers.Dense(1, activation=elu_plus), name=f\"quantile_diff_{i}\"\n",
    "            )\n",
    "            for i in range(output_len - 1)\n",
    "        ]\n",
    "\n",
    "    def get_config(self):\n",
    "        config = super().get_config()\n",
    "        config.update(\n",
    "            {\n",
    "                \"quantiles\": self.quantiles,\n",
    "                \"d_model\": self.d_model,\n",
    "                \"output_size\": self.output_size,\n",
    "                \"n_head\": self.n_head,\n",
    "                \"dropout_rate\": self.dropout_rate,\n",
    "            }\n",
    "        )\n",
    "        return config\n",
    "\n",
    "    def call(self, inputs, training=None):\n",
    "        \"Creates the model architecture\"\n",
    "\n",
    "        # embedding the inputs\n",
    "        cont_hist, cat_hist, cat_fut, cat_stat = inputs\n",
    "        if len(cat_stat.shape) == 2:\n",
    "            cat_stat = keras.ops.expand_dims(cat_stat, axis=-1)\n",
    "\n",
    "        xi_hist, xi_fut, xi_stat = self.input_layer(\n",
    "            [cont_hist, cat_hist, cat_fut, cat_stat]\n",
    "        )\n",
    "\n",
    "        # selecing the static covariates\n",
    "        static_selected_vars, static_selection_weights = self.svars(\n",
    "            xi_stat, training=training\n",
    "        )\n",
    "\n",
    "        # create context vectors from static data\n",
    "        c_s, _ = self.static_context_s_grn(\n",
    "            static_selected_vars, training=training\n",
    "        )  # for variable selection\n",
    "        c_h, _ = self.static_context_h_grn(\n",
    "            static_selected_vars, training=training\n",
    "        )  # for LSTM state h\n",
    "        c_c, _ = self.static_context_c_grn(\n",
    "            static_selected_vars, training=training\n",
    "        )  # for LSTM state c\n",
    "        c_e, _ = self.static_context_e_grn(\n",
    "            static_selected_vars, training=training\n",
    "        )  # for context enrichment of post-LSTM features\n",
    "\n",
    "        # temporal variable selection\n",
    "        hist_selected_vars, hist_selection_weights = self.tvars_hist(\n",
    "            [xi_hist, c_s], training=training\n",
    "        )\n",
    "        fut_selected_vars, fut_selection_weights = self.tvars_fut(\n",
    "            [xi_fut, c_s], training=training\n",
    "        )\n",
    "        input_embeddings = keras.ops.concatenate(\n",
    "            [hist_selected_vars, fut_selected_vars], axis=1\n",
    "        )\n",
    "\n",
    "        features = self.temporal_features(\n",
    "            [hist_selected_vars, fut_selected_vars, c_h, c_c], training=training\n",
    "        )\n",
    "\n",
    "        # static context enrichment\n",
    "        enriched, _ = self.static_context_enrichment(\n",
    "            features,\n",
    "            additional_context=keras.ops.expand_dims(c_e, axis=1),\n",
    "            training=training,\n",
    "        )\n",
    "        if not self.skip_attention:\n",
    "            mask = get_decoder_mask(enriched)\n",
    "            attn_output, self_attn = self.attention(\n",
    "                q=enriched, k=enriched, v=enriched, mask=mask, training=training\n",
    "            )\n",
    "            attn_output, _ = self.attention_gating(attn_output)\n",
    "            output = self.add([enriched, attn_output])\n",
    "            output = self.l_norm(output)\n",
    "            output, _ = self.attn_grn(output)\n",
    "            output, _ = self.final_skip(output)\n",
    "            output = self.add([features, output])\n",
    "        else:\n",
    "            output = enriched\n",
    "        output = self.l_norm(output)\n",
    "\n",
    "        # Base quantile output\n",
    "        base_output = output[Ellipsis, hist_selected_vars.shape[1] :, :]\n",
    "        base_quantile = self.base_output_layer(base_output)\n",
    "\n",
    "        # Additional layers for remaining quantiles\n",
    "        quantile_outputs = [base_quantile]\n",
    "        for i in range(len(self.quantiles) - 1):\n",
    "            quantile_diff = self.quantile_diff_layers[i](base_output)\n",
    "            quantile_output = quantile_outputs[-1] + quantile_diff\n",
    "            quantile_outputs.append(quantile_output)\n",
    "\n",
    "        final_output = keras.ops.concatenate(quantile_outputs, axis=-1)\n",
    "\n",
    "        return final_output"
   ]
  },
  {
   "cell_type": "code",
   "execution_count": 89,
   "metadata": {},
   "outputs": [
    {
     "name": "stderr",
     "output_type": "stream",
     "text": [
      "100%|██████████| 20000/20000 [01:19<00:00, 250.19it/s]\n",
      "100%|██████████| 2000/2000 [00:09<00:00, 219.90it/s]\n"
     ]
    }
   ],
   "source": [
    "class NowcastingData(Dataset):\n",
    "    def __init__(\n",
    "        self,\n",
    "        n_samples: int,\n",
    "        df_daily_input: pd.DataFrame,\n",
    "        df_target: pd.DataFrame,\n",
    "        start_date: pd.Timestamp,\n",
    "        end_date: pd.Timestamp,\n",
    "        **kwargs\n",
    "    ):\n",
    "        self.n_samples = n_samples\n",
    "        self.df_daily_input = df_daily_input.loc[start_date:end_date]\n",
    "        self.df_target = df_target\n",
    "        self.kwargs = kwargs\n",
    "\n",
    "    def __len__(self):\n",
    "        return self.n_samples\n",
    "\n",
    "    def __getitem__(self, idx):\n",
    "        X, y = sample_nowcasting_data(\n",
    "            df_daily_input=self.df_daily_input, df_target=self.df_target, **self.kwargs\n",
    "        )\n",
    "        return X, y"
   ]
  },
  {
   "cell_type": "code",
   "execution_count": null,
   "metadata": {
    "tags": [
     "remove_cell"
    ]
   },
   "outputs": [],
   "source": [
    "train_data = DataLoader(\n",
    "    NowcastingData(\n",
    "        n_samples=100000,\n",
    "        df_daily_input=df_input_scl,\n",
    "        df_target=df_target_1m_pct,\n",
    "        start_date=dates_train.min(),\n",
    "        end_date=dates_train.max(),\n",
    "    ),\n",
    "    batch_size=256,\n",
    "    shuffle=True,\n",
    ")\n",
    "valid_data = DataLoader(\n",
    "    NowcastingData(\n",
    "        n_samples=20000,\n",
    "        df_daily_input=df_input_scl,\n",
    "        df_target=df_target_1m_pct,\n",
    "        start_date=dates_valid.min(),\n",
    "        end_date=dates_valid.max(),\n",
    "    ),\n",
    "    batch_size=256,\n",
    "    shuffle=True,\n",
    ")"
   ]
  },
  {
   "cell_type": "code",
   "execution_count": null,
   "metadata": {},
   "outputs": [],
   "source": [
    "quantiles = [0.05, 0.25, 0.5, 0.75, 0.95]\n",
    "\n",
    "\n",
    "@keras.saving.register_keras_serializable()  # Make sure model with custom loss function can be saved with model.save()\n",
    "def quantile_loss(y_true, y_pred):\n",
    "    # Assuming quantiles is a numpy array of shape (q,)\n",
    "    # Extend the shape of y_true to (b, t, 1) to align with y_pred's shape (b, t, q)\n",
    "    y_true_extended = keras.ops.expand_dims(y_true, axis=-1)\n",
    "\n",
    "    # Compute the difference in a broadcasted manner\n",
    "    pred_diff = y_true_extended - y_pred\n",
    "\n",
    "    # Calculate the quantile loss using broadcasting\n",
    "    # No need for a loop; numpy will broadcast quantiles across the last dimension\n",
    "\n",
    "    q = keras.ops.array(quantiles)\n",
    "    q_loss = keras.ops.maximum(q * pred_diff, (q - 1) * pred_diff)\n",
    "\n",
    "    # Average over the time axis\n",
    "    q_loss = keras.ops.mean(q_loss, axis=-2)\n",
    "\n",
    "    # Sum over the quantile axis to get the final loss\n",
    "    final_loss = keras.ops.sum(q_loss, axis=-1)\n",
    "\n",
    "    return final_loss"
   ]
  },
  {
   "cell_type": "code",
   "execution_count": 93,
   "metadata": {
    "tags": [
     "remove_cell"
    ]
   },
   "outputs": [],
   "source": [
    "# | code-fold: show\n",
    "\n",
    "\n",
    "tft = TFT(d_model=16, output_size=12, dropout_rate=0.2, quantiles=quantiles, name=\"tft\")\n",
    "\n",
    "\n",
    "optimizer = keras.optimizers.Adam(learning_rate=1e-3)\n",
    "tft.compile(optimizer=optimizer, loss=quantile_loss)"
   ]
  },
  {
   "cell_type": "code",
   "execution_count": 95,
   "metadata": {
    "tags": [
     "remove_cell"
    ]
   },
   "outputs": [
    {
     "name": "stdout",
     "output_type": "stream",
     "text": [
      "Epoch 1/40\n",
      "\u001b[1m200/200\u001b[0m \u001b[32m━━━━━━━━━━━━━━━━━━━━\u001b[0m\u001b[37m\u001b[0m \u001b[1m14527s\u001b[0m 73s/step - loss: -1.7831 - val_loss: -4.2907 - learning_rate: 0.0010\n",
      "Epoch 2/40\n",
      "\u001b[1m200/200\u001b[0m \u001b[32m━━━━━━━━━━━━━━━━━━━━\u001b[0m\u001b[37m\u001b[0m \u001b[1m14998s\u001b[0m 75s/step - loss: -5.3120 - val_loss: -8.8085 - learning_rate: 0.0010\n",
      "Epoch 3/40\n",
      "\u001b[1m200/200\u001b[0m \u001b[32m━━━━━━━━━━━━━━━━━━━━\u001b[0m\u001b[37m\u001b[0m \u001b[1m14279s\u001b[0m 71s/step - loss: -10.2033 - val_loss: -14.7981 - learning_rate: 0.0010\n",
      "Epoch 4/40\n",
      "\u001b[1m200/200\u001b[0m \u001b[32m━━━━━━━━━━━━━━━━━━━━\u001b[0m\u001b[37m\u001b[0m \u001b[1m14279s\u001b[0m 71s/step - loss: -16.5578 - val_loss: -22.2409 - learning_rate: 0.0010\n",
      "Epoch 5/40\n",
      "\u001b[1m137/200\u001b[0m \u001b[32m━━━━━━━━━━━━━\u001b[0m\u001b[37m━━━━━━━\u001b[0m \u001b[1m1:34:54\u001b[0m 90s/step - loss: -23.6651"
     ]
    }
   ],
   "source": [
    "# | code-fold: show\n",
    "\n",
    "reduce_lr = keras.callbacks.ReduceLROnPlateau(\n",
    "    monitor=\"val_loss\", factor=0.2, patience=5, min_lr=0.001\n",
    ")\n",
    "early_stop = keras.callbacks.EarlyStopping(monitor=\"val_loss\", patience=10)\n",
    "\n",
    "hist = tft.fit(\n",
    "    train_data,\n",
    "    # train_data[1],\n",
    "    validation_data=valid_data,\n",
    "    # batch_size=100,\n",
    "    epochs=40,\n",
    "    callbacks=[reduce_lr, early_stop],\n",
    ")"
   ]
  },
  {
   "cell_type": "code",
   "execution_count": 94,
   "metadata": {
    "tags": [
     "remove_cell"
    ]
   },
   "outputs": [
    {
     "data": {
      "text/html": [
       "<pre style=\"white-space:pre;overflow-x:auto;line-height:normal;font-family:Menlo,'DejaVu Sans Mono',consolas,'Courier New',monospace\"><span style=\"font-weight: bold\">Model: \"tft\"</span>\n",
       "</pre>\n"
      ],
      "text/plain": [
       "\u001b[1mModel: \"tft\"\u001b[0m\n"
      ]
     },
     "metadata": {},
     "output_type": "display_data"
    },
    {
     "data": {
      "text/html": [
       "<pre style=\"white-space:pre;overflow-x:auto;line-height:normal;font-family:Menlo,'DejaVu Sans Mono',consolas,'Courier New',monospace\">┏━━━━━━━━━━━━━━━━━━━━━━━━━━━━━━━━━┳━━━━━━━━━━━━━━━━━━━━━━━━━━━┳━━━━━━━━━━━━┓\n",
       "┃<span style=\"font-weight: bold\"> Layer (type)                    </span>┃<span style=\"font-weight: bold\"> Output Shape              </span>┃<span style=\"font-weight: bold\">    Param # </span>┃\n",
       "┡━━━━━━━━━━━━━━━━━━━━━━━━━━━━━━━━━╇━━━━━━━━━━━━━━━━━━━━━━━━━━━╇━━━━━━━━━━━━┩\n",
       "│ input (<span style=\"color: #0087ff; text-decoration-color: #0087ff\">InputTFT</span>)                │ ?                         │     <span style=\"color: #00af00; text-decoration-color: #00af00\">17,088</span> │\n",
       "├─────────────────────────────────┼───────────────────────────┼────────────┤\n",
       "│ static_variable_selection       │ ?                         │      <span style=\"color: #00af00; text-decoration-color: #00af00\">1,173</span> │\n",
       "│ (<span style=\"color: #0087ff; text-decoration-color: #0087ff\">StaticVariableSelection</span>)       │                           │            │\n",
       "├─────────────────────────────────┼───────────────────────────┼────────────┤\n",
       "│ historical_variable_selection   │ ?                         │  <span style=\"color: #00af00; text-decoration-color: #00af00\">5,403,660</span> │\n",
       "│ (<span style=\"color: #0087ff; text-decoration-color: #0087ff\">TemporalVariableSelection</span>)     │                           │            │\n",
       "├─────────────────────────────────┼───────────────────────────┼────────────┤\n",
       "│ future_variable_selection       │ ?                         │      <span style=\"color: #00af00; text-decoration-color: #00af00\">1,429</span> │\n",
       "│ (<span style=\"color: #0087ff; text-decoration-color: #0087ff\">TemporalVariableSelection</span>)     │                           │            │\n",
       "├─────────────────────────────────┼───────────────────────────┼────────────┤\n",
       "│ static_context_for_variable_se… │ ?                         │        <span style=\"color: #00af00; text-decoration-color: #00af00\">848</span> │\n",
       "│ (<span style=\"color: #0087ff; text-decoration-color: #0087ff\">GatedResidualNetwork</span>)          │                           │            │\n",
       "├─────────────────────────────────┼───────────────────────────┼────────────┤\n",
       "│ static_context_for_LSTM_state_h │ ?                         │        <span style=\"color: #00af00; text-decoration-color: #00af00\">848</span> │\n",
       "│ (<span style=\"color: #0087ff; text-decoration-color: #0087ff\">GatedResidualNetwork</span>)          │                           │            │\n",
       "├─────────────────────────────────┼───────────────────────────┼────────────┤\n",
       "│ static_context_for_LSTM_state_c │ ?                         │        <span style=\"color: #00af00; text-decoration-color: #00af00\">848</span> │\n",
       "│ (<span style=\"color: #0087ff; text-decoration-color: #0087ff\">GatedResidualNetwork</span>)          │                           │            │\n",
       "├─────────────────────────────────┼───────────────────────────┼────────────┤\n",
       "│ static_context_for_enrichment_… │ ?                         │        <span style=\"color: #00af00; text-decoration-color: #00af00\">848</span> │\n",
       "│ (<span style=\"color: #0087ff; text-decoration-color: #0087ff\">GatedResidualNetwork</span>)          │                           │            │\n",
       "├─────────────────────────────────┼───────────────────────────┼────────────┤\n",
       "│ LSTM_encoder (<span style=\"color: #0087ff; text-decoration-color: #0087ff\">TemporalFeatures</span>) │ ?                         │      <span style=\"color: #00af00; text-decoration-color: #00af00\">4,800</span> │\n",
       "├─────────────────────────────────┼───────────────────────────┼────────────┤\n",
       "│ static_context_enrichment       │ ?                         │      <span style=\"color: #00af00; text-decoration-color: #00af00\">1,104</span> │\n",
       "│ (<span style=\"color: #0087ff; text-decoration-color: #0087ff\">GatedResidualNetwork</span>)          │                           │            │\n",
       "├─────────────────────────────────┼───────────────────────────┼────────────┤\n",
       "│ attention_heads                 │ ?                         │        <span style=\"color: #00af00; text-decoration-color: #00af00\">624</span> │\n",
       "│ (<span style=\"color: #0087ff; text-decoration-color: #0087ff\">InterpretableMultiHeadAttenti…</span> │                           │            │\n",
       "├─────────────────────────────────┼───────────────────────────┼────────────┤\n",
       "│ attention_gating                │ ?                         │        <span style=\"color: #00af00; text-decoration-color: #00af00\">160</span> │\n",
       "│ (<span style=\"color: #0087ff; text-decoration-color: #0087ff\">GatedLinearUnit</span>)               │                           │            │\n",
       "├─────────────────────────────────┼───────────────────────────┼────────────┤\n",
       "│ output_nonlinear_processing     │ ?                         │        <span style=\"color: #00af00; text-decoration-color: #00af00\">848</span> │\n",
       "│ (<span style=\"color: #0087ff; text-decoration-color: #0087ff\">GatedResidualNetwork</span>)          │                           │            │\n",
       "├─────────────────────────────────┼───────────────────────────┼────────────┤\n",
       "│ final_skip_connection           │ ?                         │        <span style=\"color: #00af00; text-decoration-color: #00af00\">544</span> │\n",
       "│ (<span style=\"color: #0087ff; text-decoration-color: #0087ff\">GatedLinearUnit</span>)               │                           │            │\n",
       "├─────────────────────────────────┼───────────────────────────┼────────────┤\n",
       "│ add_29 (<span style=\"color: #0087ff; text-decoration-color: #0087ff\">Add</span>)                    │ ?                         │          <span style=\"color: #00af00; text-decoration-color: #00af00\">0</span> │\n",
       "├─────────────────────────────────┼───────────────────────────┼────────────┤\n",
       "│ layer_normalization_25          │ ?                         │         <span style=\"color: #00af00; text-decoration-color: #00af00\">32</span> │\n",
       "│ (<span style=\"color: #0087ff; text-decoration-color: #0087ff\">LayerNormalization</span>)            │                           │            │\n",
       "├─────────────────────────────────┼───────────────────────────┼────────────┤\n",
       "│ flatten (<span style=\"color: #0087ff; text-decoration-color: #0087ff\">Flatten</span>)               │ ?                         │          <span style=\"color: #00af00; text-decoration-color: #00af00\">0</span> │\n",
       "│                                 │                           │  (unbuilt) │\n",
       "├─────────────────────────────────┼───────────────────────────┼────────────┤\n",
       "│ output (<span style=\"color: #0087ff; text-decoration-color: #0087ff\">TimeDistributed</span>)        │ ?                         │         <span style=\"color: #00af00; text-decoration-color: #00af00\">85</span> │\n",
       "└─────────────────────────────────┴───────────────────────────┴────────────┘\n",
       "</pre>\n"
      ],
      "text/plain": [
       "┏━━━━━━━━━━━━━━━━━━━━━━━━━━━━━━━━━┳━━━━━━━━━━━━━━━━━━━━━━━━━━━┳━━━━━━━━━━━━┓\n",
       "┃\u001b[1m \u001b[0m\u001b[1mLayer (type)                   \u001b[0m\u001b[1m \u001b[0m┃\u001b[1m \u001b[0m\u001b[1mOutput Shape             \u001b[0m\u001b[1m \u001b[0m┃\u001b[1m \u001b[0m\u001b[1m   Param #\u001b[0m\u001b[1m \u001b[0m┃\n",
       "┡━━━━━━━━━━━━━━━━━━━━━━━━━━━━━━━━━╇━━━━━━━━━━━━━━━━━━━━━━━━━━━╇━━━━━━━━━━━━┩\n",
       "│ input (\u001b[38;5;33mInputTFT\u001b[0m)                │ ?                         │     \u001b[38;5;34m17,088\u001b[0m │\n",
       "├─────────────────────────────────┼───────────────────────────┼────────────┤\n",
       "│ static_variable_selection       │ ?                         │      \u001b[38;5;34m1,173\u001b[0m │\n",
       "│ (\u001b[38;5;33mStaticVariableSelection\u001b[0m)       │                           │            │\n",
       "├─────────────────────────────────┼───────────────────────────┼────────────┤\n",
       "│ historical_variable_selection   │ ?                         │  \u001b[38;5;34m5,403,660\u001b[0m │\n",
       "│ (\u001b[38;5;33mTemporalVariableSelection\u001b[0m)     │                           │            │\n",
       "├─────────────────────────────────┼───────────────────────────┼────────────┤\n",
       "│ future_variable_selection       │ ?                         │      \u001b[38;5;34m1,429\u001b[0m │\n",
       "│ (\u001b[38;5;33mTemporalVariableSelection\u001b[0m)     │                           │            │\n",
       "├─────────────────────────────────┼───────────────────────────┼────────────┤\n",
       "│ static_context_for_variable_se… │ ?                         │        \u001b[38;5;34m848\u001b[0m │\n",
       "│ (\u001b[38;5;33mGatedResidualNetwork\u001b[0m)          │                           │            │\n",
       "├─────────────────────────────────┼───────────────────────────┼────────────┤\n",
       "│ static_context_for_LSTM_state_h │ ?                         │        \u001b[38;5;34m848\u001b[0m │\n",
       "│ (\u001b[38;5;33mGatedResidualNetwork\u001b[0m)          │                           │            │\n",
       "├─────────────────────────────────┼───────────────────────────┼────────────┤\n",
       "│ static_context_for_LSTM_state_c │ ?                         │        \u001b[38;5;34m848\u001b[0m │\n",
       "│ (\u001b[38;5;33mGatedResidualNetwork\u001b[0m)          │                           │            │\n",
       "├─────────────────────────────────┼───────────────────────────┼────────────┤\n",
       "│ static_context_for_enrichment_… │ ?                         │        \u001b[38;5;34m848\u001b[0m │\n",
       "│ (\u001b[38;5;33mGatedResidualNetwork\u001b[0m)          │                           │            │\n",
       "├─────────────────────────────────┼───────────────────────────┼────────────┤\n",
       "│ LSTM_encoder (\u001b[38;5;33mTemporalFeatures\u001b[0m) │ ?                         │      \u001b[38;5;34m4,800\u001b[0m │\n",
       "├─────────────────────────────────┼───────────────────────────┼────────────┤\n",
       "│ static_context_enrichment       │ ?                         │      \u001b[38;5;34m1,104\u001b[0m │\n",
       "│ (\u001b[38;5;33mGatedResidualNetwork\u001b[0m)          │                           │            │\n",
       "├─────────────────────────────────┼───────────────────────────┼────────────┤\n",
       "│ attention_heads                 │ ?                         │        \u001b[38;5;34m624\u001b[0m │\n",
       "│ (\u001b[38;5;33mInterpretableMultiHeadAttenti…\u001b[0m │                           │            │\n",
       "├─────────────────────────────────┼───────────────────────────┼────────────┤\n",
       "│ attention_gating                │ ?                         │        \u001b[38;5;34m160\u001b[0m │\n",
       "│ (\u001b[38;5;33mGatedLinearUnit\u001b[0m)               │                           │            │\n",
       "├─────────────────────────────────┼───────────────────────────┼────────────┤\n",
       "│ output_nonlinear_processing     │ ?                         │        \u001b[38;5;34m848\u001b[0m │\n",
       "│ (\u001b[38;5;33mGatedResidualNetwork\u001b[0m)          │                           │            │\n",
       "├─────────────────────────────────┼───────────────────────────┼────────────┤\n",
       "│ final_skip_connection           │ ?                         │        \u001b[38;5;34m544\u001b[0m │\n",
       "│ (\u001b[38;5;33mGatedLinearUnit\u001b[0m)               │                           │            │\n",
       "├─────────────────────────────────┼───────────────────────────┼────────────┤\n",
       "│ add_29 (\u001b[38;5;33mAdd\u001b[0m)                    │ ?                         │          \u001b[38;5;34m0\u001b[0m │\n",
       "├─────────────────────────────────┼───────────────────────────┼────────────┤\n",
       "│ layer_normalization_25          │ ?                         │         \u001b[38;5;34m32\u001b[0m │\n",
       "│ (\u001b[38;5;33mLayerNormalization\u001b[0m)            │                           │            │\n",
       "├─────────────────────────────────┼───────────────────────────┼────────────┤\n",
       "│ flatten (\u001b[38;5;33mFlatten\u001b[0m)               │ ?                         │          \u001b[38;5;34m0\u001b[0m │\n",
       "│                                 │                           │  (unbuilt) │\n",
       "├─────────────────────────────────┼───────────────────────────┼────────────┤\n",
       "│ output (\u001b[38;5;33mTimeDistributed\u001b[0m)        │ ?                         │         \u001b[38;5;34m85\u001b[0m │\n",
       "└─────────────────────────────────┴───────────────────────────┴────────────┘\n"
      ]
     },
     "metadata": {},
     "output_type": "display_data"
    },
    {
     "data": {
      "text/html": [
       "<pre style=\"white-space:pre;overflow-x:auto;line-height:normal;font-family:Menlo,'DejaVu Sans Mono',consolas,'Courier New',monospace\"><span style=\"font-weight: bold\"> Total params: </span><span style=\"color: #00af00; text-decoration-color: #00af00\">16,304,819</span> (62.20 MB)\n",
       "</pre>\n"
      ],
      "text/plain": [
       "\u001b[1m Total params: \u001b[0m\u001b[38;5;34m16,304,819\u001b[0m (62.20 MB)\n"
      ]
     },
     "metadata": {},
     "output_type": "display_data"
    },
    {
     "data": {
      "text/html": [
       "<pre style=\"white-space:pre;overflow-x:auto;line-height:normal;font-family:Menlo,'DejaVu Sans Mono',consolas,'Courier New',monospace\"><span style=\"font-weight: bold\"> Trainable params: </span><span style=\"color: #00af00; text-decoration-color: #00af00\">5,434,939</span> (20.73 MB)\n",
       "</pre>\n"
      ],
      "text/plain": [
       "\u001b[1m Trainable params: \u001b[0m\u001b[38;5;34m5,434,939\u001b[0m (20.73 MB)\n"
      ]
     },
     "metadata": {},
     "output_type": "display_data"
    },
    {
     "data": {
      "text/html": [
       "<pre style=\"white-space:pre;overflow-x:auto;line-height:normal;font-family:Menlo,'DejaVu Sans Mono',consolas,'Courier New',monospace\"><span style=\"font-weight: bold\"> Non-trainable params: </span><span style=\"color: #00af00; text-decoration-color: #00af00\">0</span> (0.00 B)\n",
       "</pre>\n"
      ],
      "text/plain": [
       "\u001b[1m Non-trainable params: \u001b[0m\u001b[38;5;34m0\u001b[0m (0.00 B)\n"
      ]
     },
     "metadata": {},
     "output_type": "display_data"
    },
    {
     "data": {
      "text/html": [
       "<pre style=\"white-space:pre;overflow-x:auto;line-height:normal;font-family:Menlo,'DejaVu Sans Mono',consolas,'Courier New',monospace\"><span style=\"font-weight: bold\"> Optimizer params: </span><span style=\"color: #00af00; text-decoration-color: #00af00\">10,869,880</span> (41.47 MB)\n",
       "</pre>\n"
      ],
      "text/plain": [
       "\u001b[1m Optimizer params: \u001b[0m\u001b[38;5;34m10,869,880\u001b[0m (41.47 MB)\n"
      ]
     },
     "metadata": {},
     "output_type": "display_data"
    }
   ],
   "source": [
    "# | code-fold: show\n",
    "\n",
    "tft.summary()"
   ]
  },
  {
   "cell_type": "code",
   "execution_count": null,
   "metadata": {
    "tags": [
     "remove_cell"
    ]
   },
   "outputs": [],
   "source": [
    "tft.save(\"tft_dmodel16.keras\")"
   ]
  },
  {
   "cell_type": "markdown",
   "metadata": {},
   "source": [
    "# Checking the prediction for the testing data"
   ]
  },
  {
   "cell_type": "code",
   "execution_count": 110,
   "metadata": {
    "tags": [
     "remove_cell"
    ]
   },
   "outputs": [
    {
     "name": "stderr",
     "output_type": "stream",
     "text": [
      "100%|██████████| 10/10 [00:00<00:00, 171.13it/s]\n"
     ]
    }
   ],
   "source": [
    "test_input, test_infl = prepare_data_samples(\n",
    "    n_samples=10,\n",
    "    df_daily_input=df_input_scl,\n",
    "    df_target=df_target_1m_pct,\n",
    "    sampled_day=dates_train.max(),\n",
    "    country=\"US\",\n",
    ")"
   ]
  },
  {
   "cell_type": "code",
   "execution_count": 111,
   "metadata": {
    "tags": [
     "remove_cell"
    ]
   },
   "outputs": [
    {
     "name": "stdout",
     "output_type": "stream",
     "text": [
      "output shape:  torch.Size([10, 12, 5])\n",
      "\u001b[1m1/1\u001b[0m \u001b[32m━━━━━━━━━━━━━━━━━━━━\u001b[0m\u001b[37m\u001b[0m \u001b[1m1s\u001b[0m 565ms/step\n"
     ]
    },
    {
     "data": {
      "text/plain": [
       "tensor(188.3468)"
      ]
     },
     "execution_count": 111,
     "metadata": {},
     "output_type": "execute_result"
    }
   ],
   "source": [
    "y_pred = tft.predict(test_input)\n",
    "100 * (keras.ops.prod((y_pred / 100) + 1) - 1)"
   ]
  },
  {
   "cell_type": "code",
   "execution_count": 112,
   "metadata": {
    "tags": [
     "remove_cell"
    ]
   },
   "outputs": [
    {
     "data": {
      "text/plain": [
       "(torch.Size([10, 12]), (10, 12, 5))"
      ]
     },
     "execution_count": 112,
     "metadata": {},
     "output_type": "execute_result"
    }
   ],
   "source": [
    "test_infl.shape, y_pred.shape"
   ]
  },
  {
   "cell_type": "markdown",
   "metadata": {},
   "source": [
    "## Including speech data\n",
    "For now, simply merge the speech embeddings with the daily DataFrame"
   ]
  },
  {
   "cell_type": "code",
   "execution_count": null,
   "metadata": {
    "tags": [
     "remove_cell"
    ]
   },
   "outputs": [],
   "source": [
    "speech_embeddings = pd.read_csv(\"../data/speech_embeddings.csv\", index_col=\"date\")\n",
    "speech_embeddings.index = pd.to_datetime(speech_embeddings.index)\n",
    "df_input_embed = df_input_scl.join(speech_embeddings, on=\"index\").fillna(0)\n",
    "df_input_embed.head()"
   ]
  },
  {
   "cell_type": "code",
   "execution_count": null,
   "metadata": {
    "tags": [
     "remove_cell"
    ]
   },
   "outputs": [],
   "source": [
    "data = NowcastingData(\n",
    "    df_daily_input=df_input_embed,\n",
    "    df_target=df_target_1m_pct,\n",
    "    max_context_length_days=365,\n",
    "    delta_month=range(12),\n",
    ")\n",
    "\n",
    "tft_speech = PartialTFT(\n",
    "    d_model=8, output_size=y.shape[-1], dropout_rate=0.2, name=\"partial_tft\"\n",
    ")\n",
    "\n",
    "train_dataloader = DataLoader(data, batch_size=32, shuffle=True)\n",
    "optimizer = keras.optimizers.Adam(learning_rate=1e-3)\n",
    "loss_fn = keras.losses.MeanSquaredError()\n",
    "tft_speech.compile(optimizer=optimizer, loss=\"mse\")"
   ]
  },
  {
   "cell_type": "code",
   "execution_count": null,
   "metadata": {
    "tags": [
     "remove_cell"
    ]
   },
   "outputs": [],
   "source": [
    "batch = next(iter(train_dataloader))\n",
    "history = tft_speech.fit(batch[0], batch[1], epochs=50)"
   ]
  },
  {
   "cell_type": "code",
   "execution_count": null,
   "metadata": {
    "tags": [
     "remove_cell"
    ]
   },
   "outputs": [],
   "source": [
    "tft_speech.save(\"model_speech.keras\")"
   ]
  },
  {
   "cell_type": "markdown",
   "metadata": {},
   "source": [
    "___"
   ]
  },
  {
   "cell_type": "markdown",
   "metadata": {},
   "source": [
    "# Using the TFT model"
   ]
  },
  {
   "cell_type": "markdown",
   "metadata": {},
   "source": [
    "## Data\n",
    "\n",
    "In this example, we will use a simple inflation panel dataset."
   ]
  },
  {
   "cell_type": "code",
   "execution_count": null,
   "metadata": {
    "tags": [
     "remove_cell"
    ]
   },
   "outputs": [],
   "source": [
    "from gingado.utils import list_all_dataflows, load_SDMX_data"
   ]
  },
  {
   "cell_type": "code",
   "execution_count": null,
   "metadata": {
    "tags": [
     "remove_cell"
    ]
   },
   "outputs": [],
   "source": [
    "# dflows = list_all_dataflows()\n",
    "# dflows[dflows == 'BIS long consumer prices']"
   ]
  },
  {
   "cell_type": "code",
   "execution_count": null,
   "metadata": {
    "tags": [
     "remove_cell"
    ]
   },
   "outputs": [],
   "source": [
    "df_cpi = load_SDMX_data(\n",
    "    sources={\"BIS\": \"WS_LONG_CPI\"}, keys={\"FREQ\": \"M\"}, params={\"startPeriod\": 2002}\n",
    ")"
   ]
  },
  {
   "cell_type": "code",
   "execution_count": null,
   "metadata": {
    "tags": [
     "remove_cell"
    ]
   },
   "outputs": [],
   "source": [
    "df_cpi = df_cpi[\"2002-01-01\":\"2023-09-01\"]\n",
    "cpi_cols = df_cpi.dropna(how=\"all\", axis=1).columns"
   ]
  },
  {
   "cell_type": "code",
   "execution_count": null,
   "metadata": {
    "tags": [
     "remove_cell"
    ]
   },
   "outputs": [],
   "source": [
    "# keep only one observation per country, retaining only the ones ending in 628 (in opposition to 771)\n",
    "df_infl = (\n",
    "    df_cpi[[c for c in cpi_cols if \"628\" in c and c != \"BIS__WS_LONG_CPI_M__AE__628\"]]\n",
    "    .pct_change(periods=1)\n",
    "    .dropna(how=\"all\")\n",
    ")"
   ]
  },
  {
   "cell_type": "markdown",
   "metadata": {},
   "source": [
    "Clean the titles from the metadata"
   ]
  },
  {
   "cell_type": "code",
   "execution_count": null,
   "metadata": {
    "tags": [
     "remove_cell"
    ]
   },
   "outputs": [],
   "source": [
    "df_infl.columns = [c.split(\"__\")[2] for c in df_infl.columns]"
   ]
  },
  {
   "cell_type": "code",
   "execution_count": null,
   "metadata": {
    "tags": [
     "remove_cell"
    ]
   },
   "outputs": [],
   "source": [
    "df_infl.plot(legend=False)"
   ]
  },
  {
   "cell_type": "code",
   "execution_count": null,
   "metadata": {
    "tags": [
     "remove_cell"
    ]
   },
   "outputs": [],
   "source": [
    "train_cutoff = \"2013-01-01\"\n",
    "valid_cutoff = \"2020-01-01\"\n",
    "df_infl_train, df_infl_valid, df_infl_test = (\n",
    "    df_infl[:train_cutoff],\n",
    "    df_infl[train_cutoff:valid_cutoff],\n",
    "    df_infl[valid_cutoff:],\n",
    ")\n",
    "df_infl_train = df_infl_train[:-1]\n",
    "df_infl_valid = df_infl_valid[:-1]"
   ]
  },
  {
   "cell_type": "code",
   "execution_count": null,
   "metadata": {
    "tags": [
     "remove_cell"
    ]
   },
   "outputs": [],
   "source": [
    "df_infl_valid"
   ]
  },
  {
   "cell_type": "markdown",
   "metadata": {},
   "source": [
    "### Data preparation\n",
    "\n",
    "This crucial step involves:\n",
    "* measuring the mean and standard deviation of the inflation of each country in the training dataset\n",
    "* using the values above to standardise the training, validation and testing datasets"
   ]
  },
  {
   "cell_type": "code",
   "execution_count": null,
   "metadata": {
    "tags": [
     "remove_cell"
    ]
   },
   "outputs": [],
   "source": [
    "train_scale = {\"mean\": df_infl_train.mean(axis=0), \"std\": df_infl_train.std(axis=0)}"
   ]
  },
  {
   "cell_type": "code",
   "execution_count": null,
   "metadata": {
    "tags": [
     "remove_cell"
    ]
   },
   "outputs": [],
   "source": [
    "def normalise_df(df, scale=train_scale):\n",
    "    norm_dfs = []\n",
    "    for cty in df.columns.tolist():\n",
    "        norm_dfs.append((df[cty] - scale[\"mean\"][cty]) / scale[\"std\"][cty])\n",
    "    return pd.concat(norm_dfs, axis=1)"
   ]
  },
  {
   "cell_type": "code",
   "execution_count": null,
   "metadata": {
    "tags": [
     "remove_cell"
    ]
   },
   "outputs": [],
   "source": [
    "def renormalise_df(df, scale=train_scale):\n",
    "    renorm_dfs = []\n",
    "    for cty in df.columns.tolist():\n",
    "        renorm_dfs.append((df[cty] * scale[\"std\"][cty]) + scale[\"mean\"][cty])\n",
    "    return pd.concat(renorm_dfs, axis=1)"
   ]
  },
  {
   "cell_type": "code",
   "execution_count": null,
   "metadata": {
    "tags": [
     "remove_cell"
    ]
   },
   "outputs": [],
   "source": [
    "# the code below check that it is working:\n",
    "# (renormalise_df(normalise_df(df_infl_train, train_scale)) - df_infl_train)"
   ]
  },
  {
   "cell_type": "code",
   "execution_count": null,
   "metadata": {
    "tags": [
     "remove_cell"
    ]
   },
   "outputs": [],
   "source": [
    "df_infl_train_n = normalise_df(df_infl_train)\n",
    "df_infl_valid_n = normalise_df(df_infl_valid)\n",
    "df_infl_test_n = normalise_df(df_infl_test)"
   ]
  },
  {
   "cell_type": "code",
   "execution_count": null,
   "metadata": {
    "tags": [
     "remove_cell"
    ]
   },
   "outputs": [],
   "source": [
    "df_infl_valid_n.plot(legend=False)"
   ]
  },
  {
   "cell_type": "markdown",
   "metadata": {},
   "source": [
    "## A simple dense layer\n",
    "\n",
    "This first model is autoregressive: it takes in $p$ lags of an inflation series $\\pi_i$ (in other words, $\\pi_{i, t-p}, ..., \\pi_{i, t-1}$) to predict the period $\\pi_{i,t}$.\n",
    "\n",
    "Note that the model is very simple:\n",
    "* each country's inflation series is only predicted by its past values\n",
    "* the fully connected linear layer learns to pick up any meaningful non-linear interactions between lags, but there is no intrinsic meaning in the order of the lags\n",
    "* this network will always take in as input a $p$-sized vector of lagged data"
   ]
  },
  {
   "cell_type": "markdown",
   "metadata": {},
   "source": [
    "### Data formatting"
   ]
  },
  {
   "cell_type": "markdown",
   "metadata": {},
   "source": [
    "Let's create a simple function that will take a data frame and return a (input, output) tuple for the model."
   ]
  },
  {
   "cell_type": "code",
   "execution_count": null,
   "metadata": {
    "tags": [
     "remove_cell"
    ]
   },
   "outputs": [],
   "source": [
    "def dense_layer_io(\n",
    "    df,  # Pandas DataFrame with the data\n",
    "    idx: [Int],  # DataFrame indedx\n",
    "    col: [str],  # Column name\n",
    "    p: Int,  # Number of lags\n",
    "):\n",
    "    # Return an (input, output) tuple for a dense_layer model\n",
    "\n",
    "    assert len(idx) == len(col)\n",
    "\n",
    "    batch_X, batch_y = [], []\n",
    "    for i in range(len(idx)):\n",
    "        X = df.iloc[idx[i] : (idx[i] + p)][[col[i]]].values.reshape(-1)\n",
    "        if np.isnan(X).any():\n",
    "            continue\n",
    "        batch_X.append(X)\n",
    "        batch_y.append(df.iloc[idx[i] + p][[col[i]]].values)\n",
    "\n",
    "    return np.vstack(batch_X), np.vstack(batch_y)\n",
    "\n",
    "    # return df.iloc[idx:(idx+p)][[col]].values.reshape(-1), df.iloc[idx+p+1][[col]].values"
   ]
  },
  {
   "cell_type": "code",
   "execution_count": null,
   "metadata": {
    "tags": [
     "remove_cell"
    ]
   },
   "outputs": [],
   "source": [
    "dense_layer_io(df=df_infl_train, idx=[3, 4, 5], col=[\"BR\", \"BR\", \"BR\"], p=4)"
   ]
  },
  {
   "cell_type": "code",
   "execution_count": null,
   "metadata": {
    "tags": [
     "remove_cell"
    ]
   },
   "outputs": [],
   "source": [
    "def random_select(df, p, n_samples):\n",
    "    max_index = len(df) - p\n",
    "    rand_idx, rand_col = [], []\n",
    "    for _ in range(n_samples):\n",
    "        rand_idx.append(\n",
    "            random.randint(0, max_index - 2)\n",
    "        )  # instead of -1 only, we also need to account for the target value\n",
    "        rand_col.append(random.choice(df.columns))\n",
    "    return rand_idx, rand_col"
   ]
  },
  {
   "cell_type": "code",
   "execution_count": null,
   "metadata": {
    "tags": [
     "remove_cell"
    ]
   },
   "outputs": [],
   "source": [
    "n_samples = 1000  # with replacement"
   ]
  },
  {
   "cell_type": "code",
   "execution_count": null,
   "metadata": {
    "tags": [
     "remove_cell"
    ]
   },
   "outputs": [],
   "source": [
    "p = 24\n",
    "\n",
    "idx, col = random_select(df_infl_train_n, p=p, n_samples=n_samples)\n",
    "train_samples = dense_layer_io(df=df_infl_train_n, idx=idx, col=col, p=p)\n",
    "\n",
    "idx, col = random_select(df_infl_valid_n, p=p, n_samples=n_samples)\n",
    "valid_samples = dense_layer_io(df=df_infl_valid_n, idx=idx, col=col, p=p)"
   ]
  },
  {
   "cell_type": "markdown",
   "metadata": {},
   "source": [
    "### Model"
   ]
  },
  {
   "cell_type": "code",
   "execution_count": null,
   "metadata": {
    "tags": [
     "remove_cell"
    ]
   },
   "outputs": [],
   "source": [
    "# nn_linear = dense_layer(size=p)\n",
    "\n",
    "nn_linear = keras.Sequential(\n",
    "    [\n",
    "        layers.Input((p,)),\n",
    "        layers.Dense(32, activation=\"relu\"),\n",
    "        layers.Dense(5, activation=\"relu\"),\n",
    "        layers.Dense(1),\n",
    "    ]\n",
    ")"
   ]
  },
  {
   "cell_type": "code",
   "execution_count": null,
   "metadata": {
    "tags": [
     "remove_cell"
    ]
   },
   "outputs": [],
   "source": [
    "nn_linear.summary()"
   ]
  },
  {
   "cell_type": "code",
   "execution_count": null,
   "metadata": {
    "tags": [
     "remove_cell"
    ]
   },
   "outputs": [],
   "source": [
    "nn_linear.layers[0].get_weights()"
   ]
  },
  {
   "cell_type": "code",
   "execution_count": null,
   "metadata": {
    "tags": [
     "remove_cell"
    ]
   },
   "outputs": [],
   "source": [
    "nn_linear.layers[1].get_weights()"
   ]
  },
  {
   "cell_type": "code",
   "execution_count": null,
   "metadata": {
    "tags": [
     "remove_cell"
    ]
   },
   "outputs": [],
   "source": [
    "nn_linear.compile(\n",
    "    loss=keras.losses.MeanSquaredError(),\n",
    "    optimizer=keras.optimizers.Adam(learning_rate=1e-3),\n",
    "    metrics=[keras.metrics.RootMeanSquaredError(name=\"rmse\")],\n",
    ")"
   ]
  },
  {
   "cell_type": "code",
   "execution_count": null,
   "metadata": {
    "tags": [
     "remove_cell"
    ]
   },
   "outputs": [],
   "source": [
    "assert nn_linear(train_samples[0]).shape == train_samples[1].shape"
   ]
  },
  {
   "cell_type": "code",
   "execution_count": null,
   "metadata": {
    "tags": [
     "remove_cell"
    ]
   },
   "outputs": [],
   "source": [
    "history_dense = nn_linear.fit(\n",
    "    x=train_samples[0],\n",
    "    y=train_samples[1],\n",
    "    batch_size=10,\n",
    "    epochs=500,\n",
    "    validation_data=valid_samples,\n",
    "    callbacks=[keras.callbacks.EarlyStopping(patience=10)],\n",
    ")"
   ]
  },
  {
   "cell_type": "code",
   "execution_count": null,
   "metadata": {
    "tags": [
     "remove_cell"
    ]
   },
   "outputs": [],
   "source": [
    "train_loss = history_dense.history[\"rmse\"]\n",
    "val_loss = history_dense.history[\"val_rmse\"]\n",
    "\n",
    "epochs = range(1, len(train_loss) + 1)\n",
    "\n",
    "plt.plot(epochs, train_loss, \"bo-\", label=\"Training RMSE\")\n",
    "plt.plot(epochs, val_loss, \"ro-\", label=\"Validation RMSE\")\n",
    "plt.title(\"Training and Validation RMSE\")\n",
    "plt.xlabel(\"Epochs\")\n",
    "plt.ylabel(\"RMSE\")\n",
    "plt.legend()\n",
    "\n",
    "plt.show()"
   ]
  },
  {
   "cell_type": "markdown",
   "metadata": {},
   "source": [
    "## LSTM neural network"
   ]
  },
  {
   "cell_type": "code",
   "execution_count": null,
   "metadata": {
    "tags": [
     "remove_cell"
    ]
   },
   "outputs": [],
   "source": [
    "def lstm_io(\n",
    "    df,  # Pandas DataFrame with the data\n",
    "    idx: [Int],  # DataFrame indedx\n",
    "    col: [str],  # Column name\n",
    "    p: Int,  # Number of lags\n",
    "):\n",
    "    # Return an (input, output) tuple for a dense_layer model\n",
    "\n",
    "    assert len(idx) == len(col)\n",
    "\n",
    "    batch_X, batch_y = [], []\n",
    "    for i in range(len(idx)):\n",
    "        X = df.iloc[idx[i] : (idx[i] + p)].values\n",
    "        X[np.isnan(X)] = 0\n",
    "        batch_X.append(X)\n",
    "        batch_y.append(df.iloc[idx[i] + p][[col[i]]].values)\n",
    "\n",
    "    return np.vstack(batch_X), np.vstack(batch_y)"
   ]
  },
  {
   "cell_type": "code",
   "execution_count": null,
   "metadata": {
    "tags": [
     "remove_cell"
    ]
   },
   "outputs": [],
   "source": [
    "lstm = layers.LSTM(units=64, return_sequences=True, return_state=False)\n",
    "fl = layers.Flatten()"
   ]
  },
  {
   "cell_type": "code",
   "execution_count": null,
   "metadata": {
    "tags": [
     "remove_cell"
    ]
   },
   "outputs": [],
   "source": [
    "train_samples[0][:5].shape"
   ]
  },
  {
   "cell_type": "code",
   "execution_count": null,
   "metadata": {
    "tags": [
     "remove_cell"
    ]
   },
   "outputs": [],
   "source": [
    "nn_lstm = keras.Sequential(\n",
    "    [\n",
    "        layers.LSTM(units=64, return_sequences=True, return_state=False, dropout=0.1),\n",
    "        # layers.LSTM(units=1, return_sequences=False, return_state=False, dropout=0.1),\n",
    "        layers.Flatten(),\n",
    "        layers.Dense(15, activation=\"relu\"),\n",
    "        layers.Dense(1),\n",
    "    ]\n",
    ")"
   ]
  },
  {
   "cell_type": "code",
   "execution_count": null,
   "metadata": {
    "tags": [
     "remove_cell"
    ]
   },
   "outputs": [],
   "source": [
    "assert (\n",
    "    nn_lstm(np.expand_dims(train_samples[0], axis=-1)).shape == train_samples[1].shape\n",
    ")"
   ]
  },
  {
   "cell_type": "code",
   "execution_count": null,
   "metadata": {
    "tags": [
     "remove_cell"
    ]
   },
   "outputs": [],
   "source": [
    "nn_lstm.summary()"
   ]
  },
  {
   "cell_type": "code",
   "execution_count": null,
   "metadata": {
    "tags": [
     "remove_cell"
    ]
   },
   "outputs": [],
   "source": [
    "nn_lstm.compile(\n",
    "    loss=keras.losses.MeanSquaredError(),\n",
    "    optimizer=keras.optimizers.Adam(learning_rate=1e-3),\n",
    "    metrics=[keras.metrics.RootMeanSquaredError(name=\"rmse\")],\n",
    ")"
   ]
  },
  {
   "cell_type": "code",
   "execution_count": null,
   "metadata": {
    "tags": [
     "remove_cell"
    ]
   },
   "outputs": [],
   "source": [
    "history_lstm = nn_lstm.fit(\n",
    "    x=train_samples[0],\n",
    "    y=train_samples[1],\n",
    "    batch_size=10,\n",
    "    epochs=500,\n",
    "    validation_data=valid_samples,\n",
    "    callbacks=[keras.callbacks.EarlyStopping(patience=10)],\n",
    ")"
   ]
  },
  {
   "cell_type": "code",
   "execution_count": null,
   "metadata": {
    "tags": [
     "remove_cell"
    ]
   },
   "outputs": [],
   "source": [
    "train_loss = history_lstm.history[\"rmse\"]\n",
    "val_loss = history_lstm.history[\"val_rmse\"]\n",
    "\n",
    "epochs = range(1, len(train_loss) + 1)\n",
    "\n",
    "plt.plot(epochs, train_loss, \"bo-\", label=\"Training RMSE\")\n",
    "plt.plot(epochs, val_loss, \"ro-\", label=\"Validation RMSE\")\n",
    "plt.title(\"Training and Validation RMSE\")\n",
    "plt.xlabel(\"Epochs\")\n",
    "plt.ylabel(\"RMSE\")\n",
    "plt.legend()\n",
    "\n",
    "plt.show()"
   ]
  },
  {
   "cell_type": "markdown",
   "metadata": {},
   "source": [
    "## LSTM with other countries' inflation data"
   ]
  },
  {
   "cell_type": "markdown",
   "metadata": {},
   "source": [
    "The difference between this and the previous one is that it is not only autoregressive, but also considers past data from other countries."
   ]
  },
  {
   "cell_type": "markdown",
   "metadata": {},
   "source": [
    "### Data formatting"
   ]
  },
  {
   "cell_type": "code",
   "execution_count": null,
   "metadata": {
    "tags": [
     "remove_cell"
    ]
   },
   "outputs": [],
   "source": [
    "def lstm_cty_io(\n",
    "    df,  # Pandas DataFrame with the data\n",
    "    idx: [Int],  # DataFrame indedx\n",
    "    col: [str],  # Column name\n",
    "    p: Int,  # Number of lags\n",
    "):\n",
    "    # Return an (input, output) tuple for a dense_layer model\n",
    "\n",
    "    assert len(idx) == len(col)\n",
    "\n",
    "    batch_X, batch_y = [], []\n",
    "    for i in range(len(idx)):\n",
    "        X = df.iloc[idx[i] : (idx[i] + p)].values\n",
    "        X[np.isnan(X)] = 0\n",
    "        batch_X.append(X)\n",
    "        batch_y.append(df.iloc[idx[i] + p][[col[i]]].values)\n",
    "\n",
    "    return np.stack(batch_X, axis=0), np.vstack(\n",
    "        batch_y\n",
    "    )  # np.vstack(batch_X), np.vstack(batch_y)"
   ]
  },
  {
   "cell_type": "code",
   "execution_count": null,
   "metadata": {
    "tags": [
     "remove_cell"
    ]
   },
   "outputs": [],
   "source": [
    "lstm_cty_io(df=df_infl_train, idx=[3, 4, 5], col=[\"BR\", \"BR\", \"BR\"], p=4)[0].shape"
   ]
  },
  {
   "cell_type": "code",
   "execution_count": null,
   "metadata": {
    "tags": [
     "remove_cell"
    ]
   },
   "outputs": [],
   "source": [
    "p = 24\n",
    "\n",
    "idx, col = random_select(df_infl_train_n, p=p, n_samples=n_samples)\n",
    "train_samples = lstm_cty_io(df=df_infl_train_n, idx=idx, col=col, p=p)\n",
    "\n",
    "idx, col = random_select(df_infl_valid_n, p=p, n_samples=n_samples)\n",
    "valid_samples = lstm_cty_io(df=df_infl_valid_n, idx=idx, col=col, p=p)"
   ]
  },
  {
   "cell_type": "code",
   "execution_count": null,
   "metadata": {
    "tags": [
     "remove_cell"
    ]
   },
   "outputs": [],
   "source": [
    "train_samples[0].shape"
   ]
  },
  {
   "cell_type": "markdown",
   "metadata": {},
   "source": [
    "### Model"
   ]
  },
  {
   "cell_type": "code",
   "execution_count": null,
   "metadata": {
    "tags": [
     "remove_cell"
    ]
   },
   "outputs": [],
   "source": [
    "nn_lstm_cty = keras.Sequential(\n",
    "    [\n",
    "        layers.LSTM(units=1052, return_sequences=True, return_state=False, dropout=0.1),\n",
    "        layers.LSTM(units=64, return_sequences=True, return_state=False, dropout=0.1),\n",
    "        # layers.LSTM(units=1, return_sequences=False, return_state=False, dropout=0.1),\n",
    "        layers.Flatten(),\n",
    "        layers.Dense(32, activation=\"relu\"),\n",
    "        layers.Dense(1),\n",
    "    ]\n",
    ")"
   ]
  },
  {
   "cell_type": "code",
   "execution_count": null,
   "metadata": {
    "tags": [
     "remove_cell"
    ]
   },
   "outputs": [],
   "source": [
    "nn_lstm_cty.summary()"
   ]
  },
  {
   "cell_type": "code",
   "execution_count": null,
   "metadata": {
    "tags": [
     "remove_cell"
    ]
   },
   "outputs": [],
   "source": [
    "assert nn_lstm_cty(train_samples[0]).shape == train_samples[1].shape"
   ]
  },
  {
   "cell_type": "code",
   "execution_count": null,
   "metadata": {
    "tags": [
     "remove_cell"
    ]
   },
   "outputs": [],
   "source": [
    "nn_lstm_cty.compile(\n",
    "    loss=keras.losses.MeanSquaredError(),\n",
    "    optimizer=keras.optimizers.Adam(learning_rate=1e-3),\n",
    "    metrics=[keras.metrics.RootMeanSquaredError(name=\"rmse\")],\n",
    ")"
   ]
  },
  {
   "cell_type": "code",
   "execution_count": null,
   "metadata": {
    "tags": [
     "remove_cell"
    ]
   },
   "outputs": [],
   "source": [
    "train_samples[0].shape"
   ]
  },
  {
   "cell_type": "code",
   "execution_count": null,
   "metadata": {
    "tags": [
     "remove_cell"
    ]
   },
   "outputs": [],
   "source": [
    "history_lstm_cty = nn_lstm_cty.fit(\n",
    "    x=train_samples[0],\n",
    "    y=train_samples[1],\n",
    "    batch_size=20,\n",
    "    epochs=500,\n",
    "    validation_data=valid_samples,\n",
    "    callbacks=[keras.callbacks.EarlyStopping(patience=10)],\n",
    ")"
   ]
  },
  {
   "cell_type": "code",
   "execution_count": null,
   "metadata": {
    "tags": [
     "remove_cell"
    ]
   },
   "outputs": [],
   "source": [
    "train_loss = history_lstm_cty.history[\"rmse\"]\n",
    "val_loss = history_lstm_cty.history[\"val_rmse\"]\n",
    "\n",
    "epochs = range(1, len(train_loss) + 1)\n",
    "\n",
    "plt.plot(epochs, train_loss, \"bo-\", label=\"Training RMSE\")\n",
    "plt.plot(epochs, val_loss, \"ro-\", label=\"Validation RMSE\")\n",
    "plt.title(\"Training and Validation RMSE\")\n",
    "plt.xlabel(\"Epochs\")\n",
    "plt.ylabel(\"RMSE\")\n",
    "plt.legend()\n",
    "\n",
    "plt.show()"
   ]
  },
  {
   "cell_type": "markdown",
   "metadata": {},
   "source": [
    "## Model with date features\n",
    "\n",
    "Repeating date features (eg, day in the week, month, quarter and year, week in the month, quarter and year, month in the quarter and year, and quarter in year) can be embedded and included in the model."
   ]
  },
  {
   "cell_type": "code",
   "execution_count": null,
   "metadata": {
    "tags": [
     "remove_cell"
    ]
   },
   "outputs": [],
   "source": [
    "# nn_lstm_datefeat = layers.LSTM()"
   ]
  },
  {
   "cell_type": "markdown",
   "metadata": {},
   "source": [
    "## Creating a TFT model"
   ]
  },
  {
   "cell_type": "code",
   "execution_count": null,
   "metadata": {
    "tags": [
     "remove_cell"
    ]
   },
   "outputs": [],
   "source": [
    "tft = TemporalFusionTransformer(\n",
    "    time_steps=12,\n",
    "    input_size=20,\n",
    "    output_size=4,\n",
    "    category_counts=5,\n",
    "    n_workers=2,  # Number of multiprocessing workers\n",
    "    # TFT params\n",
    "    input_obs_loc=24,\n",
    "    static_input_loc=24,\n",
    "    known_regular_input_idx=24,\n",
    "    known_categorical_input_idx=24,\n",
    "    column_definition=None,\n",
    ")"
   ]
  },
  {
   "cell_type": "code",
   "execution_count": null,
   "metadata": {
    "tags": [
     "remove_cell"
    ]
   },
   "outputs": [],
   "source": [
    "tft.time_steps"
   ]
  },
  {
   "cell_type": "markdown",
   "metadata": {},
   "source": [
    "# Test"
   ]
  },
  {
   "cell_type": "code",
   "execution_count": null,
   "metadata": {
    "tags": [
     "remove_cell"
    ]
   },
   "outputs": [],
   "source": [
    "batch_size = 3\n",
    "n_timesteps = 4\n",
    "\n",
    "univariate_x = np.ones(shape=(batch_size, n_timesteps))\n",
    "univariate_x = keras.ops.expand_dims(univariate_x, axis=-1)\n",
    "univariate_x.shape"
   ]
  },
  {
   "cell_type": "code",
   "execution_count": null,
   "metadata": {
    "tags": [
     "remove_cell"
    ]
   },
   "outputs": [],
   "source": [
    "lstm = layers.LSTM(\n",
    "    units=6,\n",
    "    return_sequences=True,\n",
    "    return_state=False,\n",
    ")"
   ]
  },
  {
   "cell_type": "code",
   "execution_count": null,
   "metadata": {
    "tags": [
     "remove_cell"
    ]
   },
   "outputs": [],
   "source": [
    "transf_x = lstm(univariate_x)\n",
    "transf_x.shape, keras.ops.concatenate([transf_x, transf_x], axis=1).shape"
   ]
  },
  {
   "cell_type": "code",
   "execution_count": null,
   "metadata": {
    "tags": [
     "remove_cell"
    ]
   },
   "outputs": [],
   "source": [
    "transf_x.shape"
   ]
  },
  {
   "cell_type": "markdown",
   "metadata": {
    "vscode": {
     "languageId": "python"
    }
   },
   "source": [
    "# References {.unnumbered}"
   ]
  },
  {
   "cell_type": "markdown",
   "metadata": {},
   "source": []
  }
 ],
 "metadata": {
  "kernelspec": {
   "display_name": "Python 3 (ipykernel)",
   "language": "python",
   "name": "python3"
  },
  "language_info": {
   "codemirror_mode": {
    "name": "ipython",
    "version": 3
   },
   "file_extension": ".py",
   "mimetype": "text/x-python",
   "name": "python",
   "nbconvert_exporter": "python",
   "pygments_lexer": "ipython3",
   "version": "3.11.7"
  },
  "vscode": {
   "interpreter": {
    "hash": "977c2d9435ad3a481cf1bbece8d5ecb19e078de55648a0a0bad32b79c2e18340"
   }
  }
 },
 "nbformat": 4,
 "nbformat_minor": 4
}
